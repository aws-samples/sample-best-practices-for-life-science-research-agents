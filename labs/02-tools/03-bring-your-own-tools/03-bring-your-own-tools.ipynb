{
 "cells": [
  {
   "cell_type": "markdown",
   "id": "2d534971-cb20-4752-9331-a3f98339eced",
   "metadata": {},
   "source": [
    "# Use Tools to Search PubMed Central for Scientific Articles\n",
    "\n",
    "In this notebook, you'll create a research agent using Strands that can query the PubMed Central (PMC) journal database for information about scientific discoveries.\n",
    "\n",
    "## 1. Prerequisites\n",
    "\n",
    "- Python 3.10 or later\n",
    "- AWS account configured with appropriate permissions\n",
    "- Access to the Anthropic Claude Sonnet 4 model on Amazon Bedrock\n",
    "- Basic understanding of Python programming"
   ]
  },
  {
   "cell_type": "code",
   "execution_count": null,
   "id": "722465ef-f70b-48fc-9b78-d4d8a49f30b2",
   "metadata": {
    "scrolled": true
   },
   "outputs": [],
   "source": [
    "%pip install -U boto3 strands-agents strands-agents-tools defusedxml httpx bedrock_agentcore_starter_toolkit"
   ]
  },
  {
   "cell_type": "markdown",
   "id": "96912844-0b45-43e6-a233-286045130e7d",
   "metadata": {},
   "source": [
    "## 2. Basic Prompt without Context"
   ]
  },
  {
   "cell_type": "markdown",
   "id": "2c283a6b",
   "metadata": {},
   "source": [
    "To begin, we'll create a basic agent and see how well it can answer a scientific question without any additional context."
   ]
  },
  {
   "cell_type": "code",
   "execution_count": null,
   "id": "fd3e83c5-005b-41af-8fa5-303f75f00f7e",
   "metadata": {},
   "outputs": [],
   "source": [
    "from strands import Agent\n",
    "\n",
    "MODEL_ID = \"global.anthropic.claude-sonnet-4-20250514-v1:0\"\n",
    "QUERY = \"How safe and effective are GLP-1 drugs for long term use?\"\n",
    "\n",
    "SYSTEM_PROMPT = \"\"\"\n",
    "    You are a specialized life science research agent. Your role is to:\n",
    "    1. Search PubMed Central for medical papers related to the query\n",
    "    2. Extract and summarize the most relevant clinical findings\n",
    "    3. Identify key research groups and methodologies\n",
    "    4. Return structured, well-cited information with PMCID references\n",
    "    \"\"\"\n",
    "\n",
    "# Initialize your agent\n",
    "agent = Agent(system_prompt=SYSTEM_PROMPT, model=MODEL_ID)\n",
    "\n",
    "# Send a message to the agent\n",
    "response = agent(QUERY)"
   ]
  },
  {
   "cell_type": "markdown",
   "id": "4d8e03cf-6bd2-4739-bfae-c875abeedd76",
   "metadata": {},
   "source": [
    "Copy and paste a few of the PMCIDs in the previous cell into the [PMC web search](https://pmc.ncbi.nlm.nih.gov/). Notice anything unusual? They likely point to completely unrelated resources! Without additional context, LLMs will do their best to generate IDs that seem convincing - they may even return real IDs included in their training data. However, if we want our agent to consistently return accurate, up-to-date results we need to provide it with a tool."
   ]
  },
  {
   "cell_type": "markdown",
   "id": "33c8e13b-12f7-4125-9c68-493b69f876cb",
   "metadata": {},
   "source": [
    "## 3. Search PMC for Scientific Abstracts"
   ]
  },
  {
   "cell_type": "markdown",
   "id": "8e59d15c",
   "metadata": {},
   "source": [
    "Let's see if we can improve the performance of our agent by giving it a tool. To start, we've created a custom tool called `search_pmc_tool` that uses the PMC API to identify relevant scientific article abstracts. This tool has some special features to help the agent focus on the most relevant articles:\n",
    "\n",
    "- It limits the search to only articles licensed for commercial use\n",
    "- For each article in the search results, the tool calculates how many OTHER articles include it as a reference. These are likely to be the most impactful and valuable to the agent\n",
    "\n",
    "You can look at the `search_pmc_tool` code at `search_pmc.py`."
   ]
  },
  {
   "cell_type": "code",
   "execution_count": null,
   "id": "cbca2f29-3e6d-417c-a25b-beb31433cd5f",
   "metadata": {
    "scrolled": true
   },
   "outputs": [],
   "source": [
    "from strands import Agent\n",
    "from search_pmc import search_pmc_tool\n",
    "\n",
    "MODEL_ID = \"global.anthropic.claude-sonnet-4-20250514-v1:0\"\n",
    "QUERY = \"How safe and effective are GLP-1 drugs for long term use?\"\n",
    "\n",
    "SYSTEM_PROMPT = \"\"\"You are a life science research assistant. When given a scientific question, follow this process:\n",
    "\n",
    "1. Use search_pmc_tool to find highly-cited papers. Search broadly first, then narrow down. Use temporal filters like \"last 2 years\"[dp] for recent work.\n",
    "2. Extract and summarize the most relevant clinical findings.\n",
    "3. Return structured, well-cited information with PMC ID references.\n",
    "4. Return URL links associated with PMCID references\n",
    "\"\"\"\n",
    "\n",
    "\n",
    "# Initialize your agent\n",
    "agent = Agent(system_prompt=SYSTEM_PROMPT, tools=[search_pmc_tool], model=MODEL_ID)\n",
    "\n",
    "# Send a message to the agent\n",
    "response = agent(QUERY)"
   ]
  },
  {
   "cell_type": "markdown",
   "id": "85059df2",
   "metadata": {},
   "source": [
    "The additional information makes the agent response much more detailed. Try [searching](https://pmc.ncbi.nlm.nih.gov/) for the PMCIDs again. This time they should link to the correct articles."
   ]
  },
  {
   "cell_type": "markdown",
   "id": "bad2831a-cad8-4c41-a0e5-9503e1a503f4",
   "metadata": {},
   "source": [
    "## 4. Deploy to Amazon Bedrock AgentCore Runtime"
   ]
  },
  {
   "cell_type": "markdown",
   "id": "eac6f7f3",
   "metadata": {},
   "source": [
    "In this step, we'll deploy the agent definition found in the `agent` folder to Amazon Bedrock AgentCore runtime. Let's start by taking a look at our agent code. Notice the `@app.entrypoint` decorator on the `strands_agent_bedrock` function. This is how we tell the AgentCore Runtime how to run the agent."
   ]
  },
  {
   "cell_type": "code",
   "execution_count": null,
   "id": "29d44063",
   "metadata": {},
   "outputs": [],
   "source": [
    "%pycat agent.py"
   ]
  },
  {
   "cell_type": "code",
   "execution_count": null,
   "id": "5c0d37a9",
   "metadata": {},
   "outputs": [],
   "source": [
    "import boto3\n",
    "from bedrock_agentcore_starter_toolkit import Runtime\n",
    "\n",
    "ssm = boto3.client(\"ssm\")\n",
    "\n",
    "agentcore_runtime = Runtime()\n",
    "agentcore_runtime.configure(\n",
    "    agent_name=\"pmc_abstract_agent\",\n",
    "    auto_create_ecr=True,\n",
    "    execution_role=ssm.get_parameter(\n",
    "        Name=\"/deep-research-workshop/agentcore-runtime-role-arn\"\n",
    "    )[\"Parameter\"][\"Value\"],\n",
    "    entrypoint=\"agent.py\",\n",
    "    memory_mode=\"NO_MEMORY\",\n",
    "    requirements_file=\"requirements.txt\",\n",
    ")"
   ]
  },
  {
   "cell_type": "code",
   "execution_count": null,
   "id": "51b3cba9",
   "metadata": {},
   "outputs": [],
   "source": [
    "agentcore_runtime.launch(auto_update_on_conflict=True)"
   ]
  },
  {
   "cell_type": "code",
   "execution_count": null,
   "id": "a73bdb00",
   "metadata": {},
   "outputs": [],
   "source": [
    "agentcore_runtime.invoke(\n",
    "    {\"prompt\": \"How safe and effective are GLP-1 drugs for long term use?\"}\n",
    ")"
   ]
  },
  {
   "cell_type": "markdown",
   "id": "7541b4f1",
   "metadata": {},
   "source": [
    "## 5. (Optional) Interact with agent using AgentCore Chat\n",
    "\n",
    "Follow these steps to open an interactive chat session with your new agent.\n",
    "\n",
    "1. Open a command line terminal in your notebook environment.\n",
    "2. Navigate to the project root folder (where `pyproject.toml` is located).\n",
    "3. Run `pip install .` to install the workshop tools including the chat CLI.\n",
    "4. Run `agentcore-chat` to launch the CLI.\n",
    "5. Select the `pmc_abstract_agent` by typing its name or index in the terminal and press Enter.\n",
    "6. Ask your question at the `You:` prompt and press Enter.\n"
   ]
  },
  {
   "cell_type": "markdown",
   "id": "fd841b58",
   "metadata": {},
   "source": [
    "## 6. (Optional) Clean Up\n",
    "\n",
    "Run the next notebook cell to delete the AgentCore runtime environment."
   ]
  },
  {
   "cell_type": "code",
   "execution_count": null,
   "id": "7ecca64f",
   "metadata": {},
   "outputs": [],
   "source": [
    "import boto3\n",
    "\n",
    "agentcore_client = boto3.client(\"bedrock-agentcore-control\")\n",
    "agent_status = agentcore_runtime.status()\n",
    "\n",
    "agentcore_client.delete_agent_runtime(agentRuntimeId=agent_status.config.agent_id)"
   ]
  }
 ],
 "metadata": {
  "kernelspec": {
   "display_name": ".venv",
   "language": "python",
   "name": "python3"
  },
  "language_info": {
   "codemirror_mode": {
    "name": "ipython",
    "version": 3
   },
   "file_extension": ".py",
   "mimetype": "text/x-python",
   "name": "python",
   "nbconvert_exporter": "python",
   "pygments_lexer": "ipython3",
   "version": "3.12.9"
  }
 },
 "nbformat": 4,
 "nbformat_minor": 5
}
