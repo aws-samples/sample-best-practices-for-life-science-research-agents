{
 "cells": [
  {
   "cell_type": "markdown",
   "id": "2d534971-cb20-4752-9331-a3f98339eced",
   "metadata": {},
   "source": [
    "# Multi-Agent Orchestration\n",
    "\n",
    "In this notebook, you'll create a team of agents that can create detailed research reports.\n",
    "\n",
    "## 1. Prerequisites\n",
    "\n",
    "- Python 3.12 or later\n",
    "- AWS account configured with appropriate permissions\n",
    "- Access to the Anthropic Claude 3.7 Sonnet model in Amazon Bedrock\n",
    "- Basic understanding of Python programming"
   ]
  },
  {
   "cell_type": "code",
   "execution_count": null,
   "id": "722465ef-f70b-48fc-9b78-d4d8a49f30b2",
   "metadata": {
    "scrolled": true
   },
   "outputs": [],
   "source": [
    "%pip install -U -r requirements.txt"
   ]
  },
  {
   "cell_type": "code",
   "execution_count": null,
   "id": "217d7e17-be9a-474e-b683-d3f7ccd69b34",
   "metadata": {},
   "outputs": [],
   "source": [
    "import logging\n",
    "\n",
    "# Sets the logging format and streams logs to stderr\n",
    "logging.basicConfig(\n",
    "    level=logging.INFO,\n",
    "    format=\"%(levelname)s | %(name)s | %(message)s\", \n",
    "    handlers=[logging.StreamHandler()]\n",
    ")\n",
    "\n",
    "# Enables Strands warnings log level\n",
    "logging.getLogger(\"strands\").setLevel(logging.WARNING)"
   ]
  },
  {
   "cell_type": "code",
   "execution_count": null,
   "id": "b9d16ed8",
   "metadata": {},
   "outputs": [],
   "source": [
    "MODEL_ID = \"global.anthropic.claude-sonnet-4-20250514-v1:0\""
   ]
  },
  {
   "cell_type": "markdown",
   "id": "105450c4",
   "metadata": {},
   "source": [
    "## 2. Experimentation"
   ]
  },
  {
   "cell_type": "code",
   "execution_count": null,
   "id": "b19e4d6d",
   "metadata": {},
   "outputs": [],
   "source": [
    "from strands import Agent\n",
    "from gather_evidence import gather_evidence_tool\n",
    "\n",
    "\n",
    "agent = Agent(model=MODEL_ID, tools=[gather_evidence_tool])\n",
    "\n",
    "response = agent.tool.gather_evidence_tool(pmcid=\"PMC9438179\", question=\"How safe and effective are GLP-1 drugs for long term use?\")\n"
   ]
  },
  {
   "cell_type": "code",
   "execution_count": null,
   "id": "d55a6832",
   "metadata": {},
   "outputs": [],
   "source": [
    "formatted_response = {\n",
    "    \"toolUseId\": response.get('toolUseId'),\n",
    "    \"status\": response.get('status'),\n",
    "    \"pmcid\": response['content'][1]['json'][\"pmcid\"],\n",
    "    \"citation\": response['content'][1]['json'][\"citation\"],\n",
    "    \"question\": response['content'][1]['json'][\"question\"],\n",
    "    \"answer\": response['content'][0]['text'],\n",
    "    \"evidence\": [evidence['context'] for evidence in response['content'][1]['json']['evidence']]\n",
    "}\n",
    "formatted_response"
   ]
  },
  {
   "cell_type": "markdown",
   "id": "d01543dc",
   "metadata": {},
   "source": [
    "### 2.1. DynamoDB stuff"
   ]
  },
  {
   "cell_type": "markdown",
   "id": "8d8bb83f",
   "metadata": {},
   "source": [
    "Create table"
   ]
  },
  {
   "cell_type": "code",
   "execution_count": null,
   "id": "710d8276",
   "metadata": {},
   "outputs": [],
   "source": [
    "import boto3\n",
    "\n",
    "dynamodb = boto3.resource(\"dynamodb\")\n",
    "\n",
    "# Check if table exists\n",
    "table_name = \"research-evidence\"\n",
    "try:\n",
    "    table = dynamodb.Table(table_name)\n",
    "    table.load()\n",
    "    print(f\"Table '{table_name}' already exists\")\n",
    "except:\n",
    "    # Create table if it doesn't exist\n",
    "    table = dynamodb.create_table(\n",
    "        TableName=table_name,\n",
    "        KeySchema=[{\"AttributeName\": \"toolUseId\", \"KeyType\": \"HASH\"}],\n",
    "        AttributeDefinitions=[\n",
    "            {\"AttributeName\": \"toolUseId\", \"AttributeType\": \"S\"},\n",
    "            {\"AttributeName\": \"pmcid\", \"AttributeType\": \"S\"},\n",
    "        ],\n",
    "        GlobalSecondaryIndexes=[\n",
    "            {\n",
    "                \"IndexName\": \"pmcid-index\",\n",
    "                \"KeySchema\": [{\"AttributeName\": \"pmcid\", \"KeyType\": \"HASH\"}],\n",
    "                \"Projection\": {\"ProjectionType\": \"ALL\"},\n",
    "            }\n",
    "        ],\n",
    "        BillingMode=\"PAY_PER_REQUEST\",\n",
    "    )\n",
    "\n",
    "    table.wait_until_exists()\n",
    "    # print(f\"Table '{table_name}' created\")"
   ]
  },
  {
   "cell_type": "markdown",
   "id": "ca2c0614",
   "metadata": {},
   "source": [
    "Insert record"
   ]
  },
  {
   "cell_type": "code",
   "execution_count": null,
   "id": "76cad25a",
   "metadata": {},
   "outputs": [],
   "source": [
    "# Example record\n",
    "\n",
    "example = {\n",
    "    \"toolUseId\": \"tooluse_gather_evidence_tool_242995659\",\n",
    "    \"status\": \"success\",\n",
    "    \"pmcid\": \"PMC9438179\",\n",
    "    \"citation\": 'Nauck, Michael A., and David A. D\\'Alessio. \"Tirzepatide, a dual GIP/GLP-1 receptor co-agonist for the treatment of type 2 diabetes with unmatched effectiveness regrading glycaemic control and body weight reduction.\" *Cardiovascular Diabetology*, vol. 21, no. 169, 1 Sept. 2022, doi:10.1186/s12933-022-01604-7.',\n",
    "    \"question\": \"How safe and effective are GLP-1 drugs for long term use?\",\n",
    "    \"answer\": \"Based on the available evidence, GLP-1 receptor agonists demonstrate favorable safety and efficacy profiles for long-term use. Specifically, tirzepatide, a dual GLP-1/GIP receptor co-agonist, shows sustained glycemic control and weight loss over 52-week treatment periods (Nauck2022 chunk 2). The safety profile appears acceptable, with adverse event rates and cardiovascular outcomes comparable to existing GLP-1 receptor agonist comparators (Nauck2022 chunk 2).\\n\\nThe long-term effectiveness is characterized by maintained glycemic control and continued weight reduction benefits throughout the 52-week study duration (Nauck2022 chunk 2). From a safety perspective, the cardiovascular outcomes data suggest no increased risk compared to established GLP-1 receptor agonist therapies (Nauck2022 chunk 2).\\n\\nHowever, the provided context is limited to data from tirzepatide studies over a 52-week period. While this dual agonist represents an advancement in the GLP-1 therapeutic class with unmatched effectiveness regarding glycemic control and body weight reduction, comprehensive long-term safety data beyond one year and broader evidence across the entire class of GLP-1 receptor agonists would be needed for a more complete assessment of long-term safety and efficacy (Nauck2022 chunk 2).\",\n",
    "    \"evidence\": [\n",
    "        \"In 26‑ to 40‑week trials, GLP‑1 agonists dulaglutide (1.5\\u202fmg) and semaglutide (1\\u202fmg) lowered HbA1c by ~1.1–1.9% and reduced weight by 2.7–7.8\\u202fkg. Gastro‑intestinal events occurred in 30‑40% of patients, with 4‑11% discontinuing, indicating good long‑term efficacy and acceptable safety.\",\n",
    "        \"Phase‑2/3 trials of tirzepatide, a GLP‑1/GIP co‑agonist, demonstrate sustained glycaemic control and weight loss over 52‑week periods, with safety data—including adverse‑event rates and cardiovascular outcomes—comparable to GLP‑1RA comparators, indicating effective and acceptable long‑term use.\",\n",
    "        \"Tirzepatide, a dual GIP/GLP‑1 agonist, provides robust HbA1c reductions (up to\\u202f2.4%), significant weight loss, and a favorable cardiovascular profile (MACE hazard ratios below 1.3, no excess risk). Its 5‑day half‑life supports weekly dosing, and pharmacokinetics are unchanged in renal or hepatic impairment, indicating good long‑term safety and efficacy.\",\n",
    "        \"Long‑term GLP‑1 receptor agonists (e.g., semaglutide) consistently lower HbA1c and body weight, improve insulin sensitivity, and reduce appetite. Dual GIP/GLP‑1 agonist tirzepatide shows even greater, sustained reductions in glucose and weight, with no major safety signals reported, though data on GIP‑related effects remain limited.\",\n",
    "        \"Clinical data show GLP‑1‑based therapies provide durable glycaemic control, significant weight loss, and improved cardiovascular risk biomarkers over months to years, with a safety profile dominated by transient nausea that can be mitigated (e.g., by GIP co‑agonism).\",\n",
    "    ],\n",
    "}\n",
    "\n",
    "import boto3\n",
    "\n",
    "dynamodb = boto3.resource('dynamodb')\n",
    "table = dynamodb.Table(table_name)\n",
    "\n",
    "response = table.put_item(\n",
    "    Item=example\n",
    ")\n"
   ]
  },
  {
   "cell_type": "markdown",
   "id": "0be81789",
   "metadata": {},
   "source": [
    "Get record"
   ]
  },
  {
   "cell_type": "code",
   "execution_count": null,
   "id": "87c32ad6",
   "metadata": {},
   "outputs": [],
   "source": [
    "import boto3\n",
    "\n",
    "dynamodb = boto3.resource('dynamodb')\n",
    "table = dynamodb.Table(table_name)\n",
    "\n",
    "response = table.get_item(\n",
    "    Key={\n",
    "        'toolUseId': 'tooluse_gather_evidence_tool_242995659'\n",
    "    }\n",
    ")\n",
    "response.get(\"Item\")"
   ]
  },
  {
   "cell_type": "markdown",
   "id": "bfa3b0fe",
   "metadata": {},
   "source": [
    "Query by secondary index"
   ]
  },
  {
   "cell_type": "code",
   "execution_count": null,
   "id": "cae3db27",
   "metadata": {},
   "outputs": [],
   "source": [
    "import boto3\n",
    "from boto3.dynamodb.conditions import Key\n",
    "\n",
    "dynamodb = boto3.resource(\"dynamodb\")\n",
    "table = dynamodb.Table(table_name)\n",
    "\n",
    "response = table.query(\n",
    "    IndexName=\"pmcid-index\", KeyConditionExpression=Key(\"pmcid\").eq(\"PMC9438179\")\n",
    ")\n",
    "response.get(\"Items\")"
   ]
  },
  {
   "cell_type": "code",
   "execution_count": null,
   "id": "136e048e",
   "metadata": {},
   "outputs": [],
   "source": []
  }
 ],
 "metadata": {
  "kernelspec": {
   "display_name": ".venv",
   "language": "python",
   "name": "python3"
  },
  "language_info": {
   "codemirror_mode": {
    "name": "ipython",
    "version": 3
   },
   "file_extension": ".py",
   "mimetype": "text/x-python",
   "name": "python",
   "nbconvert_exporter": "python",
   "pygments_lexer": "ipython3",
   "version": "3.12.9"
  }
 },
 "nbformat": 4,
 "nbformat_minor": 5
}
