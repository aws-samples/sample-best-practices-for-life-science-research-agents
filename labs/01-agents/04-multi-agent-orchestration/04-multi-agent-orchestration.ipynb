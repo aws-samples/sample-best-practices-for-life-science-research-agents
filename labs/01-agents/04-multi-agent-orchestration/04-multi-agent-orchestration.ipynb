{
 "cells": [
  {
   "cell_type": "markdown",
   "id": "2d534971-cb20-4752-9331-a3f98339eced",
   "metadata": {},
   "source": [
    "# Multi-Agent Orchestration\n",
    "\n",
    "In this notebook, you'll create a team of agents that can create detailed research reports.\n",
    "\n",
    "Plan:\n",
    "\n",
    "1. Define PMC agent\n",
    "2. Define writing agents\n",
    "3. Define lead agents\n",
    "\n",
    "## 1. Prerequisites\n",
    "\n",
    "- Python 3.12 or later\n",
    "- AWS account configured with appropriate permissions\n",
    "- Access to the Anthropic Claude 3.7 Sonnet model in Amazon Bedrock\n",
    "- Basic understanding of Python programming"
   ]
  },
  {
   "cell_type": "code",
   "execution_count": null,
   "id": "722465ef-f70b-48fc-9b78-d4d8a49f30b2",
   "metadata": {
    "scrolled": true
   },
   "outputs": [],
   "source": [
    "%pip install -U -r requirements.txt"
   ]
  },
  {
   "cell_type": "code",
   "execution_count": null,
   "id": "217d7e17-be9a-474e-b683-d3f7ccd69b34",
   "metadata": {},
   "outputs": [],
   "source": [
    "import logging\n",
    "\n",
    "# Sets the logging format and streams logs to stderr\n",
    "logging.basicConfig(\n",
    "    level=logging.INFO,\n",
    "    format=\"%(levelname)s | %(name)s | %(message)s\", \n",
    "    handlers=[logging.StreamHandler()]\n",
    ")\n",
    "\n",
    "# Enables Strands warnings log level\n",
    "logging.getLogger(\"strands\").setLevel(logging.WARNING)"
   ]
  },
  {
   "cell_type": "code",
   "execution_count": null,
   "id": "b9d16ed8",
   "metadata": {},
   "outputs": [],
   "source": [
    "MODEL_ID = \"global.anthropic.claude-sonnet-4-20250514-v1:0\""
   ]
  },
  {
   "cell_type": "markdown",
   "id": "105450c4",
   "metadata": {},
   "source": [
    "## 2. Experimentation"
   ]
  },
  {
   "cell_type": "code",
   "execution_count": null,
   "id": "b19e4d6d",
   "metadata": {},
   "outputs": [],
   "source": [
    "from strands import Agent\n",
    "from gather_evidence import gather_evidence_tool\n",
    "\n",
    "agent = Agent(model=MODEL_ID, tools=[gather_evidence_tool])\n",
    "response = agent.tool.gather_evidence_tool(pmcid=\"PMC9438179\", question=\"How safe and effective are GLP-1 drugs for long term use?\")"
   ]
  },
  {
   "cell_type": "code",
   "execution_count": null,
   "id": "d55a6832",
   "metadata": {},
   "outputs": [],
   "source": [
    "formatted_response = {\n",
    "    \"toolUseId\": response.get('toolUseId'),\n",
    "    \"pmcid\": response['content'][1]['json'][\"pmcid\"],\n",
    "    \"citation\": response['content'][1]['json'][\"citation\"],\n",
    "    \"question\": response['content'][1]['json'][\"question\"],\n",
    "    \"answer\": response['content'][0]['text'],\n",
    "    \"evidence\": [evidence['context'] for evidence in response['content'][1]['json']['evidence']]\n",
    "}\n",
    "formatted_response"
   ]
  },
  {
   "cell_type": "markdown",
   "id": "d01543dc",
   "metadata": {},
   "source": [
    "### 2.1. DynamoDB stuff"
   ]
  },
  {
   "cell_type": "markdown",
   "id": "8d8bb83f",
   "metadata": {},
   "source": [
    "Create table"
   ]
  },
  {
   "cell_type": "code",
   "execution_count": null,
   "id": "710d8276",
   "metadata": {},
   "outputs": [],
   "source": [
    "import boto3\n",
    "\n",
    "dynamodb = boto3.resource(\"dynamodb\")\n",
    "\n",
    "# Check if table exists\n",
    "table_name = \"deep-research-evidence\"\n",
    "try:\n",
    "    table = dynamodb.Table(table_name)\n",
    "    table.load()\n",
    "    print(f\"Table '{table_name}' already exists\")\n",
    "except:\n",
    "    # Create table if it doesn't exist\n",
    "    table = dynamodb.create_table(\n",
    "        TableName=table_name,\n",
    "        KeySchema=[{\"AttributeName\": \"toolUseId\", \"KeyType\": \"HASH\"}],\n",
    "        AttributeDefinitions=[\n",
    "            {\"AttributeName\": \"toolUseId\", \"AttributeType\": \"S\"},\n",
    "            {\"AttributeName\": \"pmcid\", \"AttributeType\": \"S\"},\n",
    "        ],\n",
    "        GlobalSecondaryIndexes=[\n",
    "            {\n",
    "                \"IndexName\": \"pmcid-index\",\n",
    "                \"KeySchema\": [{\"AttributeName\": \"pmcid\", \"KeyType\": \"HASH\"}],\n",
    "                \"Projection\": {\"ProjectionType\": \"ALL\"},\n",
    "            }\n",
    "        ],\n",
    "        BillingMode=\"PAY_PER_REQUEST\",\n",
    "    )\n",
    "\n",
    "    table.wait_until_exists()"
   ]
  },
  {
   "cell_type": "markdown",
   "id": "ca2c0614",
   "metadata": {},
   "source": [
    "Insert example record"
   ]
  },
  {
   "cell_type": "code",
   "execution_count": null,
   "id": "76cad25a",
   "metadata": {},
   "outputs": [],
   "source": [
    "# Example record\n",
    "\n",
    "example = {\n",
    "    \"toolUseId\": \"tooluse_gather_evidence_tool_242995659\",\n",
    "    \"pmcid\": \"PMC9438179\",\n",
    "    \"citation\": 'Nauck, Michael A., and David A. D\\'Alessio. \"Tirzepatide, a dual GIP/GLP-1 receptor co-agonist for the treatment of type 2 diabetes with unmatched effectiveness regrading glycaemic control and body weight reduction.\" *Cardiovascular Diabetology*, vol. 21, no. 169, 1 Sept. 2022, doi:10.1186/s12933-022-01604-7.',\n",
    "    \"question\": \"How safe and effective are GLP-1 drugs for long term use?\",\n",
    "    \"answer\": \"Based on the available evidence, GLP-1 receptor agonists demonstrate favorable safety and efficacy profiles for long-term use. Specifically, tirzepatide, a dual GLP-1/GIP receptor co-agonist, shows sustained glycemic control and weight loss over 52-week treatment periods (Nauck2022 chunk 2). The safety profile appears acceptable, with adverse event rates and cardiovascular outcomes comparable to existing GLP-1 receptor agonist comparators (Nauck2022 chunk 2).\\n\\nThe long-term effectiveness is characterized by maintained glycemic control and continued weight reduction benefits throughout the 52-week study duration (Nauck2022 chunk 2). From a safety perspective, the cardiovascular outcomes data suggest no increased risk compared to established GLP-1 receptor agonist therapies (Nauck2022 chunk 2).\\n\\nHowever, the provided context is limited to data from tirzepatide studies over a 52-week period. While this dual agonist represents an advancement in the GLP-1 therapeutic class with unmatched effectiveness regarding glycemic control and body weight reduction, comprehensive long-term safety data beyond one year and broader evidence across the entire class of GLP-1 receptor agonists would be needed for a more complete assessment of long-term safety and efficacy (Nauck2022 chunk 2).\",\n",
    "    \"evidence\": [\n",
    "        \"In 26‑ to 40‑week trials, GLP‑1 agonists dulaglutide (1.5\\u202fmg) and semaglutide (1\\u202fmg) lowered HbA1c by ~1.1–1.9% and reduced weight by 2.7–7.8\\u202fkg. Gastro‑intestinal events occurred in 30‑40% of patients, with 4‑11% discontinuing, indicating good long‑term efficacy and acceptable safety.\",\n",
    "        \"Phase‑2/3 trials of tirzepatide, a GLP‑1/GIP co‑agonist, demonstrate sustained glycaemic control and weight loss over 52‑week periods, with safety data—including adverse‑event rates and cardiovascular outcomes—comparable to GLP‑1RA comparators, indicating effective and acceptable long‑term use.\",\n",
    "        \"Tirzepatide, a dual GIP/GLP‑1 agonist, provides robust HbA1c reductions (up to\\u202f2.4%), significant weight loss, and a favorable cardiovascular profile (MACE hazard ratios below 1.3, no excess risk). Its 5‑day half‑life supports weekly dosing, and pharmacokinetics are unchanged in renal or hepatic impairment, indicating good long‑term safety and efficacy.\",\n",
    "        \"Long‑term GLP‑1 receptor agonists (e.g., semaglutide) consistently lower HbA1c and body weight, improve insulin sensitivity, and reduce appetite. Dual GIP/GLP‑1 agonist tirzepatide shows even greater, sustained reductions in glucose and weight, with no major safety signals reported, though data on GIP‑related effects remain limited.\",\n",
    "        \"Clinical data show GLP‑1‑based therapies provide durable glycaemic control, significant weight loss, and improved cardiovascular risk biomarkers over months to years, with a safety profile dominated by transient nausea that can be mitigated (e.g., by GIP co‑agonism).\",\n",
    "    ],\n",
    "}\n",
    "\n",
    "import boto3\n",
    "\n",
    "dynamodb = boto3.resource('dynamodb')\n",
    "table = dynamodb.Table(table_name)\n",
    "\n",
    "response = table.put_item(\n",
    "    Item=example\n",
    ")\n"
   ]
  },
  {
   "cell_type": "markdown",
   "id": "0be81789",
   "metadata": {},
   "source": [
    "Get record"
   ]
  },
  {
   "cell_type": "code",
   "execution_count": null,
   "id": "87c32ad6",
   "metadata": {},
   "outputs": [],
   "source": [
    "import boto3\n",
    "\n",
    "dynamodb = boto3.resource('dynamodb')\n",
    "table = dynamodb.Table(table_name)\n",
    "\n",
    "response = table.get_item(\n",
    "    Key={\n",
    "        'toolUseId': 'tooluse_gather_evidence_tool_242995659'\n",
    "    }\n",
    ")\n",
    "response.get(\"Item\")"
   ]
  },
  {
   "cell_type": "markdown",
   "id": "bfa3b0fe",
   "metadata": {},
   "source": [
    "Query by secondary index"
   ]
  },
  {
   "cell_type": "code",
   "execution_count": null,
   "id": "cae3db27",
   "metadata": {},
   "outputs": [],
   "source": [
    "import boto3\n",
    "from boto3.dynamodb.conditions import Key\n",
    "\n",
    "dynamodb = boto3.resource(\"dynamodb\")\n",
    "table = dynamodb.Table(table_name)\n",
    "\n",
    "response = table.query(\n",
    "    IndexName=\"pmcid-index\", KeyConditionExpression=Key(\"pmcid\").eq(\"PMC9438179\")\n",
    ")\n",
    "response.get(\"Items\")"
   ]
  },
  {
   "cell_type": "markdown",
   "id": "136e048e",
   "metadata": {},
   "source": [
    "## 3. Define PMC Research Agent\n",
    "\n",
    "This agent will be similar to the gather evidence agent we created in notebook 2, but with a change in how the evidence is stored. To avoid the \"game of telephone\" problem, we are going to deterministically store the gathered evidence in a DynamoDB table. This is a big advantage to building AI agents on AWS - they can leverage any of the 200+ services to store and process data.\n",
    "\n",
    "Let's test out the updated tool to see how it works.\n",
    "\n",
    "First, we create a DynamoDB table, with `toolUseId` as the primary key and `pmcid` as a global secondary id. This gives us the flexibility to extract evidence records either by tool use or paper. "
   ]
  },
  {
   "cell_type": "code",
   "execution_count": null,
   "id": "7b279954",
   "metadata": {},
   "outputs": [],
   "source": [
    "import boto3\n",
    "\n",
    "dynamodb = boto3.resource(\"dynamodb\")\n",
    "\n",
    "# Check if table exists\n",
    "table_name = \"deep-research-evidence\"\n",
    "try:\n",
    "    table = dynamodb.Table(table_name)\n",
    "    table.load()\n",
    "    print(f\"Table '{table_name}' already exists\")\n",
    "except:\n",
    "    # Create table if it doesn't exist\n",
    "    table = dynamodb.create_table(\n",
    "        TableName=table_name,\n",
    "        KeySchema=[{\"AttributeName\": \"toolUseId\", \"KeyType\": \"HASH\"}],\n",
    "        AttributeDefinitions=[\n",
    "            {\"AttributeName\": \"toolUseId\", \"AttributeType\": \"S\"},\n",
    "            {\"AttributeName\": \"pmcid\", \"AttributeType\": \"S\"},\n",
    "        ],\n",
    "        GlobalSecondaryIndexes=[\n",
    "            {\n",
    "                \"IndexName\": \"pmcid-index\",\n",
    "                \"KeySchema\": [{\"AttributeName\": \"pmcid\", \"KeyType\": \"HASH\"}],\n",
    "                \"Projection\": {\"ProjectionType\": \"ALL\"},\n",
    "            }\n",
    "        ],\n",
    "        BillingMode=\"PAY_PER_REQUEST\",\n",
    "    )\n",
    "\n",
    "    table.wait_until_exists()"
   ]
  },
  {
   "cell_type": "markdown",
   "id": "e8ca42d2",
   "metadata": {},
   "source": [
    "Next, we run our agent with the updated `gather_evidence` tool and pass the db table name as an environment variable."
   ]
  },
  {
   "cell_type": "code",
   "execution_count": null,
   "id": "cd03eeb1",
   "metadata": {},
   "outputs": [],
   "source": [
    "from strands import Agent\n",
    "from search_pmc import search_pmc_tool\n",
    "from gather_evidence import gather_evidence_tool\n",
    "import os\n",
    "\n",
    "MODEL_ID = \"global.anthropic.claude-sonnet-4-20250514-v1:0\"\n",
    "QUERY = \"How safe and effective are GLP-1 drugs for long term use?\"\n",
    "\n",
    "SYSTEM_PROMPT = \"\"\"You are a life science research assistant. When given a scientific question, follow this process:\n",
    "\n",
    "1. Use search_pmc_tool with max_search_result_count between 200 and 500 and max_filtered_result_count between 10 and 20 to find highly-cited papers. Search broadly first, then narrow down. Use temporal filters like \"last 5 years\"[dp] for recent work. \n",
    "2. Identify the PMC ID value for the most relevant paper, then submit the ID and the query to the gather_evidence_tool.\n",
    "3. Generate a concise answer to the question based on the most relevant evidence, along with PMC ID and URL citations\n",
    "\"\"\"\n",
    "\n",
    "os.environ['EVIDENCE_TABLE_NAME'] = table_name\n",
    "\n",
    "\n",
    "# Initialize your agent\n",
    "pmc_research_agent = Agent(\n",
    "    system_prompt=SYSTEM_PROMPT,\n",
    "    tools=[search_pmc_tool, gather_evidence_tool],\n",
    "    model=MODEL_ID,\n",
    ")\n",
    "\n",
    "# Send a message to the agent\n",
    "response = pmc_research_agent(QUERY)"
   ]
  },
  {
   "cell_type": "markdown",
   "id": "b8c5870c",
   "metadata": {},
   "source": [
    "Let's look at the new records in our db table"
   ]
  },
  {
   "cell_type": "code",
   "execution_count": null,
   "id": "4be57396",
   "metadata": {},
   "outputs": [],
   "source": [
    "dynamodb = boto3.resource(\"dynamodb\")\n",
    "\n",
    "# Check if table exists\n",
    "table_name = \"deep-research-evidence\"\n",
    "table = dynamodb.Table(table_name)\n",
    "\n",
    "records = [record for record in table.scan().get('Items')]\n",
    "records"
   ]
  },
  {
   "cell_type": "markdown",
   "id": "3fd36be0",
   "metadata": {},
   "source": [
    "We can also query for a records from a specific PMC ID"
   ]
  },
  {
   "cell_type": "code",
   "execution_count": null,
   "id": "e972756b",
   "metadata": {},
   "outputs": [],
   "source": [
    "example_pmc_id = records[0][\"pmcid\"]\n",
    "print(example_pmc_id)"
   ]
  },
  {
   "cell_type": "code",
   "execution_count": null,
   "id": "b8ee6ccc",
   "metadata": {},
   "outputs": [],
   "source": [
    "import boto3\n",
    "from boto3.dynamodb.conditions import Key\n",
    "dynamodb = boto3.resource(\"dynamodb\")\n",
    "table_name = \"deep-research-evidence\"\n",
    "table = dynamodb.Table(table_name)\n",
    "\n",
    "\n",
    "response = table.query(\n",
    "    IndexName=\"pmcid-index\", KeyConditionExpression=Key(\"pmcid\").eq(example_pmc_id)\n",
    ")\n",
    "example_db_records = response.get('Items')\n",
    "example_db_records"
   ]
  },
  {
   "cell_type": "markdown",
   "id": "873da989",
   "metadata": {},
   "source": [
    "We'll use our `pmc_research_agent` again later in this notebook"
   ]
  },
  {
   "cell_type": "markdown",
   "id": "5f6cf0ae",
   "metadata": {},
   "source": [
    "## 4. Define Technical Writing Agent\n",
    "\n",
    "Next, we'll build our writing agent. This agent will take in a question and citations and use the Anthropic Claude citations API to add citations. Let's test how this works with the Amazon Bedrock InvokeModel API \n",
    "\n",
    "Ref: https://docs.claude.com/en/docs/build-with-claude/citations"
   ]
  },
  {
   "cell_type": "code",
   "execution_count": null,
   "id": "aa47639b",
   "metadata": {},
   "outputs": [],
   "source": [
    "import boto3\n",
    "import json\n",
    "\n",
    "bedrock_client = boto3.client('bedrock-runtime')\n",
    "\n",
    "example_request = {\n",
    "    \"anthropic_version\": \"bedrock-2023-05-31\",\n",
    "    \"messages\": [\n",
    "        {\n",
    "            \"role\": \"user\",\n",
    "            \"content\": [\n",
    "                {\n",
    "                    \"type\": \"document\",\n",
    "                    \"source\": {\n",
    "                        \"type\": \"text\",\n",
    "                        \"media_type\": \"text/plain\",\n",
    "                        \"data\": \"Based on the available context, specific recommendations for managing gastrointestinal adverse events during GLP-1 receptor agonist (GLP-1 RA) therapy include several key strategies. Management emphasizes comprehensive patient education, initiating treatment with low starting doses, and implementing gradual dose titration to minimize adverse events (Gorgojo2023 chunk 2). Dietary adjustments and ongoing monitoring are also essential components of the management approach (Gorgojo2023 chunk 2).\\n\\nRegarding clinical experience with long-term safety, GI adverse events occur in 40-85% of patients receiving GLP-1 RAs, but these events are typically mild and transient in nature (Gorgojo2023 chunk 2). The adverse events generally resolve following dose escalation, indicating that patients can adapt to therapy over time (Gorgojo2023 chunk 2). \\n\\nLong-term safety data demonstrate a favorable profile, with most events classified as non-serious and low rates of permanent treatment discontinuation (Gorgojo2023 chunk 2). This clinical experience supports the overall safety profile of GLP-1 RAs for long-term use (Gorgojo2023 chunk 2). The combination of appropriate management strategies and the generally mild, self-limiting nature of GI adverse events allows most patients to continue therapy successfully over extended periods.\",\n",
    "                    },\n",
    "                    \"title\": \"PMC9821052\",\n",
    "                    \"citations\": {\"enabled\": True},\n",
    "                },\n",
    "                {\n",
    "                    \"type\": \"document\",\n",
    "                    \"source\": {\n",
    "                        \"type\": \"text\",\n",
    "                        \"media_type\": \"text/plain\",\n",
    "                        \"data\": \"Long-term GLP-1 receptor agonist therapy demonstrates sustained efficacy in maintaining glycemic control and promoting weight loss (Zheng2024 chunk 55). However, therapeutic effectiveness may plateau over extended treatment periods, with studies indicating this limitation is associated with increased orbitofrontal reward activation, as observed with liraglutide (Zheng2024 chunk 55).\\n\\nThe adverse event profile is predominantly gastrointestinal, with nausea and vomiting representing the most common side effects (Zheng2024 chunk 55). Serious but rare adverse events include pancreatitis and gallbladder disease (Zheng2024 chunk 55).\\n\\nSeveral absolute contraindications exist for long-term GLP-1 receptor agonist use. Patients with a personal or family history of medullary thyroid carcinoma should not receive these agents (Zheng2024 chunk 55). Multiple endocrine neoplasia type 2 (MEN 2) also represents a contraindication (Zheng2024 chunk 55). Additionally, severe gastrointestinal disorders preclude the use of these medications (Zheng2024 chunk 55).\\n\\nThe safety and efficacy profile supports long-term use in appropriate patients, though careful patient selection is essential given the specific contraindications, particularly those related to thyroid malignancy risk and pre-existing gastrointestinal pathology.\",\n",
    "                    },\n",
    "                    \"title\": \"PMC9821052\",\n",
    "                    \"citations\": {\"enabled\": True},\n",
    "                },                \n",
    "                {\n",
    "                    \"type\": \"text\",\n",
    "                    \"text\": \"What is the long-term safety profile and effectiveness of GLP-1 receptor agonists? What are the main adverse events and contraindications for long-term use?\",\n",
    "                },\n",
    "            ],\n",
    "        }\n",
    "    ],\n",
    "    \"max_tokens\": 1024,\n",
    "}\n",
    "\n",
    "response = bedrock_client.invoke_model(\n",
    "    modelId=\"us.anthropic.claude-sonnet-4-20250514-v1:0\",\n",
    "    contentType=\"application/json\",\n",
    "    accept=\"application/json\",\n",
    "    body=json.dumps(example_request),\n",
    ")\n",
    "\n",
    "response_body = json.loads(response[\"body\"].read())\n",
    "\n",
    "print(response_body.get('content'))"
   ]
  },
  {
   "cell_type": "markdown",
   "id": "73abb879",
   "metadata": {},
   "source": [
    "We can now format the response into a citated output"
   ]
  },
  {
   "cell_type": "code",
   "execution_count": null,
   "id": "8ef9effd",
   "metadata": {},
   "outputs": [],
   "source": [
    "def print_cited_response(response_content: dict) -> None:\n",
    "    citations = []\n",
    "    for content_item in response_content:\n",
    "        print(content_item.get(\"text\"), end=\"\")\n",
    "        for citation in content_item.get(\"citations\", []):\n",
    "            title = citation.get(\"document_title\")\n",
    "            if title not in citations:\n",
    "                citations.append(title)\n",
    "            print(f\" ({citations.index(title)+1})\", end=\"\")\n",
    "\n",
    "    print(\"\\n\")\n",
    "    print(\"## References\")\n",
    "    for i, title in enumerate(citations, start=1):\n",
    "        print(f\"{i}. https://www.ncbi.nlm.nih.gov/pmc/articles/{title}\")\n",
    "    return None\n",
    "\n",
    "print_cited_response(response_body.get('content'))"
   ]
  },
  {
   "cell_type": "markdown",
   "id": "8ace79ff",
   "metadata": {},
   "source": [
    "Let's try it with an example record from our db"
   ]
  },
  {
   "cell_type": "code",
   "execution_count": null,
   "id": "39e3702c",
   "metadata": {},
   "outputs": [],
   "source": [
    "# Defined above\n",
    "example_db_records "
   ]
  },
  {
   "cell_type": "code",
   "execution_count": null,
   "id": "6ff7d0b7",
   "metadata": {},
   "outputs": [],
   "source": [
    "import boto3\n",
    "import json\n",
    "\n",
    "contents = []\n",
    "for record in example_db_records:\n",
    "    contents.append(\n",
    "        {\n",
    "            \"type\": \"document\",\n",
    "            \"source\": {\n",
    "                \"type\": \"content\",\n",
    "                \"content\": [\n",
    "                    # In this case, we join all of the evidence items together.\n",
    "                    {\"type\": \"text\", \"text\": \"\".join(record.get(\"evidence\"))}\n",
    "                    # If we wanted to reference individual chunks, we could also do:\n",
    "                    # {\"type\": \"text\", \"text\": evidence}\n",
    "                    # for evidence in record.get(\"evidence\")\n",
    "                ],\n",
    "            },\n",
    "            \"title\": record.get(\"pmcid\"),\n",
    "            \"context\": record.get(\"answer\"),\n",
    "            \"citations\": {\"enabled\": True},\n",
    "        },\n",
    "    )\n",
    "\n",
    "\n",
    "contents.append(\n",
    "    {\n",
    "        \"type\": \"text\",\n",
    "        \"text\": \"What is the long-term safety profile and effectiveness of GLP-1 receptor agonists? What are the main adverse events and contraindications for long-term use?\",\n",
    "    },\n",
    ")\n",
    "\n",
    "print(\"Bedrock InvokeModel request contents are:\\n\")\n",
    "for i in contents:\n",
    "    print(i)\n",
    "print()\n",
    "\n",
    "bedrock_client = boto3.client(\"bedrock-runtime\")\n",
    "\n",
    "example_request = {\n",
    "    \"anthropic_version\": \"bedrock-2023-05-31\",\n",
    "    \"messages\": [{\"role\": \"user\", \"content\": contents}],\n",
    "    \"max_tokens\": 1024,\n",
    "}\n",
    "\n",
    "response = bedrock_client.invoke_model(\n",
    "    modelId=\"us.anthropic.claude-sonnet-4-20250514-v1:0\",\n",
    "    contentType=\"application/json\",\n",
    "    accept=\"application/json\",\n",
    "    body=json.dumps(example_request),\n",
    ")\n",
    "\n",
    "response_body = json.loads(response[\"body\"].read())\n",
    "\n",
    "print_cited_response(response_body.get('content'))"
   ]
  },
  {
   "cell_type": "code",
   "execution_count": null,
   "id": "b90d4b1e",
   "metadata": {},
   "outputs": [],
   "source": []
  }
 ],
 "metadata": {
  "kernelspec": {
   "display_name": ".venv",
   "language": "python",
   "name": "python3"
  },
  "language_info": {
   "codemirror_mode": {
    "name": "ipython",
    "version": 3
   },
   "file_extension": ".py",
   "mimetype": "text/x-python",
   "name": "python",
   "nbconvert_exporter": "python",
   "pygments_lexer": "ipython3",
   "version": "3.12.9"
  }
 },
 "nbformat": 4,
 "nbformat_minor": 5
}
