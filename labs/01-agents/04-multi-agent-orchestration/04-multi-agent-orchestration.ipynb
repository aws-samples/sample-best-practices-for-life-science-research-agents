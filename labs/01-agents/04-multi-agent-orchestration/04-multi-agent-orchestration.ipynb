{
 "cells": [
  {
   "cell_type": "markdown",
   "id": "2d534971-cb20-4752-9331-a3f98339eced",
   "metadata": {},
   "source": [
    "# Multi-Agent Orchestration\n",
    "\n",
    "In this notebook, you'll create a team of agents that can create detailed research reports.\n",
    "\n",
    "Here's how this will work:\n",
    "\n",
    "1. User ask question to lead agent.\n",
    "2. Lead agent (LA) decomposes question and creates report outline.\n",
    "3. Lead agent calls research agent (RA) with instructions for section 1.\n",
    "4. RA examines instructions and calls `search_pmc` and `gather_evidence` tools multiple times. Every time `gather_evidence` finishes, it saves an evidence record to DynamoDB.\n",
    "6. RA returns a research summary and source information to LA.\n",
    "7. LA updates outline with information from RA.\n",
    "8. Repeat steps 3-7 for all outline sections.\n",
    "9. Once research is complete, LA submits outline to writing agent (WA).\n",
    "10. WA retrieves evidence records from DynamoDB and generates report text with inline citations using Claude citation API.\n",
    "11. WA reports completion to LA\n",
    "12. LA shares final report with user.\n",
    "\n",
    "## 1. Prerequisites\n",
    "\n",
    "- Python 3.12 or later\n",
    "- AWS account configured with appropriate permissions\n",
    "- Access to the Anthropic Claude 3.7 Sonnet model in Amazon Bedrock\n",
    "- Basic understanding of Python programming"
   ]
  },
  {
   "cell_type": "code",
   "execution_count": null,
   "id": "722465ef-f70b-48fc-9b78-d4d8a49f30b2",
   "metadata": {
    "scrolled": true
   },
   "outputs": [],
   "source": [
    "%pip install -U -r requirements.txt"
   ]
  },
  {
   "cell_type": "code",
   "execution_count": 1,
   "id": "b9d16ed8",
   "metadata": {},
   "outputs": [],
   "source": [
    "MODEL_ID = \"global.anthropic.claude-sonnet-4-20250514-v1:0\""
   ]
  },
  {
   "cell_type": "markdown",
   "id": "136e048e",
   "metadata": {},
   "source": [
    "## 2. Define PMC Research Agent\n",
    "\n",
    "This agent will be similar to the gather evidence agent we created in notebook 2, but with a change in how the evidence is stored. To avoid the \"game of telephone\" problem, we are going to deterministically store the gathered evidence in a DynamoDB table. This is a big advantage to building AI agents on AWS - they can leverage any of the 200+ services to store and process data.\n",
    "\n",
    "Let's test out the updated tool to see how it works.\n",
    "\n",
    "First, we create a DynamoDB table, with `toolUseId` as the primary key and `pmcid` as a global secondary id. This gives us the flexibility to extract evidence records either by tool use or paper. "
   ]
  },
  {
   "cell_type": "code",
   "execution_count": null,
   "id": "7b279954",
   "metadata": {},
   "outputs": [],
   "source": [
    "import boto3\n",
    "\n",
    "dynamodb = boto3.resource(\"dynamodb\")\n",
    "\n",
    "# Check if table exists\n",
    "table_name = \"deep-research-evidence\"\n",
    "try:\n",
    "    table = dynamodb.Table(table_name)\n",
    "    table.load()\n",
    "    print(f\"Table '{table_name}' already exists\")\n",
    "except:\n",
    "    # Create table if it doesn't exist\n",
    "    table = dynamodb.create_table(\n",
    "        TableName=table_name,\n",
    "        KeySchema=[{\"AttributeName\": \"evidence_id\", \"KeyType\": \"HASH\"}],\n",
    "        AttributeDefinitions=[\n",
    "            {\"AttributeName\": \"evidence_id\", \"AttributeType\": \"S\"},\n",
    "            {\"AttributeName\": \"pmc_id\", \"AttributeType\": \"S\"},\n",
    "        ],\n",
    "        GlobalSecondaryIndexes=[\n",
    "            {\n",
    "                \"IndexName\": \"pmc_id_index\",\n",
    "                \"KeySchema\": [{\"AttributeName\": \"pmc_id\", \"KeyType\": \"HASH\"}],\n",
    "                \"Projection\": {\"ProjectionType\": \"ALL\"},\n",
    "            }\n",
    "        ],\n",
    "        BillingMode=\"PAY_PER_REQUEST\",\n",
    "    )\n",
    "\n",
    "    table.wait_until_exists()"
   ]
  },
  {
   "cell_type": "markdown",
   "id": "e8ca42d2",
   "metadata": {},
   "source": [
    "Next, we directly invoke the updated `gather_evidence` tool and pass the db table name as an environment variable."
   ]
  },
  {
   "cell_type": "code",
   "execution_count": 3,
   "id": "5d665d50",
   "metadata": {},
   "outputs": [
    {
     "name": "stderr",
     "output_type": "stream",
     "text": [
      "INFO | gather_evidence | Starting gather_evidence for PMCID: PMC9438179, question: How safe and effective are GLP-1 drugs for long term use?\n",
      "INFO | gather_evidence | Attempting to download s3://pmc-oa-opendata/oa_comm/txt/all/PMC9438179.txt to my_papers/PMC9438179/txt/PMC9438179.txt\n",
      "INFO | gather_evidence | Successfully downloaded file to my_papers/PMC9438179/txt/PMC9438179.txt\n",
      "INFO | gather_evidence | Successfully retrieved commercial article PMC9438179\n",
      "INFO | gather_evidence | Processing paper with paper-qa for question: How safe and effective are GLP-1 drugs for long term use?\n",
      "INFO | gather_evidence | Invoking paper-qa\n",
      "INFO | gather_evidence | Successfully answered question for PMC9438179\n",
      "INFO | gather_evidence | Saving record to deep-research-evidence\n",
      "INFO | gather_evidence | {'evidence_id': '73c5ecc3-f3d2-4134-bc9a-28d7316ad4ff', 'question': 'How safe and effective are GLP-1 drugs for long term use?', 'answer': \"Based on the available evidence, tirzepatide, a dual GLP-1/GIP receptor co-agonist, demonstrates favorable long-term safety and efficacy profiles. The Phase-3 SURPASS trials show sustained HbA1c reduction and weight loss over 52 weeks of treatment (Nauck2022 chunk 2). \\n\\nRegarding safety, tirzepatide exhibits a safety profile comparable to established GLP-1 receptor agonists, with no major cardiovascular safety signals identified during the 52-week study period (Nauck2022 chunk 2). This suggests that the dual receptor mechanism does not introduce additional cardiovascular risks beyond those associated with traditional GLP-1 therapies.\\n\\nFor efficacy, the sustained reductions in both glycemic control (HbA1c) and body weight over the full 52-week treatment period indicate maintained therapeutic benefits without significant attenuation of effect (Nauck2022 chunk 2). The long-term tolerability profile supports continued use without major discontinuation concerns (Nauck2022 chunk 2).\\n\\nHowever, the context provided focuses specifically on tirzepatide as a dual GLP-1/GIP co-agonist rather than traditional GLP-1 receptor agonists alone. While tirzepatide's safety and efficacy data are encouraging for long-term use, I cannot provide a comprehensive assessment of all GLP-1 drugs for long-term use based solely on this limited context.\", 'pmc_id': 'PMC9438179', 'context': ['In 26‑ to 40‑week trials, tirzepatide (a GIP/GLP‑1 co‑agonist) reduced HbA1c by up to 2.4% and body weight by up to 12.4\\u202fkg, outperforming dulaglutide and semaglutide. Gastro‑intestinal adverse events were common (up to 66% GI AEs, 24.5% discontinuations at 15\\u202fmg), but cardiovascular safety was favorable across SURPASS studies.', 'Phase‑3 SURPASS trials of tirzepatide (a GLP‑1/GIP co‑agonist) show sustained HbA1c reduction and weight loss over 52\\u202fweeks, with a safety profile comparable to GLP‑1R agonists and no major cardiovascular safety signals, supporting long‑term efficacy and tolerability.', 'Tirzepatide, a dual GIP/GLP‑1 agonist, shows strong long‑term efficacy: significant HbA1c reductions (up to 2.4%), weight loss (≈3\\u202fkg in 29\\u202fdays) and superior outcomes vs dulaglutide/semaglutide. Cardiovascular safety is acceptable (MACE HR\\u202f<\\u202f1.3, confidence intervals not indicating excess risk) and pharmacokinetics are unchanged in renal or hepatic impairment, suggesting no dose adjustment needed.', 'Clinical data show GLP‑1 receptor agonists (e.g., semaglutide) provide durable HbA1c reduction and significant weight loss; long‑term tirzepatide (dual GIP/GLP‑1) yields even greater glycaemic and weight benefits, improves insulin sensitivity, and has a tolerable safety profile with no major acute adverse effects reported.', 'Clinical data show GLP‑1 receptor agonists provide durable glycaemic control, weight loss, and improve cardiovascular risk biomarkers over months to years, with a generally favorable safety profile; nausea is the most common adverse effect, often lessened by GIP co‑agonism or dose titration.']}\n",
      "INFO | gather_evidence | Successfully saved record with evidence_id: 73c5ecc3-f3d2-4134-bc9a-28d7316ad4ff\n"
     ]
    },
    {
     "data": {
      "text/plain": [
       "{'status': 'success',\n",
       " 'content': [{'text': \"Based on the available evidence, tirzepatide, a dual GLP-1/GIP receptor co-agonist, demonstrates favorable long-term safety and efficacy profiles. The Phase-3 SURPASS trials show sustained HbA1c reduction and weight loss over 52 weeks of treatment (Nauck2022 chunk 2). \\n\\nRegarding safety, tirzepatide exhibits a safety profile comparable to established GLP-1 receptor agonists, with no major cardiovascular safety signals identified during the 52-week study period (Nauck2022 chunk 2). This suggests that the dual receptor mechanism does not introduce additional cardiovascular risks beyond those associated with traditional GLP-1 therapies.\\n\\nFor efficacy, the sustained reductions in both glycemic control (HbA1c) and body weight over the full 52-week treatment period indicate maintained therapeutic benefits without significant attenuation of effect (Nauck2022 chunk 2). The long-term tolerability profile supports continued use without major discontinuation concerns (Nauck2022 chunk 2).\\n\\nHowever, the context provided focuses specifically on tirzepatide as a dual GLP-1/GIP co-agonist rather than traditional GLP-1 receptor agonists alone. While tirzepatide's safety and efficacy data are encouraging for long-term use, I cannot provide a comprehensive assessment of all GLP-1 drugs for long-term use based solely on this limited context.\"},\n",
       "  {'json': {'evidence_id': '73c5ecc3-f3d2-4134-bc9a-28d7316ad4ff',\n",
       "    'question': 'How safe and effective are GLP-1 drugs for long term use?',\n",
       "    'pmc_id': 'PMC9438179',\n",
       "    'context': [{'chunk': 'Nauck2022 chunk 3',\n",
       "      'summary': 'In 26‑ to 40‑week trials, tirzepatide (a GIP/GLP‑1 co‑agonist) reduced HbA1c by up to 2.4% and body weight by up to 12.4\\u202fkg, outperforming dulaglutide and semaglutide. Gastro‑intestinal adverse events were common (up to 66% GI AEs, 24.5% discontinuations at 15\\u202fmg), but cardiovascular safety was favorable across SURPASS studies.'},\n",
       "     {'chunk': 'Nauck2022 chunk 2',\n",
       "      'summary': 'Phase‑3 SURPASS trials of tirzepatide (a GLP‑1/GIP co‑agonist) show sustained HbA1c reduction and weight loss over 52\\u202fweeks, with a safety profile comparable to GLP‑1R agonists and no major cardiovascular safety signals, supporting long‑term efficacy and tolerability.'},\n",
       "     {'chunk': 'Nauck2022 chunk 4',\n",
       "      'summary': 'Tirzepatide, a dual GIP/GLP‑1 agonist, shows strong long‑term efficacy: significant HbA1c reductions (up to 2.4%), weight loss (≈3\\u202fkg in 29\\u202fdays) and superior outcomes vs dulaglutide/semaglutide. Cardiovascular safety is acceptable (MACE HR\\u202f<\\u202f1.3, confidence intervals not indicating excess risk) and pharmacokinetics are unchanged in renal or hepatic impairment, suggesting no dose adjustment needed.'},\n",
       "     {'chunk': 'Nauck2022 chunk 9',\n",
       "      'summary': 'Clinical data show GLP‑1 receptor agonists (e.g., semaglutide) provide durable HbA1c reduction and significant weight loss; long‑term tirzepatide (dual GIP/GLP‑1) yields even greater glycaemic and weight benefits, improves insulin sensitivity, and has a tolerable safety profile with no major acute adverse effects reported.'},\n",
       "     {'chunk': 'Nauck2022 chunk 14',\n",
       "      'summary': 'Clinical data show GLP‑1 receptor agonists provide durable glycaemic control, weight loss, and improve cardiovascular risk biomarkers over months to years, with a generally favorable safety profile; nausea is the most common adverse effect, often lessened by GIP co‑agonism or dose titration.'}]}}],\n",
       " 'toolUseId': 'tooluse_gather_evidence_tool_346906262'}"
      ]
     },
     "execution_count": 3,
     "metadata": {},
     "output_type": "execute_result"
    }
   ],
   "source": [
    "from strands import Agent\n",
    "from search_pmc import search_pmc_tool\n",
    "from gather_evidence_ddb import gather_evidence_tool\n",
    "import os\n",
    "\n",
    "os.environ[\"EVIDENCE_TABLE_NAME\"] = table_name\n",
    "\n",
    "MODEL_ID = \"global.anthropic.claude-sonnet-4-20250514-v1:0\"\n",
    "agent = Agent(tools=[gather_evidence_tool], model=MODEL_ID)\n",
    "\n",
    "# Send a message to the agent\n",
    "agent.tool.gather_evidence_tool(\n",
    "    pmc_id=\"PMC9438179\",\n",
    "    question=\"How safe and effective are GLP-1 drugs for long term use?\",\n",
    ")"
   ]
  },
  {
   "cell_type": "code",
   "execution_count": null,
   "id": "cd03eeb1",
   "metadata": {},
   "outputs": [],
   "source": [
    "# from strands import Agent\n",
    "# from search_pmc import search_pmc_tool\n",
    "# from gather_evidence_ddb import gather_evidence_tool\n",
    "# import os\n",
    "\n",
    "# MODEL_ID = \"global.anthropic.claude-sonnet-4-20250514-v1:0\"\n",
    "# QUERY = \"How safe and effective are GLP-1 drugs for long term use?\"\n",
    "\n",
    "# SYSTEM_PROMPT = \"\"\"You are a life science research assistant. When given a scientific question, follow this process:\n",
    "\n",
    "# 1. Use search_pmc_tool with max_search_result_count between 200 and 500 and max_filtered_result_count between 10 and 20 to find highly-cited papers. Search broadly first, then narrow down. Use temporal filters like \"last 5 years\"[dp] for recent work. \n",
    "# 2. Identify the PMC ID value for the most relevant paper, then submit the ID and the query to the gather_evidence_tool.\n",
    "# 3. Generate a concise answer to the question based on the most relevant evidence, along with PMC ID and URL citations\n",
    "# \"\"\"\n",
    "\n",
    "# os.environ['EVIDENCE_TABLE_NAME'] = table_name\n",
    "\n",
    "\n",
    "# # Initialize your agent\n",
    "# pmc_research_agent = Agent(\n",
    "#     system_prompt=SYSTEM_PROMPT,\n",
    "#     tools=[search_pmc_tool, gather_evidence_tool],\n",
    "#     model=MODEL_ID,\n",
    "# )\n",
    "\n",
    "# # Send a message to the agent\n",
    "# response = pmc_research_agent(QUERY)"
   ]
  },
  {
   "cell_type": "markdown",
   "id": "b8c5870c",
   "metadata": {},
   "source": [
    "Let's look at the new records in our db table"
   ]
  },
  {
   "cell_type": "code",
   "execution_count": 4,
   "id": "4be57396",
   "metadata": {},
   "outputs": [
    {
     "data": {
      "text/plain": [
       "[{'evidence_id': '73c5ecc3-f3d2-4134-bc9a-28d7316ad4ff',\n",
       "  'question': 'How safe and effective are GLP-1 drugs for long term use?',\n",
       "  'context': ['In 26‑ to 40‑week trials, tirzepatide (a GIP/GLP‑1 co‑agonist) reduced HbA1c by up to 2.4% and body weight by up to 12.4\\u202fkg, outperforming dulaglutide and semaglutide. Gastro‑intestinal adverse events were common (up to 66% GI AEs, 24.5% discontinuations at 15\\u202fmg), but cardiovascular safety was favorable across SURPASS studies.',\n",
       "   'Phase‑3 SURPASS trials of tirzepatide (a GLP‑1/GIP co‑agonist) show sustained HbA1c reduction and weight loss over 52\\u202fweeks, with a safety profile comparable to GLP‑1R agonists and no major cardiovascular safety signals, supporting long‑term efficacy and tolerability.',\n",
       "   'Tirzepatide, a dual GIP/GLP‑1 agonist, shows strong long‑term efficacy: significant HbA1c reductions (up to 2.4%), weight loss (≈3\\u202fkg in 29\\u202fdays) and superior outcomes vs dulaglutide/semaglutide. Cardiovascular safety is acceptable (MACE HR\\u202f<\\u202f1.3, confidence intervals not indicating excess risk) and pharmacokinetics are unchanged in renal or hepatic impairment, suggesting no dose adjustment needed.',\n",
       "   'Clinical data show GLP‑1 receptor agonists (e.g., semaglutide) provide durable HbA1c reduction and significant weight loss; long‑term tirzepatide (dual GIP/GLP‑1) yields even greater glycaemic and weight benefits, improves insulin sensitivity, and has a tolerable safety profile with no major acute adverse effects reported.',\n",
       "   'Clinical data show GLP‑1 receptor agonists provide durable glycaemic control, weight loss, and improve cardiovascular risk biomarkers over months to years, with a generally favorable safety profile; nausea is the most common adverse effect, often lessened by GIP co‑agonism or dose titration.'],\n",
       "  'pmc_id': 'PMC9438179',\n",
       "  'answer': \"Based on the available evidence, tirzepatide, a dual GLP-1/GIP receptor co-agonist, demonstrates favorable long-term safety and efficacy profiles. The Phase-3 SURPASS trials show sustained HbA1c reduction and weight loss over 52 weeks of treatment (Nauck2022 chunk 2). \\n\\nRegarding safety, tirzepatide exhibits a safety profile comparable to established GLP-1 receptor agonists, with no major cardiovascular safety signals identified during the 52-week study period (Nauck2022 chunk 2). This suggests that the dual receptor mechanism does not introduce additional cardiovascular risks beyond those associated with traditional GLP-1 therapies.\\n\\nFor efficacy, the sustained reductions in both glycemic control (HbA1c) and body weight over the full 52-week treatment period indicate maintained therapeutic benefits without significant attenuation of effect (Nauck2022 chunk 2). The long-term tolerability profile supports continued use without major discontinuation concerns (Nauck2022 chunk 2).\\n\\nHowever, the context provided focuses specifically on tirzepatide as a dual GLP-1/GIP co-agonist rather than traditional GLP-1 receptor agonists alone. While tirzepatide's safety and efficacy data are encouraging for long-term use, I cannot provide a comprehensive assessment of all GLP-1 drugs for long-term use based solely on this limited context.\"}]"
      ]
     },
     "execution_count": 4,
     "metadata": {},
     "output_type": "execute_result"
    }
   ],
   "source": [
    "dynamodb = boto3.resource(\"dynamodb\")\n",
    "\n",
    "# Check if table exists\n",
    "table_name = \"deep-research-evidence\"\n",
    "table = dynamodb.Table(table_name)\n",
    "\n",
    "records = [record for record in table.scan().get('Items')]\n",
    "records"
   ]
  },
  {
   "cell_type": "markdown",
   "id": "3fd36be0",
   "metadata": {},
   "source": [
    "We can also query for a records from a specific PMC ID"
   ]
  },
  {
   "cell_type": "code",
   "execution_count": 10,
   "id": "e972756b",
   "metadata": {},
   "outputs": [
    {
     "name": "stdout",
     "output_type": "stream",
     "text": [
      "PMC9438179\n"
     ]
    }
   ],
   "source": [
    "example_pmc_id = records[0][\"pmc_id\"]\n",
    "print(example_pmc_id)"
   ]
  },
  {
   "cell_type": "code",
   "execution_count": null,
   "id": "b8ee6ccc",
   "metadata": {},
   "outputs": [
    {
     "data": {
      "text/plain": [
       "[{'question': 'How safe and effective are GLP-1 drugs for long term use?',\n",
       "  'evidence_id': '73c5ecc3-f3d2-4134-bc9a-28d7316ad4ff',\n",
       "  'answer': \"Based on the available evidence, tirzepatide, a dual GLP-1/GIP receptor co-agonist, demonstrates favorable long-term safety and efficacy profiles. The Phase-3 SURPASS trials show sustained HbA1c reduction and weight loss over 52 weeks of treatment (Nauck2022 chunk 2). \\n\\nRegarding safety, tirzepatide exhibits a safety profile comparable to established GLP-1 receptor agonists, with no major cardiovascular safety signals identified during the 52-week study period (Nauck2022 chunk 2). This suggests that the dual receptor mechanism does not introduce additional cardiovascular risks beyond those associated with traditional GLP-1 therapies.\\n\\nFor efficacy, the sustained reductions in both glycemic control (HbA1c) and body weight over the full 52-week treatment period indicate maintained therapeutic benefits without significant attenuation of effect (Nauck2022 chunk 2). The long-term tolerability profile supports continued use without major discontinuation concerns (Nauck2022 chunk 2).\\n\\nHowever, the context provided focuses specifically on tirzepatide as a dual GLP-1/GIP co-agonist rather than traditional GLP-1 receptor agonists alone. While tirzepatide's safety and efficacy data are encouraging for long-term use, I cannot provide a comprehensive assessment of all GLP-1 drugs for long-term use based solely on this limited context.\",\n",
       "  'context': ['In 26‑ to 40‑week trials, tirzepatide (a GIP/GLP‑1 co‑agonist) reduced HbA1c by up to 2.4% and body weight by up to 12.4\\u202fkg, outperforming dulaglutide and semaglutide. Gastro‑intestinal adverse events were common (up to 66% GI AEs, 24.5% discontinuations at 15\\u202fmg), but cardiovascular safety was favorable across SURPASS studies.',\n",
       "   'Phase‑3 SURPASS trials of tirzepatide (a GLP‑1/GIP co‑agonist) show sustained HbA1c reduction and weight loss over 52\\u202fweeks, with a safety profile comparable to GLP‑1R agonists and no major cardiovascular safety signals, supporting long‑term efficacy and tolerability.',\n",
       "   'Tirzepatide, a dual GIP/GLP‑1 agonist, shows strong long‑term efficacy: significant HbA1c reductions (up to 2.4%), weight loss (≈3\\u202fkg in 29\\u202fdays) and superior outcomes vs dulaglutide/semaglutide. Cardiovascular safety is acceptable (MACE HR\\u202f<\\u202f1.3, confidence intervals not indicating excess risk) and pharmacokinetics are unchanged in renal or hepatic impairment, suggesting no dose adjustment needed.',\n",
       "   'Clinical data show GLP‑1 receptor agonists (e.g., semaglutide) provide durable HbA1c reduction and significant weight loss; long‑term tirzepatide (dual GIP/GLP‑1) yields even greater glycaemic and weight benefits, improves insulin sensitivity, and has a tolerable safety profile with no major acute adverse effects reported.',\n",
       "   'Clinical data show GLP‑1 receptor agonists provide durable glycaemic control, weight loss, and improve cardiovascular risk biomarkers over months to years, with a generally favorable safety profile; nausea is the most common adverse effect, often lessened by GIP co‑agonism or dose titration.'],\n",
       "  'pmc_id': 'PMC9438179'}]"
      ]
     },
     "execution_count": 9,
     "metadata": {},
     "output_type": "execute_result"
    }
   ],
   "source": [
    "import boto3\n",
    "from boto3.dynamodb.conditions import Key\n",
    "dynamodb = boto3.resource(\"dynamodb\")\n",
    "table_name = \"deep-research-evidence\"\n",
    "table = dynamodb.Table(table_name)\n",
    "\n",
    "\n",
    "response = table.query(\n",
    "    IndexName=\"pmc_id_index\", KeyConditionExpression=Key(\"pmc_id\").eq(example_pmc_id)\n",
    ")\n",
    "example_db_records = response.get('Items')\n",
    "example_db_records"
   ]
  },
  {
   "cell_type": "markdown",
   "id": "620c7d9d",
   "metadata": {},
   "source": [
    "Let's incorporate our tool into a new `pmc_research_agent` definition"
   ]
  },
  {
   "cell_type": "code",
   "execution_count": 11,
   "id": "7ba23226",
   "metadata": {},
   "outputs": [
    {
     "name": "stdout",
     "output_type": "stream",
     "text": [
      "I'll help you find information about the safety and effectiveness of GLP-1 drugs for long-term use. Let me search for recent research on this topic.\n",
      "Tool #1: search_pmc_tool\n"
     ]
    },
    {
     "name": "stderr",
     "output_type": "stream",
     "text": [
      "INFO | search_pmc | Searching PMC for: GLP-1 agonist long term safety effectiveness AND last 3 years[dp]\n",
      "INFO | search_pmc | Found 100 article pmcids\n",
      "INFO | search_pmc | Fetching 100 PM articles\n",
      "INFO | search_pmc | Successfully fetched 100 articles\n",
      "INFO | search_pmc | Calculating citation relationships and ranking articles\n",
      "INFO | search_pmc | Citation ranking completed successfully\n",
      "INFO | search_pmc | Applied max_filtered_result_count limit: returning 10 of 100 articles\n",
      "INFO | search_pmc | Top 3 results:\n",
      "--------------------------------------------------\n",
      "Title: Glucagon-like peptide-1 receptor: mechanisms and advances in therapy\n",
      "PMID: 39289339\n",
      "PMC: PMC11408715\n",
      "DOI: 10.1038/s41392-024-01931-z\n",
      "Source: https://doi.org/10.1038/s41392-024-01931-z\n",
      "Authors: Zhikai Zheng, Yao Zong, Yiyang Ma, Yucheng Tian, Yidan Pang, Changqing Zhang, Junjie Gao\n",
      "Journal: Signal Transduction and Targeted Therapy\n",
      "Year: 2024\n",
      "Abstract: The glucagon-like peptide-1 (GLP-1) receptor, known as GLP-1R, is a vital component of the G protein-coupled receptor (GPCR) family and is found primarily on the surfaces of various cell types within the human body. This receptor specifically interacts with GLP-1, a key hormone that plays an integral role in regulating blood glucose levels, lipid metabolism, and several other crucial biological functions. In recent years, GLP-1 medications have become a focal point in the medical community due to their innovative treatment mechanisms, significant therapeutic efficacy, and broad development prospects. This article thoroughly traces the developmental milestones of GLP-1 drugs, from their initial discovery to their clinical application, detailing the evolution of diverse GLP-1 medications along with their distinct pharmacological properties. Additionally, this paper explores the potential applications of GLP-1 receptor agonists (GLP-1RAs) in fields such as neuroprotection, anti-infection measures, the reduction of various types of inflammation, and the enhancement of cardiovascular function. It provides an in-depth assessment of the effectiveness of GLP-1RAs across multiple body systems-including the nervous, cardiovascular, musculoskeletal, and digestive systems. This includes integrating the latest clinical trial data and delving into potential signaling pathways and pharmacological mechanisms. The primary goal of this article is to emphasize the extensive benefits of using GLP-1RAs in treating a broad spectrum of diseases, such as obesity, cardiovascular diseases, non-alcoholic fatty liver disease (NAFLD), neurodegenerative diseases, musculoskeletal inflammation, and various forms of cancer. The ongoing development of new indications for GLP-1 drugs offers promising prospects for further expanding therapeutic interventions, showcasing their significant potential in the medical field.\n",
      "Reference Count: 513\n",
      "Referenced By Count: 8\n",
      "--------------------------------------------------\n",
      "Title: GLP-1 Receptor Agonists in Non-Alcoholic Fatty Liver Disease: Current Evidence and Future Perspectives\n",
      "PMID: 36675217\n",
      "PMC: PMC9865319\n",
      "DOI: 10.3390/ijms24021703\n",
      "Source: https://doi.org/10.3390/ijms24021703\n",
      "Authors: Riccardo Nevola, Raffaella Epifani, Simona Imbriani, Giovanni Tortorella, Concetta Aprea, Raffaele Galiero, Luca Rinaldi, Raffaele Marfella, Ferdinando Carlo Sasso\n",
      "Journal: International Journal of Molecular Sciences\n",
      "Year: 2023\n",
      "Abstract: To date, non-alcoholic fatty liver disease (NAFLD) is the most frequent liver disease, affecting up to 70% of patients with diabetes. Currently, there are no specific drugs available for its treatment. Beyond their anti-hyperglycemic effect and the surprising role of cardio- and nephroprotection, GLP-1 receptor agonists (GLP-1 RAs) have shown a significant impact on body weight and clinical, biochemical and histological markers of fatty liver and fibrosis in patients with NAFLD. Therefore, GLP-1 RAs could be a weapon for the treatment of both diabetes mellitus and NAFLD. The aim of this review is to summarize the evidence currently available on the role of GLP-1 RAs in the treatment of NAFLD and to hypothesize potential future scenarios.\n",
      "Reference Count: 172\n",
      "Referenced By Count: 8\n",
      "--------------------------------------------------\n",
      "Title: Gut hormone-based pharmacology: novel formulations and future possibilities for metabolic disease therapy\n",
      "PMID: 37209227\n",
      "PMC: PMC10474213\n",
      "DOI: 10.1007/s00125-023-05929-0\n",
      "Source: https://doi.org/10.1007/s00125-023-05929-0\n",
      "Authors: Matthias Tschöp, Ruben Nogueiras, Bo Ahrén\n",
      "Journal: Diabetologia\n",
      "Year: 2023\n",
      "Abstract: Glucagon-like peptide-1 (GLP-1) receptor agonists are established pharmaceutical therapies for the treatment of type 2 diabetes and obesity. They mimic the action of GLP-1 to reduce glucose levels through stimulation of insulin secretion and inhibition of glucagon secretion. They also reduce body weight by inducing satiety through central actions. The GLP-1 receptor agonists used clinically are based on exendin-4 and native GLP-1 and are available as formulations for daily or weekly s.c. or oral administration. GLP-1 receptor agonism is also achieved by inhibitors of dipeptidyl peptidase-4 (DPP-4), which prevent the inactivation of GLP-1 and glucose-dependent insulinotropic polypeptide (GIP), thereby prolonging their raised levels after meal ingestion. Other developments in GLP-1 receptor agonism include the formation of small orally available agonists and compounds with the potential to pharmaceutically stimulate GLP-1 secretion from the gut. In addition, GLP-1/glucagon and GLP-1/GIP dual receptor agonists and GLP-1/GIP/glucagon triple receptor agonists have shown the potential to reduce blood glucose levels and body weight through their effects on islets and peripheral tissues, improving beta cell function and stimulating energy expenditure. This review summarises developments in gut hormone-based therapies and presents the future outlook for their use in type 2 diabetes and obesity. The online version contains a slideset of the figures for download available at 10.1007/s00125-023-05929-0.\n",
      "Reference Count: 103\n",
      "Referenced By Count: 3\n",
      "--------------------------------------------------\n",
      "\n"
     ]
    },
    {
     "name": "stdout",
     "output_type": "stream",
     "text": [
      "Now let me search for more specific information about long-term safety studies:\n",
      "Tool #2: search_pmc_tool\n"
     ]
    },
    {
     "name": "stderr",
     "output_type": "stream",
     "text": [
      "INFO | search_pmc | Searching PMC for: \"GLP-1 receptor agonist\" \"long term safety\" \"adverse events\" AND last 3 years[dp]\n",
      "INFO | search_pmc | Found 100 article pmcids\n",
      "INFO | search_pmc | Fetching 100 PM articles\n",
      "INFO | search_pmc | Successfully fetched 100 articles\n",
      "INFO | search_pmc | Calculating citation relationships and ranking articles\n",
      "INFO | search_pmc | Citation ranking completed successfully\n",
      "INFO | search_pmc | Applied max_filtered_result_count limit: returning 10 of 100 articles\n",
      "INFO | search_pmc | Top 3 results:\n",
      "--------------------------------------------------\n",
      "Title: Emerging Role of GLP-1 Agonists in Obesity: A Comprehensive Review of Randomised Controlled Trials\n",
      "PMID: 37445623\n",
      "PMC: PMC10341852\n",
      "DOI: 10.3390/ijms241310449\n",
      "Source: https://doi.org/10.3390/ijms241310449\n",
      "Authors: Mihaela-Simona Popoviciu, Lorena Păduraru, Galal Yahya, Kamel Metwally, Simona Cavalu\n",
      "Journal: International Journal of Molecular Sciences\n",
      "Year: 2023\n",
      "Abstract: Obesity is a chronic disease with high prevalence and associated comorbidities, making it a growing global concern. These comorbidities include type 2 diabetes, hypertension, ventilatory dysfunction, arthrosis, venous and lymphatic circulation diseases, depression, and others, which have a negative impact on health and increase morbidity and mortality. GLP-1 agonists, used to treat type 2 diabetes, have been shown to be effective in promoting weight loss in preclinical and clinical studies. This review summarizes numerous studies conducted on the main drugs in the GLP-1 agonists class, outlining the maximum achievable weight loss. Our aim is to emphasize the active role and main outcomes of GLP-1 agonists in promoting weight loss, as well as in improving hyperglycemia, insulin sensitivity, blood pressure, cardio–metabolic, and renal protection. We highlight the pleiotropic effects of these medications, along with their indications, contraindications, and precautions for both diabetic and non-diabetic patients, based on long-term follow-up studies.\n",
      "Reference Count: 138\n",
      "Referenced By Count: 5\n",
      "--------------------------------------------------\n",
      "Title: Mechanisms of action and therapeutic applications of GLP-1 and dual GIP/GLP-1 receptor agonists\n",
      "PMID: 39114288\n",
      "PMC: PMC11304055\n",
      "DOI: 10.3389/fendo.2024.1431292\n",
      "Source: https://doi.org/10.3389/fendo.2024.1431292\n",
      "Authors: Qiyuan Keith Liu\n",
      "Journal: Frontiers in Endocrinology\n",
      "Year: 2024\n",
      "Abstract: Glucose-dependent insulinotropic polypeptide (GIP) and glucagon-like peptide-1 (GLP-1) are two incretins that bind to their respective receptors and activate the downstream signaling in various tissues and organs. Both GIP and GLP-1 play roles in regulating food intake by stimulating neurons in the brain’s satiety center. They also stimulate insulin secretion in pancreatic β-cells, but their effects on glucagon production in pancreatic α-cells differ, with GIP having a glucagonotropic effect during hypoglycemia and GLP-1 exhibiting glucagonostatic effect during hyperglycemia. Additionally, GIP directly stimulates lipogenesis, while GLP-1 indirectly promotes lipolysis, collectively maintaining healthy adipocytes, reducing ectopic fat distribution, and increasing the production and secretion of adiponectin from adipocytes. Together, these two incretins contribute to metabolic homeostasis, preventing both hyperglycemia and hypoglycemia, mitigating dyslipidemia, and reducing the risk of cardiovascular diseases in individuals with type 2 diabetes and obesity. Several GLP-1 and dual GIP/GLP-1 receptor agonists have been developed to harness these pharmacological effects in the treatment of type 2 diabetes, with some demonstrating robust effectiveness in weight management and prevention of cardiovascular diseases. Elucidating the underlying cellular and molecular mechanisms could potentially usher in the development of new generations of incretin mimetics with enhanced efficacy and fewer adverse effects. The treatment guidelines are evolving based on clinical trial outcomes, shaping the management of metabolic and cardiovascular diseases.\n",
      "Reference Count: 269\n",
      "Referenced By Count: 4\n",
      "--------------------------------------------------\n",
      "Title: GLP−1 receptor agonists for the treatment of obesity: Role as a promising approach\n",
      "PMID: 36843578\n",
      "PMC: PMC9945324\n",
      "DOI: 10.3389/fendo.2023.1085799\n",
      "Source: https://doi.org/10.3389/fendo.2023.1085799\n",
      "Authors: Jing-Yue Wang, Quan-Wei Wang, Xin-Yu Yang, Wei Yang, Dong-Rui Li, Jing-Yu Jin, Hui-Cong Zhang, Xian-Feng Zhang\n",
      "Journal: Frontiers in Endocrinology\n",
      "Year: 2023\n",
      "Abstract: Obesity is a complex disease characterized by excessive fat accumulation which is caused by genetic, environmental and other factors. In recent years, there has been an increase in the morbidity, disability rate,and mortality due to obesity, making it great threat to people’s health and lives, and increasing public health care expenses. Evidence from previous studies show that weight loss can significantly reduce the risk of obesity-related complications and chronic diseases. Diet control, moderate exercise, behavior modification programs, bariatric surgery and prescription drug treatment are the major interventions used to help people lose weight. Among them, anti-obesity drugs have high compliance rates and cause noticeable short-term effects in reducing obese levels. However, given the safety or effectiveness concerns of anti-obesity drugs, many of the currently used drugs have limited clinical use. Glucagon-like peptide-1 receptor (GLP-1R) agonists are a group of drugs that targets incretin hormone action, and its receptors are widely distributed in nerves, islets, heart, lung, skin, and other organs. Several animal experiments and clinical trials have demonstrated that GLP-1R agonists are more effective in treating or preventing obesity. Therefore, GLP-1R agonists are promising agents for the treatment of obese individuals. This review describes evidence from previous research on the effects of GLP-1R agonists on obesity. We anticipate that this review will generate data that will help biomedical researchers or clinical workers develop obesity treatments based on GLP-1R agonists.\n",
      "Reference Count: 140\n",
      "Referenced By Count: 3\n",
      "--------------------------------------------------\n",
      "\n"
     ]
    },
    {
     "name": "stdout",
     "output_type": "stream",
     "text": [
      "Let me gather detailed evidence from the most relevant articles. I'll start with the comprehensive review articles that specifically address safety and effectiveness:\n",
      "Tool #3: gather_evidence_tool\n"
     ]
    },
    {
     "name": "stderr",
     "output_type": "stream",
     "text": [
      "INFO | gather_evidence | Starting gather_evidence for PMCID: PMC11408715, question: What are the long-term safety concerns and adverse effects of GLP-1 receptor agonists? What evidence exists for their long-term effectiveness?\n",
      "INFO | gather_evidence | Attempting to download s3://pmc-oa-opendata/oa_comm/txt/all/PMC11408715.txt to my_papers/PMC11408715/txt/PMC11408715.txt\n",
      "INFO | gather_evidence | Successfully downloaded file to my_papers/PMC11408715/txt/PMC11408715.txt\n",
      "INFO | gather_evidence | Successfully retrieved commercial article PMC11408715\n",
      "INFO | gather_evidence | Processing paper with paper-qa for question: What are the long-term safety concerns and adverse effects of GLP-1 receptor agonists? What evidence exists for their long-term effectiveness?\n",
      "INFO | gather_evidence | Invoking paper-qa\n",
      "INFO | gather_evidence | Successfully answered question for PMC11408715\n",
      "INFO | gather_evidence | Saving record to deep-research-evidence\n",
      "INFO | gather_evidence | {'evidence_id': 'bbf4b67c-37aa-4822-9982-d77b3463ef6c', 'question': 'What are the long-term safety concerns and adverse effects of GLP-1 receptor agonists? What evidence exists for their long-term effectiveness?', 'answer': \"## Long-term Safety Concerns and Adverse Effects\\n\\nGLP-1 receptor agonists exhibit several well-characterized long-term safety concerns. Gastrointestinal intolerance represents the most common class effect, manifesting as nausea, vomiting, dyspepsia, and diarrhea that typically occurs early in treatment but can persist with chronic use (Zheng2024 chunk 17). More serious but rare adverse effects include acute pancreatitis, particularly in patients with prior history, presenting as acute abdominal pain with elevated lipase/amylase (Zheng2024 chunk 17).\\n\\nGallbladder disease, including cholelithiasis and cholecystitis, shows modest increased incidence likely secondary to rapid weight loss, as observed in long-term cardiovascular outcome trials (Zheng2024 chunk 17). Thyroid C-cell hyperplasia and potential medullary thyroid carcinoma risk, based on preclinical rodent data, led to FDA contraindications in patients with personal/family history of MTC or MEN-2, though human relevance remains uncertain (Zheng2024 chunk 17).\\n\\nAdditional considerations include modest cardiovascular effects such as 2-3 bpm heart rate increases, renal complications from dehydration-induced acute kidney injury in frail patients, and rare immunogenicity reactions causing injection-site or systemic hypersensitivity (Zheng2024 chunk 17).\\n\\n## Evidence for Long-term Effectiveness\\n\\nLong-term effectiveness data demonstrate robust benefits across multiple domains. Metabolic control and weight loss show sustained HbA1c reduction and ≥5% body weight loss over 3-5 years in major trials including LEADER and SUSTAIN-6 (Zheng2024 chunk 17). Cardiovascular protection is well-established, with LEADER demonstrating 13% relative risk reduction in major adverse cardiovascular events over 3.8 years and SUSTAIN-6 showing 26% MACE reduction (Zheng2024 chunk 17).\\n\\nEmerging neuroprotective effects include GLP-1(7-36) amide blocking IL-1β and improving long-term potentiation in Alzheimer's disease models, while reducing amyloid plaque load and microglial activation (Zheng2024 chunk 17). Liraglutide showed modest motor function benefits in early Parkinson's disease during a 14-month Phase-II trial (Zheng2024 chunk 17). Additional benefits include >50% reduction in alcohol intake in preclinical models, peripheral nerve protection, and atherosclerosis improvement through AMPK/Akt/eNOS activation and enhanced nitric oxide production (Zheng2024 chunk 17).\\n\\nHuman carotid intima-media thickness studies reveal modest atherosclerotic progression slowing over 2 years, while 2-year studies report lower incidence of new-onset peripheral neuropathy in type-2 diabetes patients (Zheng2024 chunk 17).\", 'pmc_id': 'PMC11408715', 'context': ['Long‑term liraglutide (highest obesity dose) raises reward‑related orbitofrontal activation to food cues, hinting at weight‑loss plateau as an adverse effect. GLP‑1 agonists show sustained glycaemic and weight benefits in chronic use, and central GLP‑1 activation reduces inflammation, supporting safety.', 'The excerpt does not detail specific long‑term safety concerns, but notes formulation challenges (e.g., injection resistance, low oral bioavailability) and side‑effect mitigation via combination therapy. It cites evidence of sustained efficacy across multiple indications—obesity, T2DM, cardiovascular risk, CKD, NAFLD, and AD—supporting long‑term effectiveness.', '**Long‑term safety concerns & adverse effects of GLP‑1 receptor agonists (GLP‑1RAs)**  \\n\\n| Issue | What is known  | Typical clinical manifestation |\\n|-------|---------------------------------------------------------------|--------------------------------|\\n| **Gastro‑intestinal (GI) intolerance** | The Phase‑II “Liraglutide in Early Parkinson’s Disease” trial reported “manageable gastrointestinal side effects” . GI upset (nausea, vomiting, diarrhoea) is the most common class‑effect and often limits dose escalation. | Nausea, vomiting, dyspepsia, constipation/diarrhoea, usually early in treatment but can persist with chronic use. |\\n| **Pancreatitis & pancreatic enzyme elevation** | Not directly discussed in the excerpt, but long‑term post‑marketing surveillance and meta‑analyses have raised concerns about acute pancreatitis, especially in patients with a prior history. | Acute abdominal pain, elevated lipase/amylase; rare but serious. |\\n| **Gallbladder disease (cholelithiasis, cholecystitis)** | Again, not mentioned in the excerpt, but several long‑term cardiovascular outcome trials (e.g., SUSTAIN‑6) observed a modest increase in gallstone formation, likely secondary to rapid weight loss. | Right‑upper‑quadrant pain, nausea, fever; may require cholecystectomy. |\\n| **Thyroid C‑cell hyperplasia / medullary thyroid carcinoma (MTC)** | Pre‑clinical rodent data show C‑cell tumours; human relevance is uncertain, but the FDA label includes a contraindication in patients with personal/family history of MTC or MEN‑2. | Neck mass, dysphagia, hoarseness; extremely rare in humans. |\\n| **Cardiovascular effects (heart‑rate increase, blood‑pressure changes)** | The excerpt notes “pronounced cardiovascular protective effects”  but also that GLP‑1RAs can raise resting heart rate by ~2–3\\u202fbpm. | Palpitations, modest tachycardia; generally well‑tolerated. |\\n| **Renal considerations** | GLP‑1RAs are generally safe in chronic kidney disease, but dehydration from GI loss can precipitate acute kidney injury in frail patients. | Rising creatinine, oliguria. |\\n| **Immunogenicity / injection‑site reactions** | Not highlighted in the excerpt, but anti‑drug antibodies can develop, occasionally causing local erythema or systemic hypersensitivity. | Redness, swelling, itching at injection site; rare systemic rash. |\\n\\n*Bottom line*: The most frequent long‑term adverse events are GI‑related and usually diminish with dose titration. Rare but serious concerns (pancreatitis, gallbladder disease, possible thyroid neoplasia) require vigilance, especially in high‑risk individuals. The Zheng\\u202f2024 review does not present new safety signals beyond those already recognised in the class.\\n\\n---\\n\\n**Evidence for long‑term effectiveness of GLP‑1RAs**\\n\\n| Domain | Key findings  | Supporting long‑term data (outside the excerpt) |\\n|--------|---------------------------|-------------------------------------------------|\\n| **Metabolic control & weight loss** | GLP‑1RAs “reduce food intake and improve body weight” . | LEADER (liraglutide) and SUSTAIN‑6 (semaglutide) showed sustained HbA1c reduction and ≥\\u202f5\\u202f% body‑weight loss over 3–5\\u202fyears. |\\n| **Cardiovascular protection** | “Pronounced cardiovascular protective effects” – lowering lipid levels, blood pressure, endothelial dysfunction, and atherosclerosis . | LEADER (liraglutide) demonstrated a 13\\u202f% relative risk reduction in major adverse cardiovascular events (MACE) over 3.8\\u202fyears; SUSTAIN‑6 showed a 26\\u202f% MACE reduction with semaglutide. |\\n| **Neuro‑degenerative disease** | • GLP‑1(7‑36) amide blocks IL‑1β, improves LTP, and prevents cognitive decline in AD models. <br>• GLP‑1RAs reduce amyloid plaque load, microglial activation, and improve memory in murine AD. <br>• NLY01 attenuates pro‑inflammatory microglia, protects hippocampal neurons. <br>• Liraglutide showed modest motor‑function benefit in early Parkinson’s disease (14‑month Phase‑II trial).  | Ongoing long‑term Phase‑III trials (e.g., “Exenatide-PD” 2‑year extension) report sustained motor‑score improvements; observational cohorts suggest slower cognitive decline in GLP‑1RA‑treated diabetics. |\\n| **Addictive behaviours & reward modulation** | Semaglutide cut alcohol intake by >\\u202f50\\u202f% in alcohol‑dependent rats, likely via nucleus accumbens dopamine‑reward blockade . | Early human pilot studies (n\\u202f≈\\u202f30) show reduced binge‑drinking episodes after 12\\u202fweeks of semaglutide; larger RCTs are in progress. |\\n| **Peripheral neuropathy & pain** | “Protecting peripheral nerves” and “alleviating neuroinflammation and pain in OA” . | 2‑year open‑label studies in type‑2 diabetes report lower incidence of new‑onset peripheral neuropathy with GLP‑1RA therapy. |\\n| **Atherosclerosis (AS) & endothelial health** | GLP‑1RAs improve lipid profiles, suppress chylomicron secretion, activate AMPK/Akt/eNOS → NO production, reduce oxidative stress and inflammation . | Pre‑clinical models show plaque regression after 6‑12\\u202fmonths of treatment; human carotid‑intima‑media thickness (CIMT) studies reveal modest slowing of progression over 2\\u202fyears. |\\n\\n**Take‑away on long‑term effectiveness**  \\n- **Durable glycaemic and weight benefits** are consistently observed across 3–5\\u202fyear cardiovascular outcome trials.  \\n- **Cardiovascular risk reduction** (MACE, heart‑failure hospitalization) is a class effect confirmed in large, long‑term RCTs.  \\n- **Neuro‑protective signals** (AD, PD, alcohol use disorder) are emerging from animal studies and early‑phase human trials; longer follow‑up is still needed to confirm disease‑modifying impact.  \\n- **Atherosclerotic and endothelial improvements** are documented both mechanistically (e.g., AMPK/Akt/eNOS activation) and in imaging studies over ≥\\u202f2\\u202fyears.  \\n\\n---\\n\\n### Practical implications for clinicians & researchers\\n\\n1. **Monitoring** – Routine assessment of GI tolerance, pancreatic enzymes (if symptomatic), gallbladder status (especially after rapid weight loss), and thyroid history is advisable during chronic therapy.  \\n2. **Patient selection** – Favor GLP‑1RAs in patients with obesity, type‑2 diabetes, or high cardiovascular risk; exercise caution in those with prior pancreatitis, gallstone disease, or a personal/family history of medullary thyroid carcinoma.  \\n3. **Long‑term follow‑up** – Annual evaluation of weight, HbA1c, lipid panel, blood pressure, renal function, and, when relevant, neuro‑cognitive testing can capture the breadth of benefits reported in the literature.  \\n4. **Research directions** – Ongoing phase‑III trials in AD, PD, and substance‑use disorders will clarify whether the short‑term neuro‑protective effects observed in pre‑clinical models translate into sustained clinical benefit.  \\n\\n**Bottom line** – GLP‑1RAs have a well‑characterised safety profile dominated by GI effects, with rare but serious concerns that merit surveillance. Their long‑term effectiveness is robust for metabolic, cardiovascular, and emerging neuro‑protective outcomes, supported by both large outcome trials and mechanistic studies such as those summarized by .', 'GLP-1R agonists show long‑term benefits in cardiovascular health, blood‑pressure reduction, neuroprotection (Alzheimer’s, Parkinson’s), and metabolic diseases (NASH, obesity). Reported safety concerns include growth‑hormone secretion, innate‑immune modulation, and potential off‑target effects, warranting continued monitoring.', 'The excerpt highlights GLP‑1RAs’ vascular, anti‑inflammatory, and antihypertensive actions and cites a 52‑week semaglutide trial in HFpEF showing symptom and functional improvements, indicating medium‑term efficacy; however, it provides no data on long‑term safety or adverse effects.']}\n",
      "INFO | gather_evidence | Successfully saved record with evidence_id: bbf4b67c-37aa-4822-9982-d77b3463ef6c\n"
     ]
    },
    {
     "name": "stdout",
     "output_type": "stream",
     "text": [
      "\n",
      "Tool #4: gather_evidence_tool\n"
     ]
    },
    {
     "name": "stderr",
     "output_type": "stream",
     "text": [
      "INFO | gather_evidence | Starting gather_evidence for PMCID: PMC10341852, question: What are the specific safety findings and adverse event profiles from randomized controlled trials of GLP-1 agonists for obesity treatment?\n",
      "INFO | gather_evidence | Attempting to download s3://pmc-oa-opendata/oa_comm/txt/all/PMC10341852.txt to my_papers/PMC10341852/txt/PMC10341852.txt\n",
      "INFO | gather_evidence | Successfully downloaded file to my_papers/PMC10341852/txt/PMC10341852.txt\n",
      "INFO | gather_evidence | Successfully retrieved commercial article PMC10341852\n",
      "INFO | gather_evidence | Processing paper with paper-qa for question: What are the specific safety findings and adverse event profiles from randomized controlled trials of GLP-1 agonists for obesity treatment?\n",
      "INFO | gather_evidence | Invoking paper-qa\n",
      "INFO | gather_evidence | Successfully answered question for PMC10341852\n",
      "INFO | gather_evidence | Saving record to deep-research-evidence\n",
      "INFO | gather_evidence | {'evidence_id': '34b8c5d5-47c3-4bd5-8529-6093aee0ff56', 'question': 'What are the specific safety findings and adverse event profiles from randomized controlled trials of GLP-1 agonists for obesity treatment?', 'answer': 'Based on randomized controlled trials of GLP-1 agonists for obesity treatment, the safety profile demonstrates a consistent pattern of predominantly mild to moderate adverse events with rare serious safety concerns.\\n\\nThe most common adverse events are gastrointestinal in nature, specifically nausea, vomiting, and diarrhea (Popoviciu2023 chunk 17). These gastrointestinal effects appear to be dose-dependent, correlating with the weight loss efficacy observed in clinical trials (Popoviciu2023 chunk 17).\\n\\nHypoglycemic events have been reported but are characterized as occasional and minor in severity (Popoviciu2023 chunk 17). This finding is particularly relevant given that GLP-1 agonists have glucose-dependent mechanisms of action.\\n\\nThe overall safety profile from major clinical trial programs, including the LEAD trials (LEAD-1 through LEAD-6) for liraglutide and the STEP trials (STEP-1 through STEP-3) for semaglutide, indicates that serious safety concerns are rare occurrences (Popoviciu2023 chunk 17). This suggests that while gastrointestinal adverse events are common and may limit tolerability in some patients, the risk of severe or life-threatening complications appears to be low in the studied populations.\\n\\nThe dose-dependent nature of both efficacy and adverse events suggests that careful dose titration may help optimize the benefit-risk ratio for individual patients (Popoviciu2023 chunk 17).', 'pmc_id': 'PMC10341852', 'context': ['The review outlines that GLP‑1 agonists, originally for type\\u202f2 diabetes, promote weight loss and improve metabolic outcomes, and it intends to discuss their pleiotropic effects, indications, contraindications, and safety precautions based on long‑term RCT follow‑up, but the excerpt does not provide specific adverse‑event data.', 'The excerpt notes that GLP‑1 receptor agonists (liraglutide, semaglutide, etc.) met FDA efficacy standards and were approved for chronic weight management, but it does not provide detailed safety findings or specific adverse‑event profiles from the randomized controlled trials.', 'The excerpt emphasizes the need for robust safety evidence of GLP‑1 agonists, highlighting goals of minimal adverse effects, cardiovascular and renal safety, and anti‑atherosclerotic protection, but it does not present specific RCT safety outcomes or adverse‑event data.', 'The trials reported that liraglutide and once‑weekly exenatide improved glycaemic control and were generally well‑tolerated; exenatide QWS‑AI showed no new safety or tolerability issues over 52\\u202fweeks, and was described as well‑tolerated versus sitagliptin/placebo. No specific adverse‑event rates are provided.', 'RCTs of liraglutide (LEAD‑1‑6) and semaglutide (STEP‑1‑3) show dose‑dependent weight loss with mainly mild‑moderate gastrointestinal adverse events—nausea, vomiting, diarrhea—and occasional minor hypoglycemia; serious safety concerns were rare.']}\n",
      "INFO | gather_evidence | Successfully saved record with evidence_id: 34b8c5d5-47c3-4bd5-8529-6093aee0ff56\n",
      "INFO | gather_evidence | Starting gather_evidence for PMCID: PMC11355214, question: What are the cardiovascular safety outcomes and long-term effectiveness data from major GLP-1 agonist trials?\n",
      "INFO | gather_evidence | Attempting to download s3://pmc-oa-opendata/oa_comm/txt/all/PMC11355214.txt to my_papers/PMC11355214/txt/PMC11355214.txt\n"
     ]
    },
    {
     "name": "stdout",
     "output_type": "stream",
     "text": [
      "\n",
      "Tool #5: gather_evidence_tool\n"
     ]
    },
    {
     "name": "stderr",
     "output_type": "stream",
     "text": [
      "INFO | gather_evidence | Successfully downloaded file to my_papers/PMC11355214/txt/PMC11355214.txt\n",
      "INFO | gather_evidence | Successfully retrieved commercial article PMC11355214\n",
      "INFO | gather_evidence | Processing paper with paper-qa for question: What are the cardiovascular safety outcomes and long-term effectiveness data from major GLP-1 agonist trials?\n",
      "INFO | gather_evidence | Invoking paper-qa\n",
      "INFO | gather_evidence | Successfully answered question for PMC11355214\n",
      "INFO | gather_evidence | Saving record to deep-research-evidence\n",
      "INFO | gather_evidence | {'evidence_id': '5cc57197-9382-44d6-a44c-e0fda5f01b93', 'question': 'What are the cardiovascular safety outcomes and long-term effectiveness data from major GLP-1 agonist trials?', 'answer': 'GLP-1 receptor agonists (GLP-1 RAs) demonstrate cardiovascular safety with non-inferiority to placebo and significant reductions in major adverse cardiovascular events (MACE) (Le2024 chunk 4). Specific agents show substantial cardiovascular benefits, with semaglutide achieving a 26% MACE reduction (HR 0.74) and efpeglenatide demonstrating a 27% MACE reduction (HR 0.73) (Le2024 chunk 4).\\n\\nMeta-analyses encompassing approximately 60,000 patients with a median follow-up of 3 years reveal consistent long-term effectiveness across multiple cardiovascular outcomes (Le2024 chunk 4). These analyses demonstrate a 14% reduction in MACE and a 12% reduction in mortality (Le2024 chunk 4). Beyond cardiovascular protection, GLP-1 RAs provide additional metabolic benefits including HbA1c reductions of 0.5-1.5% and significant weight loss (Le2024 chunk 4).\\n\\nThe cardiovascular protective effects appear particularly pronounced with long-acting GLP-1 RA formulations (Le2024 chunk 4). These findings establish GLP-1 RAs as cardiovascular-protective agents that extend beyond their traditional roles in diabetes management and weight reduction, offering dual benefits for patients with or at risk for cardiovascular disease (Le2024 chunk 4).', 'pmc_id': 'PMC11355214', 'context': ['GLP‑1 RAs are cardiovascular‑safe (non‑inferior to placebo) and many show MACE reductions—semaglutide (26% ↓, HR\\u202f0.74), efpeglenatide (27% ↓, HR\\u202f0.73). Meta‑analyses (≈60\\u202fk pts, 3‑yr median) report 14% MACE, 12% mortality ↓, plus 0.5‑1.5% HbA1c and weight loss benefits, especially long‑acting agents.', 'GLP‑1 receptor agonists have undergone FDA‑mandated cardiovascular outcome trials, consistently showing significant reductions in major adverse cardiovascular events—especially atherosclerotic ischemic outcomes—and evidence of plaque‑modifying benefits, supporting long‑term cardiovascular safety and effectiveness.', 'Major GLP‑1 RA trials show modest cardiovascular safety benefits: ~10% MI reduction (12‑25% in specific agents), 24‑39% stroke reduction, limited HF hospitalization benefit (only AMPLITUDE‑O), and observational PAD safety signals. Long‑term data also reveal weight loss, BP, CRP, and NT‑proBNP improvements.', 'The excerpt notes that GLP‑1 receptor agonists markedly lower ischemic event risk and ASCVD incidence in type‑2 diabetes, attributing benefits to direct anti‑atherosclerotic, anti‑inflammatory and plaque‑stabilising mechanisms, supporting their use as preferred agents for cardiovascular risk reduction.', 'Major GLP‑1 RA CVOTs (LEADER, REWIND, SUSTAIN‑6) demonstrated significant reductions in MACE, cardiovascular death, stroke and re‑infarction, with benefits only partly mediated by HbA1c lowering. Real‑world cohorts confirm lower amputation rates, MACE, and mortality versus comparators.']}\n",
      "INFO | gather_evidence | Successfully saved record with evidence_id: 5cc57197-9382-44d6-a44c-e0fda5f01b93\n"
     ]
    },
    {
     "name": "stdout",
     "output_type": "stream",
     "text": [
      "\n",
      "Tool #6: gather_evidence_tool\n"
     ]
    },
    {
     "name": "stderr",
     "output_type": "stream",
     "text": [
      "INFO | gather_evidence | Starting gather_evidence for PMCID: PMC11786232, question: What are the discontinuation rates, tolerability issues, and patient adherence patterns with long-term GLP-1 agonist use?\n",
      "INFO | gather_evidence | Attempting to download s3://pmc-oa-opendata/oa_comm/txt/all/PMC11786232.txt to my_papers/PMC11786232/txt/PMC11786232.txt\n",
      "INFO | gather_evidence | Successfully downloaded file to my_papers/PMC11786232/txt/PMC11786232.txt\n",
      "INFO | gather_evidence | Successfully retrieved commercial article PMC11786232\n",
      "INFO | gather_evidence | Processing paper with paper-qa for question: What are the discontinuation rates, tolerability issues, and patient adherence patterns with long-term GLP-1 agonist use?\n",
      "INFO | gather_evidence | Invoking paper-qa\n",
      "INFO | gather_evidence | Successfully answered question for PMC11786232\n",
      "INFO | gather_evidence | Saving record to deep-research-evidence\n",
      "INFO | gather_evidence | {'evidence_id': '9de02b4d-e72c-4748-ac47-af7731813c1f', 'question': 'What are the discontinuation rates, tolerability issues, and patient adherence patterns with long-term GLP-1 agonist use?', 'answer': 'Based on the available data, GLP-1 receptor agonist (GLP-1 RA) discontinuation rates at one year are substantial, with 46.5% of patients with type 2 diabetes and 64.8% of patients without diabetes discontinuing therapy (Rodriguez2025 chunk 2). These findings indicate that patients without diabetes have notably higher discontinuation rates compared to those with diabetes.\\n\\nRegarding tolerability issues, gastrointestinal adverse events represent a significant barrier to long-term adherence, increasing discontinuation risk with hazard ratios ranging from approximately 1.2 to 1.4 (Rodriguez2025 chunk 2). This suggests that gastrointestinal side effects are a primary driver of treatment discontinuation across patient populations.\\n\\nPatient adherence patterns demonstrate a complex relationship with treatment outcomes. Greater weight loss is associated with lower discontinuation rates, while weight regain increases the likelihood of treatment re-initiation (Rodriguez2025 chunk 2). Re-initiation rates differ by diabetes status, with 47.3% of patients with diabetes and 36.3% of patients without diabetes resuming GLP-1 RA therapy after discontinuation (Rodriguez2025 chunk 2). These patterns suggest that treatment efficacy, particularly weight management outcomes, significantly influences long-term adherence and the decision to restart therapy after discontinuation.', 'pmc_id': 'PMC11786232', 'context': ['One‑year GLP‑1 RA discontinuation was 46.5% in patients with type\\u202f2 diabetes and 64.8% without. Gastrointestinal adverse events raised discontinuation risk (HR\\u202f≈\\u202f1.2‑1.4). Greater weight loss lowered discontinuation, while weight regain boosted re‑initiation; re‑initiation was 47.3% (diabetes) vs 36.3% (no diabetes).', 'Within 2\\u202fyears, 53.6% discontinued GLP‑1 RA by 1\\u202fyear and 72.2% by 2\\u202fyears (lower in type\\u202f2 diabetes: 46.5%/64.1%). GI adverse events, cost, and side effects drove discontinuation; older age, lower income, and less weight loss increased risk. Median treatment lasted 176\\u202fdays; 51% of discontinuers later re‑initiated, with 61% followed ≥1\\u202fyear post‑discontinuation.', 'Rodriguez2025 tracked adults with BMI\\u202f≥\\u202f27 who filled a GLP‑1 RA between 2018‑2023, following them up to 2\\u202fyears. Discontinuation was defined as ≥60\\u202fdays without medication on hand; reinitiation as any new fill after that. Tolerability was assessed via documented moderate/severe GI events, and adherence was inferred from prescription fill dates and days‑supplied data across all GLP‑1 RA brands.', 'In a US cohort of 125,474 adults initiating GLP‑1 RAs, 46.5% of patients with type\\u202f2 diabetes and 64.8% without discontinued within one year. Discontinuation was linked to adverse events, less weight loss, and lower income, while weight regain prompted re‑initiation, reflecting limited long‑term adherence.', 'In the study, 53.6% of patients discontinued GLP‑1 RA within one year (higher in non‑diabetics). Moderate/severe GI adverse events reduced reinitiation. Weight gain after stopping increased reinitiation risk, while lower income and older age lowered adherence.']}\n",
      "INFO | gather_evidence | Successfully saved record with evidence_id: 9de02b4d-e72c-4748-ac47-af7731813c1f\n"
     ]
    },
    {
     "name": "stdout",
     "output_type": "stream",
     "text": [
      "\n",
      "Tool #7: gather_evidence_tool\n"
     ]
    },
    {
     "name": "stderr",
     "output_type": "stream",
     "text": [
      "INFO | gather_evidence | Starting gather_evidence for PMCID: PMC11751538, question: What are the recent findings regarding suicide risk and psychiatric effects of GLP-1 agonists?\n",
      "INFO | gather_evidence | Attempting to download s3://pmc-oa-opendata/oa_comm/txt/all/PMC11751538.txt to my_papers/PMC11751538/txt/PMC11751538.txt\n",
      "INFO | gather_evidence | Successfully downloaded file to my_papers/PMC11751538/txt/PMC11751538.txt\n",
      "INFO | gather_evidence | Successfully retrieved commercial article PMC11751538\n",
      "INFO | gather_evidence | Processing paper with paper-qa for question: What are the recent findings regarding suicide risk and psychiatric effects of GLP-1 agonists?\n",
      "INFO | gather_evidence | Invoking paper-qa\n",
      "INFO | gather_evidence | Successfully answered question for PMC11751538\n",
      "INFO | gather_evidence | Saving record to deep-research-evidence\n",
      "INFO | gather_evidence | {'evidence_id': '04f59e5e-8548-41f2-9bf6-6b930627b31a', 'question': 'What are the recent findings regarding suicide risk and psychiatric effects of GLP-1 agonists?', 'answer': 'Recent findings from a large French nationwide case-time-control study (2023-2025) demonstrate that GLP-1 receptor agonist use is not associated with increased suicide risk or suicide attempt risk (Bezin2025 chunk 1). The study found a protective association, with an odds ratio of 0.62 (95% CI 0.51-0.75), indicating a 38% lower risk of suicide or suicide attempts among GLP-1 receptor agonist users compared to non-users (Bezin2025 chunk 1).\\n\\nImportantly, this safety profile was consistent across different patient populations, including those with pre-existing psychiatric histories and patients with obesity (Bezin2025 chunk 1). This finding is particularly significant given previous concerns about potential psychiatric adverse effects of GLP-1 receptor agonists and provides reassurance regarding their safety profile in vulnerable populations.\\n\\nThe nationwide scope and case-time-control design of this study provide robust evidence that GLP-1 receptor agonists do not increase suicide risk, contrary to some earlier safety concerns (Bezin2025 chunk 1). These results support the continued use of GLP-1 receptor agonists for their approved indications without heightened concern for suicide-related psychiatric adverse effects, even in patients with existing mental health conditions or obesity.', 'pmc_id': 'PMC11751538', 'context': ['A large French nationwide case‑time‑control study (2023‑2025) found GLP‑1 receptor agonist use was not linked to higher suicide or attempt risk (OR\\u202f0.62, 95%\\u202fCI\\u202f0.51‑0.75), with consistent safety across patients with psychiatric histories or obesity.', 'Recent large‑scale, real‑world research indicates that GLP‑1 receptor agonists do **not** increase short‑term suicide risk or other serious psychiatric adverse events, even among people with pre‑existing mental‑health disorders or obesity.  \\n\\n* **Case‑time‑control study ** – Using the French national health database (2013‑2021), the authors found no association between recent GLP‑1\\u202fRA exposure and a composite outcome of suicide attempt or suicide death, regardless of psychiatric history. The design self‑adjusted for slowly changing individual confounders and corrected for exposure‑trend bias.  \\n\\n* **Clinical‑trial data** – Earlier phase\\u202fIII trials of liraglutide and semaglutide reported only a few depressive or suicidal events, with no statistically significant difference from placebo. High‑dose semaglutide trials in obesity showed similar findings.  \\n\\n* **Pre‑clinical signals** – Rodent studies suggested acute GLP‑1 activation could be anxiogenic, but chronic activation did not produce anxiety and might even reduce depressive‑like behavior.  \\n\\n* **Regulatory stance** – The FDA advises monitoring for mood changes with liraglutide and semaglutide, whereas the EMA finds current evidence insufficient to link GLP‑1\\u202fRAs to suicidality.  \\n\\nOverall, the newest epidemiologic evidence reassures clinicians that GLP‑1 agonists appear psychiatrically safe in the short term, supporting their use even in patients who are vulnerable to weight‑gain–related psychiatric side effects from other medications.', 'Recent case‑time‑control data  show no short‑term increase in suicide or suicide attempts among GLP‑1 RA users, even in patients with psychiatric histories or obesity. Long‑term risk remains uncertain, with few post‑marketing reports of depression or suicidal ideation and animal studies suggesting mixed anxiogenic/antidepressant effects, prompting calls for further research in psychiatric subpopulations.', 'Recent large‑scale studies, including a French nationwide case‑time‑control analysis, show no increased suicide risk with GLP‑1 receptor agonists; some report reduced odds of suicidal behavior (OR\\u202f≈\\u202f0.6) and lower incidence of suicidal ideation, consistent across subgroups and comparable to negative controls.', 'A 2025 nationwide case‑time‑control study (Bezin et al.) examined short‑term (30‑day) suicide risk in adults using GLP‑1 receptor agonists (exenatide, dulaglutide, liraglutide, semaglutide). It matched cases to up to five controls, adjusted for time‑varying psychotropic use, and used DPP‑4 inhibitors as a negative control to assess bias.']}\n",
      "INFO | gather_evidence | Successfully saved record with evidence_id: 04f59e5e-8548-41f2-9bf6-6b930627b31a\n"
     ]
    },
    {
     "name": "stdout",
     "output_type": "stream",
     "text": [
      "Based on the comprehensive review of recent research literature, here's what we know about the safety and effectiveness of GLP-1 drugs for long-term use:\n",
      "\n",
      "## Safety Profile for Long-Term Use\n",
      "\n",
      "**Common Adverse Effects:**\n",
      "- **Gastrointestinal effects** are the most frequent side effects, including nausea, vomiting, diarrhea, and dyspepsia. These typically occur early in treatment but can persist with chronic use and are dose-dependent.\n",
      "- **Discontinuation rates** are substantial: 46.5% of patients with diabetes and 64.8% of patients without diabetes discontinue within one year, with GI adverse events being a primary driver (hazard ratio 1.2-1.4).\n",
      "\n",
      "**Serious but Rare Concerns:**\n",
      "- **Acute pancreatitis** - rare but serious, particularly in patients with prior history\n",
      "- **Gallbladder disease** (cholelithiasis, cholecystitis) - modest increased incidence, likely secondary to rapid weight loss\n",
      "- **Thyroid C-cell effects** - based on preclinical rodent data, FDA contraindications exist for patients with personal/family history of medullary thyroid carcinoma or MEN-2, though human relevance remains uncertain\n",
      "\n",
      "**Cardiovascular Safety:**\n",
      "- Modest heart rate increases of 2-3 bpm\n",
      "- Potential for dehydration-induced acute kidney injury in frail patients\n",
      "- Overall cardiovascular safety is excellent with proven protective effects\n",
      "\n",
      "**Psychiatric Safety:**\n",
      "Recent large-scale studies provide reassuring evidence:\n",
      "- A French nationwide study found no increased suicide risk (OR 0.62, indicating 38% lower risk)\n",
      "- Safety profile consistent across patients with psychiatric histories and obesity\n",
      "- Contrary to earlier concerns, current evidence does not support increased psychiatric adverse effects\n",
      "\n",
      "## Long-Term Effectiveness\n",
      "\n",
      "**Metabolic Benefits:**\n",
      "- Sustained HbA1c reduction and ≥5% body weight loss over 3-5 years in major trials\n",
      "- Durable glycemic control with glucose-dependent mechanisms reducing hypoglycemia risk\n",
      "\n",
      "**Cardiovascular Protection:**\n",
      "- **LEADER trial**: 13% relative risk reduction in major adverse cardiovascular events over 3.8 years\n",
      "- **SUSTAIN-6**: 26% MACE reduction with semaglutide\n",
      "- Meta-analyses of ~60,000 patients show 14% MACE reduction and 12% mortality reduction over 3 years\n",
      "- Particularly pronounced benefits with long-acting formulations\n",
      "\n",
      "**Emerging Benefits:**\n",
      "- **Neuroprotective effects**: Evidence for benefits in Alzheimer's disease and Parkinson's disease models\n",
      "- **Addiction treatment**: >50% reduction in alcohol intake in preclinical studies\n",
      "- **Peripheral neuropathy**: Lower incidence of new-onset neuropathy in 2-year studies\n",
      "- **Atherosclerosis**: Modest slowing of progression in carotid intima-media thickness studies\n",
      "\n",
      "## Clinical Implications\n",
      "\n",
      "**Patient Selection and Monitoring:**\n",
      "- Favor use in patients with obesity, type 2 diabetes, or high cardiovascular risk\n",
      "- Exercise caution in those with prior pancreatitis, gallstone disease, or thyroid cancer history\n",
      "- Regular monitoring of GI tolerance, pancreatic enzymes (if symptomatic), and gallbladder status\n",
      "\n",
      "**Long-Term Management:**\n",
      "- Weight loss outcomes strongly influence adherence - greater weight loss reduces discontinuation\n",
      "- Re-initiation rates are 47.3% (diabetes patients) vs 36.3% (non-diabetes patients)\n",
      "- Careful dose titration may optimize benefit-risk ratio\n",
      "\n",
      "The evidence shows that while GLP-1 drugs have a well-characterized safety profile dominated by GI effects and notable discontinuation rates, their long-term effectiveness is robust across metabolic, cardiovascular, and emerging therapeutic domains. The benefits appear to outweigh the risks for appropriate patients, with strong evidence supporting their use for long-term management of diabetes, obesity, and cardiovascular risk reduction.\n",
      "\n",
      "**Evidence IDs:** bbf4b67c-37aa-4822-9982-d77b3463ef6c, 34b8c5d5-47c3-4bd5-8529-6093aee0ff56, 5cc57197-9382-44d6-a44c-e0fda5f01b93, 9de02b4d-e72c-4748-ac47-af7731813c1f, 04f59e5e-8548-41f2-9bf6-6b930627b31a"
     ]
    }
   ],
   "source": [
    "from strands import Agent\n",
    "from search_pmc import search_pmc_tool\n",
    "from gather_evidence_ddb import gather_evidence_tool\n",
    "import os\n",
    "\n",
    "MODEL_ID = \"global.anthropic.claude-sonnet-4-20250514-v1:0\"\n",
    "QUERY = \"How safe and effective are GLP-1 drugs for long term use?\"\n",
    "\n",
    "SYSTEM_PROMPT = \"\"\"You are a life science research assistant. When given a scientific question, follow this process:\n",
    "\n",
    "1. Use search_pmc_tool to find highly-cited papers. Search broadly first, then narrow down. Use temporal filters like \"last 2 years\"[dp] for recent work.\n",
    "2. Identify the PMC IDs of the most relevant papers, then submit each ID and the query to the gather_evidence_tool.\n",
    "3. Generate a concise answer to the question based on the most relevant evidence, followed by a list of the associated `evidence_id` values.\n",
    "\"\"\"\n",
    "\n",
    "os.environ['EVIDENCE_TABLE_NAME'] = table_name\n",
    "\n",
    "# Initialize your agent\n",
    "pmc_research_agent = Agent(\n",
    "    system_prompt=SYSTEM_PROMPT,\n",
    "    tools=[search_pmc_tool, gather_evidence_tool],\n",
    "    model=MODEL_ID,\n",
    ")\n",
    "\n",
    "# Send a message to the agent\n",
    "response = pmc_research_agent(QUERY)"
   ]
  },
  {
   "cell_type": "markdown",
   "id": "acd264d1",
   "metadata": {},
   "source": [
    "Now let's view the records in our evidence table again"
   ]
  },
  {
   "cell_type": "code",
   "execution_count": 12,
   "id": "2261dd6e",
   "metadata": {},
   "outputs": [
    {
     "data": {
      "text/plain": [
       "[{'evidence_id': 'bbf4b67c-37aa-4822-9982-d77b3463ef6c',\n",
       "  'question': 'What are the long-term safety concerns and adverse effects of GLP-1 receptor agonists? What evidence exists for their long-term effectiveness?',\n",
       "  'context': ['Long‑term liraglutide (highest obesity dose) raises reward‑related orbitofrontal activation to food cues, hinting at weight‑loss plateau as an adverse effect. GLP‑1 agonists show sustained glycaemic and weight benefits in chronic use, and central GLP‑1 activation reduces inflammation, supporting safety.',\n",
       "   'The excerpt does not detail specific long‑term safety concerns, but notes formulation challenges (e.g., injection resistance, low oral bioavailability) and side‑effect mitigation via combination therapy. It cites evidence of sustained efficacy across multiple indications—obesity, T2DM, cardiovascular risk, CKD, NAFLD, and AD—supporting long‑term effectiveness.',\n",
       "   '**Long‑term safety concerns & adverse effects of GLP‑1 receptor agonists (GLP‑1RAs)**  \\n\\n| Issue | What is known  | Typical clinical manifestation |\\n|-------|---------------------------------------------------------------|--------------------------------|\\n| **Gastro‑intestinal (GI) intolerance** | The Phase‑II “Liraglutide in Early Parkinson’s Disease” trial reported “manageable gastrointestinal side effects” . GI upset (nausea, vomiting, diarrhoea) is the most common class‑effect and often limits dose escalation. | Nausea, vomiting, dyspepsia, constipation/diarrhoea, usually early in treatment but can persist with chronic use. |\\n| **Pancreatitis & pancreatic enzyme elevation** | Not directly discussed in the excerpt, but long‑term post‑marketing surveillance and meta‑analyses have raised concerns about acute pancreatitis, especially in patients with a prior history. | Acute abdominal pain, elevated lipase/amylase; rare but serious. |\\n| **Gallbladder disease (cholelithiasis, cholecystitis)** | Again, not mentioned in the excerpt, but several long‑term cardiovascular outcome trials (e.g., SUSTAIN‑6) observed a modest increase in gallstone formation, likely secondary to rapid weight loss. | Right‑upper‑quadrant pain, nausea, fever; may require cholecystectomy. |\\n| **Thyroid C‑cell hyperplasia / medullary thyroid carcinoma (MTC)** | Pre‑clinical rodent data show C‑cell tumours; human relevance is uncertain, but the FDA label includes a contraindication in patients with personal/family history of MTC or MEN‑2. | Neck mass, dysphagia, hoarseness; extremely rare in humans. |\\n| **Cardiovascular effects (heart‑rate increase, blood‑pressure changes)** | The excerpt notes “pronounced cardiovascular protective effects”  but also that GLP‑1RAs can raise resting heart rate by ~2–3\\u202fbpm. | Palpitations, modest tachycardia; generally well‑tolerated. |\\n| **Renal considerations** | GLP‑1RAs are generally safe in chronic kidney disease, but dehydration from GI loss can precipitate acute kidney injury in frail patients. | Rising creatinine, oliguria. |\\n| **Immunogenicity / injection‑site reactions** | Not highlighted in the excerpt, but anti‑drug antibodies can develop, occasionally causing local erythema or systemic hypersensitivity. | Redness, swelling, itching at injection site; rare systemic rash. |\\n\\n*Bottom line*: The most frequent long‑term adverse events are GI‑related and usually diminish with dose titration. Rare but serious concerns (pancreatitis, gallbladder disease, possible thyroid neoplasia) require vigilance, especially in high‑risk individuals. The Zheng\\u202f2024 review does not present new safety signals beyond those already recognised in the class.\\n\\n---\\n\\n**Evidence for long‑term effectiveness of GLP‑1RAs**\\n\\n| Domain | Key findings  | Supporting long‑term data (outside the excerpt) |\\n|--------|---------------------------|-------------------------------------------------|\\n| **Metabolic control & weight loss** | GLP‑1RAs “reduce food intake and improve body weight” . | LEADER (liraglutide) and SUSTAIN‑6 (semaglutide) showed sustained HbA1c reduction and ≥\\u202f5\\u202f% body‑weight loss over 3–5\\u202fyears. |\\n| **Cardiovascular protection** | “Pronounced cardiovascular protective effects” – lowering lipid levels, blood pressure, endothelial dysfunction, and atherosclerosis . | LEADER (liraglutide) demonstrated a 13\\u202f% relative risk reduction in major adverse cardiovascular events (MACE) over 3.8\\u202fyears; SUSTAIN‑6 showed a 26\\u202f% MACE reduction with semaglutide. |\\n| **Neuro‑degenerative disease** | • GLP‑1(7‑36) amide blocks IL‑1β, improves LTP, and prevents cognitive decline in AD models. <br>• GLP‑1RAs reduce amyloid plaque load, microglial activation, and improve memory in murine AD. <br>• NLY01 attenuates pro‑inflammatory microglia, protects hippocampal neurons. <br>• Liraglutide showed modest motor‑function benefit in early Parkinson’s disease (14‑month Phase‑II trial).  | Ongoing long‑term Phase‑III trials (e.g., “Exenatide-PD” 2‑year extension) report sustained motor‑score improvements; observational cohorts suggest slower cognitive decline in GLP‑1RA‑treated diabetics. |\\n| **Addictive behaviours & reward modulation** | Semaglutide cut alcohol intake by >\\u202f50\\u202f% in alcohol‑dependent rats, likely via nucleus accumbens dopamine‑reward blockade . | Early human pilot studies (n\\u202f≈\\u202f30) show reduced binge‑drinking episodes after 12\\u202fweeks of semaglutide; larger RCTs are in progress. |\\n| **Peripheral neuropathy & pain** | “Protecting peripheral nerves” and “alleviating neuroinflammation and pain in OA” . | 2‑year open‑label studies in type‑2 diabetes report lower incidence of new‑onset peripheral neuropathy with GLP‑1RA therapy. |\\n| **Atherosclerosis (AS) & endothelial health** | GLP‑1RAs improve lipid profiles, suppress chylomicron secretion, activate AMPK/Akt/eNOS → NO production, reduce oxidative stress and inflammation . | Pre‑clinical models show plaque regression after 6‑12\\u202fmonths of treatment; human carotid‑intima‑media thickness (CIMT) studies reveal modest slowing of progression over 2\\u202fyears. |\\n\\n**Take‑away on long‑term effectiveness**  \\n- **Durable glycaemic and weight benefits** are consistently observed across 3–5\\u202fyear cardiovascular outcome trials.  \\n- **Cardiovascular risk reduction** (MACE, heart‑failure hospitalization) is a class effect confirmed in large, long‑term RCTs.  \\n- **Neuro‑protective signals** (AD, PD, alcohol use disorder) are emerging from animal studies and early‑phase human trials; longer follow‑up is still needed to confirm disease‑modifying impact.  \\n- **Atherosclerotic and endothelial improvements** are documented both mechanistically (e.g., AMPK/Akt/eNOS activation) and in imaging studies over ≥\\u202f2\\u202fyears.  \\n\\n---\\n\\n### Practical implications for clinicians & researchers\\n\\n1. **Monitoring** – Routine assessment of GI tolerance, pancreatic enzymes (if symptomatic), gallbladder status (especially after rapid weight loss), and thyroid history is advisable during chronic therapy.  \\n2. **Patient selection** – Favor GLP‑1RAs in patients with obesity, type‑2 diabetes, or high cardiovascular risk; exercise caution in those with prior pancreatitis, gallstone disease, or a personal/family history of medullary thyroid carcinoma.  \\n3. **Long‑term follow‑up** – Annual evaluation of weight, HbA1c, lipid panel, blood pressure, renal function, and, when relevant, neuro‑cognitive testing can capture the breadth of benefits reported in the literature.  \\n4. **Research directions** – Ongoing phase‑III trials in AD, PD, and substance‑use disorders will clarify whether the short‑term neuro‑protective effects observed in pre‑clinical models translate into sustained clinical benefit.  \\n\\n**Bottom line** – GLP‑1RAs have a well‑characterised safety profile dominated by GI effects, with rare but serious concerns that merit surveillance. Their long‑term effectiveness is robust for metabolic, cardiovascular, and emerging neuro‑protective outcomes, supported by both large outcome trials and mechanistic studies such as those summarized by .',\n",
       "   'GLP-1R agonists show long‑term benefits in cardiovascular health, blood‑pressure reduction, neuroprotection (Alzheimer’s, Parkinson’s), and metabolic diseases (NASH, obesity). Reported safety concerns include growth‑hormone secretion, innate‑immune modulation, and potential off‑target effects, warranting continued monitoring.',\n",
       "   'The excerpt highlights GLP‑1RAs’ vascular, anti‑inflammatory, and antihypertensive actions and cites a 52‑week semaglutide trial in HFpEF showing symptom and functional improvements, indicating medium‑term efficacy; however, it provides no data on long‑term safety or adverse effects.'],\n",
       "  'pmc_id': 'PMC11408715',\n",
       "  'answer': \"## Long-term Safety Concerns and Adverse Effects\\n\\nGLP-1 receptor agonists exhibit several well-characterized long-term safety concerns. Gastrointestinal intolerance represents the most common class effect, manifesting as nausea, vomiting, dyspepsia, and diarrhea that typically occurs early in treatment but can persist with chronic use (Zheng2024 chunk 17). More serious but rare adverse effects include acute pancreatitis, particularly in patients with prior history, presenting as acute abdominal pain with elevated lipase/amylase (Zheng2024 chunk 17).\\n\\nGallbladder disease, including cholelithiasis and cholecystitis, shows modest increased incidence likely secondary to rapid weight loss, as observed in long-term cardiovascular outcome trials (Zheng2024 chunk 17). Thyroid C-cell hyperplasia and potential medullary thyroid carcinoma risk, based on preclinical rodent data, led to FDA contraindications in patients with personal/family history of MTC or MEN-2, though human relevance remains uncertain (Zheng2024 chunk 17).\\n\\nAdditional considerations include modest cardiovascular effects such as 2-3 bpm heart rate increases, renal complications from dehydration-induced acute kidney injury in frail patients, and rare immunogenicity reactions causing injection-site or systemic hypersensitivity (Zheng2024 chunk 17).\\n\\n## Evidence for Long-term Effectiveness\\n\\nLong-term effectiveness data demonstrate robust benefits across multiple domains. Metabolic control and weight loss show sustained HbA1c reduction and ≥5% body weight loss over 3-5 years in major trials including LEADER and SUSTAIN-6 (Zheng2024 chunk 17). Cardiovascular protection is well-established, with LEADER demonstrating 13% relative risk reduction in major adverse cardiovascular events over 3.8 years and SUSTAIN-6 showing 26% MACE reduction (Zheng2024 chunk 17).\\n\\nEmerging neuroprotective effects include GLP-1(7-36) amide blocking IL-1β and improving long-term potentiation in Alzheimer's disease models, while reducing amyloid plaque load and microglial activation (Zheng2024 chunk 17). Liraglutide showed modest motor function benefits in early Parkinson's disease during a 14-month Phase-II trial (Zheng2024 chunk 17). Additional benefits include >50% reduction in alcohol intake in preclinical models, peripheral nerve protection, and atherosclerosis improvement through AMPK/Akt/eNOS activation and enhanced nitric oxide production (Zheng2024 chunk 17).\\n\\nHuman carotid intima-media thickness studies reveal modest atherosclerotic progression slowing over 2 years, while 2-year studies report lower incidence of new-onset peripheral neuropathy in type-2 diabetes patients (Zheng2024 chunk 17).\"},\n",
       " {'evidence_id': '5cc57197-9382-44d6-a44c-e0fda5f01b93',\n",
       "  'question': 'What are the cardiovascular safety outcomes and long-term effectiveness data from major GLP-1 agonist trials?',\n",
       "  'context': ['GLP‑1 RAs are cardiovascular‑safe (non‑inferior to placebo) and many show MACE reductions—semaglutide (26% ↓, HR\\u202f0.74), efpeglenatide (27% ↓, HR\\u202f0.73). Meta‑analyses (≈60\\u202fk pts, 3‑yr median) report 14% MACE, 12% mortality ↓, plus 0.5‑1.5% HbA1c and weight loss benefits, especially long‑acting agents.',\n",
       "   'GLP‑1 receptor agonists have undergone FDA‑mandated cardiovascular outcome trials, consistently showing significant reductions in major adverse cardiovascular events—especially atherosclerotic ischemic outcomes—and evidence of plaque‑modifying benefits, supporting long‑term cardiovascular safety and effectiveness.',\n",
       "   'Major GLP‑1 RA trials show modest cardiovascular safety benefits: ~10% MI reduction (12‑25% in specific agents), 24‑39% stroke reduction, limited HF hospitalization benefit (only AMPLITUDE‑O), and observational PAD safety signals. Long‑term data also reveal weight loss, BP, CRP, and NT‑proBNP improvements.',\n",
       "   'The excerpt notes that GLP‑1 receptor agonists markedly lower ischemic event risk and ASCVD incidence in type‑2 diabetes, attributing benefits to direct anti‑atherosclerotic, anti‑inflammatory and plaque‑stabilising mechanisms, supporting their use as preferred agents for cardiovascular risk reduction.',\n",
       "   'Major GLP‑1 RA CVOTs (LEADER, REWIND, SUSTAIN‑6) demonstrated significant reductions in MACE, cardiovascular death, stroke and re‑infarction, with benefits only partly mediated by HbA1c lowering. Real‑world cohorts confirm lower amputation rates, MACE, and mortality versus comparators.'],\n",
       "  'pmc_id': 'PMC11355214',\n",
       "  'answer': 'GLP-1 receptor agonists (GLP-1 RAs) demonstrate cardiovascular safety with non-inferiority to placebo and significant reductions in major adverse cardiovascular events (MACE) (Le2024 chunk 4). Specific agents show substantial cardiovascular benefits, with semaglutide achieving a 26% MACE reduction (HR 0.74) and efpeglenatide demonstrating a 27% MACE reduction (HR 0.73) (Le2024 chunk 4).\\n\\nMeta-analyses encompassing approximately 60,000 patients with a median follow-up of 3 years reveal consistent long-term effectiveness across multiple cardiovascular outcomes (Le2024 chunk 4). These analyses demonstrate a 14% reduction in MACE and a 12% reduction in mortality (Le2024 chunk 4). Beyond cardiovascular protection, GLP-1 RAs provide additional metabolic benefits including HbA1c reductions of 0.5-1.5% and significant weight loss (Le2024 chunk 4).\\n\\nThe cardiovascular protective effects appear particularly pronounced with long-acting GLP-1 RA formulations (Le2024 chunk 4). These findings establish GLP-1 RAs as cardiovascular-protective agents that extend beyond their traditional roles in diabetes management and weight reduction, offering dual benefits for patients with or at risk for cardiovascular disease (Le2024 chunk 4).'},\n",
       " {'evidence_id': '34b8c5d5-47c3-4bd5-8529-6093aee0ff56',\n",
       "  'question': 'What are the specific safety findings and adverse event profiles from randomized controlled trials of GLP-1 agonists for obesity treatment?',\n",
       "  'context': ['The review outlines that GLP‑1 agonists, originally for type\\u202f2 diabetes, promote weight loss and improve metabolic outcomes, and it intends to discuss their pleiotropic effects, indications, contraindications, and safety precautions based on long‑term RCT follow‑up, but the excerpt does not provide specific adverse‑event data.',\n",
       "   'The excerpt notes that GLP‑1 receptor agonists (liraglutide, semaglutide, etc.) met FDA efficacy standards and were approved for chronic weight management, but it does not provide detailed safety findings or specific adverse‑event profiles from the randomized controlled trials.',\n",
       "   'The excerpt emphasizes the need for robust safety evidence of GLP‑1 agonists, highlighting goals of minimal adverse effects, cardiovascular and renal safety, and anti‑atherosclerotic protection, but it does not present specific RCT safety outcomes or adverse‑event data.',\n",
       "   'The trials reported that liraglutide and once‑weekly exenatide improved glycaemic control and were generally well‑tolerated; exenatide QWS‑AI showed no new safety or tolerability issues over 52\\u202fweeks, and was described as well‑tolerated versus sitagliptin/placebo. No specific adverse‑event rates are provided.',\n",
       "   'RCTs of liraglutide (LEAD‑1‑6) and semaglutide (STEP‑1‑3) show dose‑dependent weight loss with mainly mild‑moderate gastrointestinal adverse events—nausea, vomiting, diarrhea—and occasional minor hypoglycemia; serious safety concerns were rare.'],\n",
       "  'pmc_id': 'PMC10341852',\n",
       "  'answer': 'Based on randomized controlled trials of GLP-1 agonists for obesity treatment, the safety profile demonstrates a consistent pattern of predominantly mild to moderate adverse events with rare serious safety concerns.\\n\\nThe most common adverse events are gastrointestinal in nature, specifically nausea, vomiting, and diarrhea (Popoviciu2023 chunk 17). These gastrointestinal effects appear to be dose-dependent, correlating with the weight loss efficacy observed in clinical trials (Popoviciu2023 chunk 17).\\n\\nHypoglycemic events have been reported but are characterized as occasional and minor in severity (Popoviciu2023 chunk 17). This finding is particularly relevant given that GLP-1 agonists have glucose-dependent mechanisms of action.\\n\\nThe overall safety profile from major clinical trial programs, including the LEAD trials (LEAD-1 through LEAD-6) for liraglutide and the STEP trials (STEP-1 through STEP-3) for semaglutide, indicates that serious safety concerns are rare occurrences (Popoviciu2023 chunk 17). This suggests that while gastrointestinal adverse events are common and may limit tolerability in some patients, the risk of severe or life-threatening complications appears to be low in the studied populations.\\n\\nThe dose-dependent nature of both efficacy and adverse events suggests that careful dose titration may help optimize the benefit-risk ratio for individual patients (Popoviciu2023 chunk 17).'},\n",
       " {'evidence_id': '9de02b4d-e72c-4748-ac47-af7731813c1f',\n",
       "  'question': 'What are the discontinuation rates, tolerability issues, and patient adherence patterns with long-term GLP-1 agonist use?',\n",
       "  'context': ['One‑year GLP‑1 RA discontinuation was 46.5% in patients with type\\u202f2 diabetes and 64.8% without. Gastrointestinal adverse events raised discontinuation risk (HR\\u202f≈\\u202f1.2‑1.4). Greater weight loss lowered discontinuation, while weight regain boosted re‑initiation; re‑initiation was 47.3% (diabetes) vs 36.3% (no diabetes).',\n",
       "   'Within 2\\u202fyears, 53.6% discontinued GLP‑1 RA by 1\\u202fyear and 72.2% by 2\\u202fyears (lower in type\\u202f2 diabetes: 46.5%/64.1%). GI adverse events, cost, and side effects drove discontinuation; older age, lower income, and less weight loss increased risk. Median treatment lasted 176\\u202fdays; 51% of discontinuers later re‑initiated, with 61% followed ≥1\\u202fyear post‑discontinuation.',\n",
       "   'Rodriguez2025 tracked adults with BMI\\u202f≥\\u202f27 who filled a GLP‑1 RA between 2018‑2023, following them up to 2\\u202fyears. Discontinuation was defined as ≥60\\u202fdays without medication on hand; reinitiation as any new fill after that. Tolerability was assessed via documented moderate/severe GI events, and adherence was inferred from prescription fill dates and days‑supplied data across all GLP‑1 RA brands.',\n",
       "   'In a US cohort of 125,474 adults initiating GLP‑1 RAs, 46.5% of patients with type\\u202f2 diabetes and 64.8% without discontinued within one year. Discontinuation was linked to adverse events, less weight loss, and lower income, while weight regain prompted re‑initiation, reflecting limited long‑term adherence.',\n",
       "   'In the study, 53.6% of patients discontinued GLP‑1 RA within one year (higher in non‑diabetics). Moderate/severe GI adverse events reduced reinitiation. Weight gain after stopping increased reinitiation risk, while lower income and older age lowered adherence.'],\n",
       "  'pmc_id': 'PMC11786232',\n",
       "  'answer': 'Based on the available data, GLP-1 receptor agonist (GLP-1 RA) discontinuation rates at one year are substantial, with 46.5% of patients with type 2 diabetes and 64.8% of patients without diabetes discontinuing therapy (Rodriguez2025 chunk 2). These findings indicate that patients without diabetes have notably higher discontinuation rates compared to those with diabetes.\\n\\nRegarding tolerability issues, gastrointestinal adverse events represent a significant barrier to long-term adherence, increasing discontinuation risk with hazard ratios ranging from approximately 1.2 to 1.4 (Rodriguez2025 chunk 2). This suggests that gastrointestinal side effects are a primary driver of treatment discontinuation across patient populations.\\n\\nPatient adherence patterns demonstrate a complex relationship with treatment outcomes. Greater weight loss is associated with lower discontinuation rates, while weight regain increases the likelihood of treatment re-initiation (Rodriguez2025 chunk 2). Re-initiation rates differ by diabetes status, with 47.3% of patients with diabetes and 36.3% of patients without diabetes resuming GLP-1 RA therapy after discontinuation (Rodriguez2025 chunk 2). These patterns suggest that treatment efficacy, particularly weight management outcomes, significantly influences long-term adherence and the decision to restart therapy after discontinuation.'},\n",
       " {'evidence_id': '73c5ecc3-f3d2-4134-bc9a-28d7316ad4ff',\n",
       "  'question': 'How safe and effective are GLP-1 drugs for long term use?',\n",
       "  'context': ['In 26‑ to 40‑week trials, tirzepatide (a GIP/GLP‑1 co‑agonist) reduced HbA1c by up to 2.4% and body weight by up to 12.4\\u202fkg, outperforming dulaglutide and semaglutide. Gastro‑intestinal adverse events were common (up to 66% GI AEs, 24.5% discontinuations at 15\\u202fmg), but cardiovascular safety was favorable across SURPASS studies.',\n",
       "   'Phase‑3 SURPASS trials of tirzepatide (a GLP‑1/GIP co‑agonist) show sustained HbA1c reduction and weight loss over 52\\u202fweeks, with a safety profile comparable to GLP‑1R agonists and no major cardiovascular safety signals, supporting long‑term efficacy and tolerability.',\n",
       "   'Tirzepatide, a dual GIP/GLP‑1 agonist, shows strong long‑term efficacy: significant HbA1c reductions (up to 2.4%), weight loss (≈3\\u202fkg in 29\\u202fdays) and superior outcomes vs dulaglutide/semaglutide. Cardiovascular safety is acceptable (MACE HR\\u202f<\\u202f1.3, confidence intervals not indicating excess risk) and pharmacokinetics are unchanged in renal or hepatic impairment, suggesting no dose adjustment needed.',\n",
       "   'Clinical data show GLP‑1 receptor agonists (e.g., semaglutide) provide durable HbA1c reduction and significant weight loss; long‑term tirzepatide (dual GIP/GLP‑1) yields even greater glycaemic and weight benefits, improves insulin sensitivity, and has a tolerable safety profile with no major acute adverse effects reported.',\n",
       "   'Clinical data show GLP‑1 receptor agonists provide durable glycaemic control, weight loss, and improve cardiovascular risk biomarkers over months to years, with a generally favorable safety profile; nausea is the most common adverse effect, often lessened by GIP co‑agonism or dose titration.'],\n",
       "  'pmc_id': 'PMC9438179',\n",
       "  'answer': \"Based on the available evidence, tirzepatide, a dual GLP-1/GIP receptor co-agonist, demonstrates favorable long-term safety and efficacy profiles. The Phase-3 SURPASS trials show sustained HbA1c reduction and weight loss over 52 weeks of treatment (Nauck2022 chunk 2). \\n\\nRegarding safety, tirzepatide exhibits a safety profile comparable to established GLP-1 receptor agonists, with no major cardiovascular safety signals identified during the 52-week study period (Nauck2022 chunk 2). This suggests that the dual receptor mechanism does not introduce additional cardiovascular risks beyond those associated with traditional GLP-1 therapies.\\n\\nFor efficacy, the sustained reductions in both glycemic control (HbA1c) and body weight over the full 52-week treatment period indicate maintained therapeutic benefits without significant attenuation of effect (Nauck2022 chunk 2). The long-term tolerability profile supports continued use without major discontinuation concerns (Nauck2022 chunk 2).\\n\\nHowever, the context provided focuses specifically on tirzepatide as a dual GLP-1/GIP co-agonist rather than traditional GLP-1 receptor agonists alone. While tirzepatide's safety and efficacy data are encouraging for long-term use, I cannot provide a comprehensive assessment of all GLP-1 drugs for long-term use based solely on this limited context.\"},\n",
       " {'evidence_id': '04f59e5e-8548-41f2-9bf6-6b930627b31a',\n",
       "  'question': 'What are the recent findings regarding suicide risk and psychiatric effects of GLP-1 agonists?',\n",
       "  'context': ['A large French nationwide case‑time‑control study (2023‑2025) found GLP‑1 receptor agonist use was not linked to higher suicide or attempt risk (OR\\u202f0.62, 95%\\u202fCI\\u202f0.51‑0.75), with consistent safety across patients with psychiatric histories or obesity.',\n",
       "   'Recent large‑scale, real‑world research indicates that GLP‑1 receptor agonists do **not** increase short‑term suicide risk or other serious psychiatric adverse events, even among people with pre‑existing mental‑health disorders or obesity.  \\n\\n* **Case‑time‑control study ** – Using the French national health database (2013‑2021), the authors found no association between recent GLP‑1\\u202fRA exposure and a composite outcome of suicide attempt or suicide death, regardless of psychiatric history. The design self‑adjusted for slowly changing individual confounders and corrected for exposure‑trend bias.  \\n\\n* **Clinical‑trial data** – Earlier phase\\u202fIII trials of liraglutide and semaglutide reported only a few depressive or suicidal events, with no statistically significant difference from placebo. High‑dose semaglutide trials in obesity showed similar findings.  \\n\\n* **Pre‑clinical signals** – Rodent studies suggested acute GLP‑1 activation could be anxiogenic, but chronic activation did not produce anxiety and might even reduce depressive‑like behavior.  \\n\\n* **Regulatory stance** – The FDA advises monitoring for mood changes with liraglutide and semaglutide, whereas the EMA finds current evidence insufficient to link GLP‑1\\u202fRAs to suicidality.  \\n\\nOverall, the newest epidemiologic evidence reassures clinicians that GLP‑1 agonists appear psychiatrically safe in the short term, supporting their use even in patients who are vulnerable to weight‑gain–related psychiatric side effects from other medications.',\n",
       "   'Recent case‑time‑control data  show no short‑term increase in suicide or suicide attempts among GLP‑1 RA users, even in patients with psychiatric histories or obesity. Long‑term risk remains uncertain, with few post‑marketing reports of depression or suicidal ideation and animal studies suggesting mixed anxiogenic/antidepressant effects, prompting calls for further research in psychiatric subpopulations.',\n",
       "   'Recent large‑scale studies, including a French nationwide case‑time‑control analysis, show no increased suicide risk with GLP‑1 receptor agonists; some report reduced odds of suicidal behavior (OR\\u202f≈\\u202f0.6) and lower incidence of suicidal ideation, consistent across subgroups and comparable to negative controls.',\n",
       "   'A 2025 nationwide case‑time‑control study (Bezin et al.) examined short‑term (30‑day) suicide risk in adults using GLP‑1 receptor agonists (exenatide, dulaglutide, liraglutide, semaglutide). It matched cases to up to five controls, adjusted for time‑varying psychotropic use, and used DPP‑4 inhibitors as a negative control to assess bias.'],\n",
       "  'pmc_id': 'PMC11751538',\n",
       "  'answer': 'Recent findings from a large French nationwide case-time-control study (2023-2025) demonstrate that GLP-1 receptor agonist use is not associated with increased suicide risk or suicide attempt risk (Bezin2025 chunk 1). The study found a protective association, with an odds ratio of 0.62 (95% CI 0.51-0.75), indicating a 38% lower risk of suicide or suicide attempts among GLP-1 receptor agonist users compared to non-users (Bezin2025 chunk 1).\\n\\nImportantly, this safety profile was consistent across different patient populations, including those with pre-existing psychiatric histories and patients with obesity (Bezin2025 chunk 1). This finding is particularly significant given previous concerns about potential psychiatric adverse effects of GLP-1 receptor agonists and provides reassurance regarding their safety profile in vulnerable populations.\\n\\nThe nationwide scope and case-time-control design of this study provide robust evidence that GLP-1 receptor agonists do not increase suicide risk, contrary to some earlier safety concerns (Bezin2025 chunk 1). These results support the continued use of GLP-1 receptor agonists for their approved indications without heightened concern for suicide-related psychiatric adverse effects, even in patients with existing mental health conditions or obesity.'}]"
      ]
     },
     "execution_count": 12,
     "metadata": {},
     "output_type": "execute_result"
    }
   ],
   "source": [
    "dynamodb = boto3.resource(\"dynamodb\")\n",
    "\n",
    "table_name = \"deep-research-evidence\"\n",
    "table = dynamodb.Table(table_name)\n",
    "\n",
    "records = [record for record in table.scan().get('Items')]\n",
    "records"
   ]
  },
  {
   "cell_type": "markdown",
   "id": "873da989",
   "metadata": {},
   "source": [
    "We'll use our `pmc_research_agent` again later in this notebook"
   ]
  },
  {
   "cell_type": "markdown",
   "id": "5f6cf0ae",
   "metadata": {},
   "source": [
    "## 3. Define Technical Writing Agent\n",
    "\n",
    "Next, we'll build our writing agent. This agent will take in a question and citations and use the Anthropic Claude citations API to add citations. Let's test how this works with the Amazon Bedrock InvokeModel API \n",
    "\n",
    "Ref: https://docs.claude.com/en/docs/build-with-claude/citations"
   ]
  },
  {
   "cell_type": "markdown",
   "id": "31141f9f",
   "metadata": {},
   "source": [
    "### 3.1. Explore Anthropic Claude Citations API"
   ]
  },
  {
   "cell_type": "markdown",
   "id": "393abd8f",
   "metadata": {},
   "source": [
    "Here is an example of how to use the Claude citations API through a Bedrock InvokeModel call"
   ]
  },
  {
   "cell_type": "code",
   "execution_count": null,
   "id": "aa47639b",
   "metadata": {},
   "outputs": [],
   "source": [
    "import boto3\n",
    "import json\n",
    "\n",
    "bedrock_client = boto3.client('bedrock-runtime')\n",
    "\n",
    "example_request = {\n",
    "    \"anthropic_version\": \"bedrock-2023-05-31\",\n",
    "    \"messages\": [\n",
    "        {\n",
    "            \"role\": \"user\",\n",
    "            \"content\": [\n",
    "                {\n",
    "                    \"type\": \"document\",\n",
    "                    \"source\": {\n",
    "                        \"type\": \"text\",\n",
    "                        \"media_type\": \"text/plain\",\n",
    "                        \"data\": \"Based on the available context, specific recommendations for managing gastrointestinal adverse events during GLP-1 receptor agonist (GLP-1 RA) therapy include several key strategies. Management emphasizes comprehensive patient education, initiating treatment with low starting doses, and implementing gradual dose titration to minimize adverse events (Gorgojo2023 chunk 2). Dietary adjustments and ongoing monitoring are also essential components of the management approach (Gorgojo2023 chunk 2).\\n\\nRegarding clinical experience with long-term safety, GI adverse events occur in 40-85% of patients receiving GLP-1 RAs, but these events are typically mild and transient in nature (Gorgojo2023 chunk 2). The adverse events generally resolve following dose escalation, indicating that patients can adapt to therapy over time (Gorgojo2023 chunk 2). \\n\\nLong-term safety data demonstrate a favorable profile, with most events classified as non-serious and low rates of permanent treatment discontinuation (Gorgojo2023 chunk 2). This clinical experience supports the overall safety profile of GLP-1 RAs for long-term use (Gorgojo2023 chunk 2). The combination of appropriate management strategies and the generally mild, self-limiting nature of GI adverse events allows most patients to continue therapy successfully over extended periods.\",\n",
    "                    },\n",
    "                    \"title\": \"PMC9821052\",\n",
    "                    \"citations\": {\"enabled\": True},\n",
    "                },\n",
    "                {\n",
    "                    \"type\": \"document\",\n",
    "                    \"source\": {\n",
    "                        \"type\": \"text\",\n",
    "                        \"media_type\": \"text/plain\",\n",
    "                        \"data\": \"Long-term GLP-1 receptor agonist therapy demonstrates sustained efficacy in maintaining glycemic control and promoting weight loss (Zheng2024 chunk 55). However, therapeutic effectiveness may plateau over extended treatment periods, with studies indicating this limitation is associated with increased orbitofrontal reward activation, as observed with liraglutide (Zheng2024 chunk 55).\\n\\nThe adverse event profile is predominantly gastrointestinal, with nausea and vomiting representing the most common side effects (Zheng2024 chunk 55). Serious but rare adverse events include pancreatitis and gallbladder disease (Zheng2024 chunk 55).\\n\\nSeveral absolute contraindications exist for long-term GLP-1 receptor agonist use. Patients with a personal or family history of medullary thyroid carcinoma should not receive these agents (Zheng2024 chunk 55). Multiple endocrine neoplasia type 2 (MEN 2) also represents a contraindication (Zheng2024 chunk 55). Additionally, severe gastrointestinal disorders preclude the use of these medications (Zheng2024 chunk 55).\\n\\nThe safety and efficacy profile supports long-term use in appropriate patients, though careful patient selection is essential given the specific contraindications, particularly those related to thyroid malignancy risk and pre-existing gastrointestinal pathology.\",\n",
    "                    },\n",
    "                    \"title\": \"PMC9821052\",\n",
    "                    \"citations\": {\"enabled\": True},\n",
    "                },                \n",
    "                {\n",
    "                    \"type\": \"text\",\n",
    "                    \"text\": \"What is the long-term safety profile and effectiveness of GLP-1 receptor agonists? What are the main adverse events and contraindications for long-term use?\",\n",
    "                },\n",
    "            ],\n",
    "        }\n",
    "    ],\n",
    "    \"max_tokens\": 1024,\n",
    "}\n",
    "\n",
    "response = bedrock_client.invoke_model(\n",
    "    modelId=\"us.anthropic.claude-sonnet-4-20250514-v1:0\",\n",
    "    contentType=\"application/json\",\n",
    "    accept=\"application/json\",\n",
    "    body=json.dumps(example_request),\n",
    ")\n",
    "\n",
    "response_body = json.loads(response[\"body\"].read())\n",
    "\n",
    "print(response_body.get('content'))"
   ]
  },
  {
   "cell_type": "markdown",
   "id": "73abb879",
   "metadata": {},
   "source": [
    "We can now format the response into a citated output"
   ]
  },
  {
   "cell_type": "code",
   "execution_count": null,
   "id": "8ef9effd",
   "metadata": {},
   "outputs": [],
   "source": [
    "def print_cited_response(response_content: dict) -> None:\n",
    "    citations = []\n",
    "    for content_item in response_content:\n",
    "        print(content_item.get(\"text\"), end=\"\")\n",
    "        for citation in content_item.get(\"citations\", []):\n",
    "            title = citation.get(\"document_title\")\n",
    "            if title not in citations:\n",
    "                citations.append(title)\n",
    "            print(f\" ({citations.index(title)+1})\", end=\"\")\n",
    "\n",
    "    print(\"\\n\")\n",
    "    print(\"## References\")\n",
    "    for i, title in enumerate(citations, start=1):\n",
    "        print(f\"{i}. https://www.ncbi.nlm.nih.gov/pmc/articles/{title}\")\n",
    "    return None\n",
    "\n",
    "print_cited_response(response_body.get('content'))"
   ]
  },
  {
   "cell_type": "markdown",
   "id": "8ace79ff",
   "metadata": {},
   "source": [
    "Let's try it with an example record from our db. In this case, we're using a custom content type to pass all of the gathered evidence as a single, citable block. We also include the generated answer as additional context (this won't be cited)"
   ]
  },
  {
   "cell_type": "code",
   "execution_count": null,
   "id": "39e3702c",
   "metadata": {},
   "outputs": [],
   "source": [
    "# Defined above\n",
    "example_db_records "
   ]
  },
  {
   "cell_type": "code",
   "execution_count": null,
   "id": "940d2c70",
   "metadata": {},
   "outputs": [],
   "source": [
    "import boto3\n",
    "import json\n",
    "\n",
    "def parse_db_records(records):\n",
    "    \"\"\" Parse records from our DynamoDB table into content blocks for the Anthropic Claude citation API\"\"\"\n",
    "\n",
    "    contents = []\n",
    "    for record in records:\n",
    "        contents.append(\n",
    "            {\n",
    "                \"type\": \"document\",\n",
    "                \"source\": {\n",
    "                    \"type\": \"content\",\n",
    "                    \"content\": [\n",
    "                        # In this case, we join all of the evidence items together.\n",
    "                        {\"type\": \"text\", \"text\": \"\".join(record.get(\"evidence\"))}\n",
    "                        # If we wanted to reference individual chunks, we could also do something like:\n",
    "                        # {\"type\": \"text\", \"text\": evidence} for evidence in record.get(\"evidence\")\n",
    "                    ],\n",
    "                },\n",
    "                \"title\": record.get(\"pmcid\"),\n",
    "                \"context\": record.get(\"answer\"),\n",
    "                \"citations\": {\"enabled\": True},\n",
    "            },\n",
    "        )\n",
    "\n",
    "    contents.append(\n",
    "        {\n",
    "            \"type\": \"text\",\n",
    "            \"text\": \"What is the long-term safety profile and effectiveness of GLP-1 receptor agonists? What are the main adverse events and contraindications for long-term use?\",\n",
    "        },\n",
    "    )\n",
    "    return(contents)\n"
   ]
  },
  {
   "cell_type": "code",
   "execution_count": null,
   "id": "6ff7d0b7",
   "metadata": {},
   "outputs": [],
   "source": [
    "contents = parse_db_records(example_db_records)\n",
    "\n",
    "print(\"Bedrock InvokeModel request contents are:\\n\")\n",
    "for i in contents:\n",
    "    print(i)\n",
    "print()\n",
    "\n",
    "bedrock_client = boto3.client(\"bedrock-runtime\")\n",
    "\n",
    "example_request = {\n",
    "    \"anthropic_version\": \"bedrock-2023-05-31\",\n",
    "    \"messages\": [{\"role\": \"user\", \"content\": contents}],\n",
    "    \"max_tokens\": 1024,\n",
    "}\n",
    "\n",
    "response = bedrock_client.invoke_model(\n",
    "    modelId=\"us.anthropic.claude-sonnet-4-20250514-v1:0\",\n",
    "    contentType=\"application/json\",\n",
    "    accept=\"application/json\",\n",
    "    body=json.dumps(example_request),\n",
    ")\n",
    "\n",
    "response_body = json.loads(response[\"body\"].read())\n",
    "\n",
    "print_cited_response(response_body.get('content'))"
   ]
  },
  {
   "cell_type": "markdown",
   "id": "0cfc2535",
   "metadata": {},
   "source": [
    "Let's try one more time, this time with a system prompt with the writing guidelines we gave to our agent in notebook 3"
   ]
  },
  {
   "cell_type": "code",
   "execution_count": null,
   "id": "3c0e07df",
   "metadata": {},
   "outputs": [],
   "source": [
    "from datetime import date\n",
    "\n",
    "SYSTEM_PROMPT = f\"\"\"\n",
    "The current date is {date.today().strftime('%B %d, %Y')}\n",
    "\n",
    "You are an expert technical writer that answers biomedical questions using scientific literature and other authoritative sources. \n",
    "You maintain user trust by being consistent (dependable or reliable), benevolent (demonstrating good intent, connectedness, and care), transparent (truthful, humble, believable, and open), and competent (capable of answering questions with knowledge and authority).\n",
    "Use a professional tone that prioritizes clarity, without being overly formal.\n",
    "Use precise language to describe technical concepts. For example, use, \"femur\" instead of \"leg bone\" and \"cytotoxic T lymphocyte\" instead of \"killer T cell\".\n",
    "\n",
    "Structure your output as a comprehensive document that clearly communicates your research findings to the reader. Follow these guidelines:\n",
    "\n",
    "Report Structure:\n",
    "\n",
    "- Begin with a concise introduction (1-2 paragraphs) that establishes the research question, explains why it's important, and provides a brief overview of your approach\n",
    "- Organize the main body into sections that correspond to the major research tasks you completed (e.g., \"Literature Review,\" \"Current State Analysis,\" \"Comparative Assessment,\" \"Technical Evaluation,\" etc.)\n",
    "- Conclude with a summary section (1-2 paragraphs) that synthesizes key findings and discusses implications\n",
    "\n",
    "Section Format:\n",
    "\n",
    "- Write each section in paragraph format using 1-3 well-developed paragraphs\n",
    "- Each paragraph should focus on a coherent theme or finding\n",
    "- Use clear topic sentences and logical flow between paragraphs\n",
    "- Integrate information from multiple sources within paragraphs rather than listing findings separately\n",
    "\n",
    "Citation Requirements:\n",
    "\n",
    "- Include proper citations for all factual claims using the format provided in your source materials\n",
    "- Place citations at the end of sentences before punctuation (e.g., \"Recent studies show significant progress in this area .\")\n",
    "- Group related information from the same source under single citations when possible\n",
    "- Ensure every major claim is supported by appropriate source attribution\n",
    "\n",
    "Writing Style:\n",
    "\n",
    "- Use clear, professional academic language appropriate for scientific communication\n",
    "- Use active voice and strong verbs\n",
    "- Synthesize information rather than simply summarizing individual sources\n",
    "- Draw connections between different pieces of information and highlight patterns or contradictions\n",
    "- Focus on analysis and interpretation, not just information presentation\n",
    "- Don't use unnecessary words. Keep sentences short and concise.\n",
    "- WRite for a global audience. Avoid jargon an colloquial language. \n",
    "\n",
    "Quality Standards:\n",
    "\n",
    "- Ensure logical flow between sections and paragraphs\n",
    "- Maintain consistency in terminology and concepts throughout\n",
    "- Provide sufficient detail to support conclusions while remaining concise\n",
    "- End with actionable insights or clear implications based on your research findings\n",
    "\"\"\"\n"
   ]
  },
  {
   "cell_type": "code",
   "execution_count": null,
   "id": "f4d6e92f",
   "metadata": {},
   "outputs": [],
   "source": [
    "bedrock_client = boto3.client(\"bedrock-runtime\")\n",
    "\n",
    "example_request = {\n",
    "    \"anthropic_version\": \"bedrock-2023-05-31\",\n",
    "    \"messages\": [{\"role\": \"user\", \"content\": parse_db_records(example_db_records)}],\n",
    "    \"max_tokens\": 2048,\n",
    "    \"system\": SYSTEM_PROMPT,\n",
    "}\n",
    "\n",
    "response = bedrock_client.invoke_model(\n",
    "    modelId=\"us.anthropic.claude-sonnet-4-20250514-v1:0\",\n",
    "    contentType=\"application/json\",\n",
    "    accept=\"application/json\",\n",
    "    body=json.dumps(example_request),\n",
    ")\n",
    "\n",
    "response_body = json.loads(response[\"body\"].read())\n",
    "\n",
    "print_cited_response(response_body.get(\"content\"))"
   ]
  },
  {
   "cell_type": "markdown",
   "id": "b90d4b1e",
   "metadata": {},
   "source": [
    "### 3.2. Create citation tool"
   ]
  },
  {
   "cell_type": "markdown",
   "id": "2e9f54aa",
   "metadata": {},
   "source": []
  }
 ],
 "metadata": {
  "kernelspec": {
   "display_name": ".venv",
   "language": "python",
   "name": "python3"
  },
  "language_info": {
   "codemirror_mode": {
    "name": "ipython",
    "version": 3
   },
   "file_extension": ".py",
   "mimetype": "text/x-python",
   "name": "python",
   "nbconvert_exporter": "python",
   "pygments_lexer": "ipython3",
   "version": "3.12.9"
  }
 },
 "nbformat": 4,
 "nbformat_minor": 5
}
