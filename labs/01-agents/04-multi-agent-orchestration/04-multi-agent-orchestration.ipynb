{
 "cells": [
  {
   "cell_type": "markdown",
   "id": "2d534971-cb20-4752-9331-a3f98339eced",
   "metadata": {},
   "source": [
    "# Multi-Agent Orchestration\n",
    "\n",
    "In this notebook, you'll create a team of agents that can create detailed research reports.\n",
    "\n",
    "Here's how this will work:\n",
    "\n",
    "1. User ask question to lead agent\n",
    "2. Lead agent decomposes question and creates research plan with multiple tasks\n",
    "3. Lead agent calls research agent with task 1 instructions\n",
    "4. Research agent examines task 1 instructions\n",
    "5. Research agent calls `search_pmc` and `gather_evidence` tools multiple times. Every time `gather_evidence` finishes, it saves the evidence gathered from a single PMC article to DynamoDB\n",
    "6. Research agent returns a task report with a summary and list of evidence id values\n",
    "7. Lead agent examines task report and updates research plan with information from research agent\n",
    "8. Repeat steps 3-7 for all tasks.\n",
    "9. Once research is complete, lead agent submits each section 1 summary and evidence to technical writing agent\n",
    "10. Technical writing agent retrieves evidence records from DynamoDB and submits section summary and evidence to Claude citation API\n",
    "11. Claude generates report section with inline citations\n",
    "12. Technical writing agent writes report section to file\n",
    "13. Technical writing agent reports completion to lead agent\n",
    "14. Repeat steps 9-13 for all sections\n",
    "15. Lead agent uses publish tool to reformat citations and return document to user.\n",
    "\n",
    "## 1. Prerequisites\n",
    "\n",
    "- Python 3.12 or later\n",
    "- AWS account configured with appropriate permissions\n",
    "- Access to the Anthropic Claude 3.7 Sonnet model in Amazon Bedrock\n",
    "- Basic understanding of Python programming"
   ]
  },
  {
   "cell_type": "code",
   "execution_count": null,
   "id": "722465ef-f70b-48fc-9b78-d4d8a49f30b2",
   "metadata": {
    "scrolled": true
   },
   "outputs": [],
   "source": [
    "%pip install -U -r requirements.txt"
   ]
  },
  {
   "cell_type": "code",
   "execution_count": 2,
   "id": "217d7e17-be9a-474e-b683-d3f7ccd69b34",
   "metadata": {},
   "outputs": [],
   "source": [
    "import logging\n",
    "\n",
    "# Sets the logging format and streams logs to stderr\n",
    "logging.basicConfig(\n",
    "    level=logging.INFO,\n",
    "    format=\"%(levelname)s | %(name)s | %(message)s\", \n",
    "    handlers=[logging.StreamHandler()]\n",
    ")\n",
    "\n",
    "# Enables Strands warnings log level\n",
    "logging.getLogger(\"strands\").setLevel(logging.WARNING)"
   ]
  },
  {
   "cell_type": "code",
   "execution_count": 3,
   "id": "b9d16ed8",
   "metadata": {},
   "outputs": [],
   "source": [
    "MODEL_ID = \"global.anthropic.claude-sonnet-4-20250514-v1:0\""
   ]
  },
  {
   "cell_type": "markdown",
   "id": "136e048e",
   "metadata": {},
   "source": [
    "## 2. Define PMC Research Agent\n",
    "\n",
    "This agent will be similar to the gather evidence agent we created in notebook 2, but with a change in how the evidence is stored. To avoid the \"game of telephone\" problem, we are going to deterministically store the gathered evidence in a DynamoDB table. This is a big advantage to building AI agents on AWS - they can leverage any of the 200+ services to store and process data.\n",
    "\n",
    "Let's test out the updated tool to see how it works.\n",
    "\n",
    "First, we create a DynamoDB table, with `toolUseId` as the primary key and `pmcid` as a global secondary id. This gives us the flexibility to extract evidence records either by tool use or paper. "
   ]
  },
  {
   "cell_type": "code",
   "execution_count": 4,
   "id": "7b279954",
   "metadata": {},
   "outputs": [
    {
     "name": "stderr",
     "output_type": "stream",
     "text": [
      "INFO | botocore.credentials | Found credentials in shared credentials file: ~/.aws/credentials\n"
     ]
    },
    {
     "name": "stdout",
     "output_type": "stream",
     "text": [
      "Table 'deep-research-evidence' already exists\n"
     ]
    }
   ],
   "source": [
    "import boto3\n",
    "\n",
    "dynamodb = boto3.resource(\"dynamodb\")\n",
    "\n",
    "# Check if table exists\n",
    "table_name = \"deep-research-evidence\"\n",
    "try:\n",
    "    table = dynamodb.Table(table_name)\n",
    "    table.load()\n",
    "    print(f\"Table '{table_name}' already exists\")\n",
    "except:\n",
    "    # Create table if it doesn't exist\n",
    "    table = dynamodb.create_table(\n",
    "        TableName=table_name,\n",
    "        KeySchema=[{\"AttributeName\": \"toolUseId\", \"KeyType\": \"HASH\"}],\n",
    "        AttributeDefinitions=[\n",
    "            {\"AttributeName\": \"toolUseId\", \"AttributeType\": \"S\"},\n",
    "            {\"AttributeName\": \"pmcid\", \"AttributeType\": \"S\"},\n",
    "        ],\n",
    "        GlobalSecondaryIndexes=[\n",
    "            {\n",
    "                \"IndexName\": \"pmcid-index\",\n",
    "                \"KeySchema\": [{\"AttributeName\": \"pmcid\", \"KeyType\": \"HASH\"}],\n",
    "                \"Projection\": {\"ProjectionType\": \"ALL\"},\n",
    "            }\n",
    "        ],\n",
    "        BillingMode=\"PAY_PER_REQUEST\",\n",
    "    )\n",
    "\n",
    "    table.wait_until_exists()"
   ]
  },
  {
   "cell_type": "markdown",
   "id": "e8ca42d2",
   "metadata": {},
   "source": [
    "Next, we run our agent with the updated `gather_evidence` tool and pass the db table name as an environment variable."
   ]
  },
  {
   "cell_type": "code",
   "execution_count": null,
   "id": "cd03eeb1",
   "metadata": {},
   "outputs": [],
   "source": [
    "from strands import Agent\n",
    "from search_pmc import search_pmc_tool\n",
    "from gather_evidence import gather_evidence_tool\n",
    "import os\n",
    "\n",
    "MODEL_ID = \"global.anthropic.claude-sonnet-4-20250514-v1:0\"\n",
    "QUERY = \"How safe and effective are GLP-1 drugs for long term use?\"\n",
    "\n",
    "SYSTEM_PROMPT = \"\"\"You are a life science research assistant. When given a scientific question, follow this process:\n",
    "\n",
    "1. Use search_pmc_tool with max_search_result_count between 200 and 500 and max_filtered_result_count between 10 and 20 to find highly-cited papers. Search broadly first, then narrow down. Use temporal filters like \"last 5 years\"[dp] for recent work. \n",
    "2. Identify the PMC ID value for the most relevant paper, then submit the ID and the query to the gather_evidence_tool.\n",
    "3. Generate a concise answer to the question based on the most relevant evidence, along with PMC ID and URL citations\n",
    "\"\"\"\n",
    "\n",
    "os.environ['EVIDENCE_TABLE_NAME'] = table_name\n",
    "\n",
    "\n",
    "# Initialize your agent\n",
    "pmc_research_agent = Agent(\n",
    "    system_prompt=SYSTEM_PROMPT,\n",
    "    tools=[search_pmc_tool, gather_evidence_tool],\n",
    "    model=MODEL_ID,\n",
    ")\n",
    "\n",
    "# Send a message to the agent\n",
    "response = pmc_research_agent(QUERY)"
   ]
  },
  {
   "cell_type": "markdown",
   "id": "b8c5870c",
   "metadata": {},
   "source": [
    "Let's look at the new records in our db table"
   ]
  },
  {
   "cell_type": "code",
   "execution_count": 5,
   "id": "4be57396",
   "metadata": {},
   "outputs": [
    {
     "data": {
      "text/plain": [
       "[{'evidence': ['**Clinical recommendations for managing adverse events and ensuring safety during long‑term GLP‑1\\u202fRA therapy**\\n\\n1. **Start low and titrate slowly** – Begin with the lowest available dose and increase gradually to the maintenance dose, allowing the gastrointestinal (GI) tract to adapt.\\n\\n2. **Monitor for GI adverse events (AEs)** – During dose escalation, watch for nausea, vomiting, diarrhoea, or constipation. If an AE appears:\\n   * **Mild‑moderate**: keep the current dose, provide supportive measures (dietary adjustments, adequate hydration, small frequent meals, low‑fat foods) and consider anti‑emetic or antidiarrheal agents.\\n   * **Severe or persistent**: pause dose escalation, reduce the dose, or temporarily discontinue until symptoms improve, then resume titration at a slower pace.\\n\\n3. **Preventive strategies**  \\n   * **Nausea/vomiting** – Take medication with food, avoid large meals, limit fatty or spicy foods, and consider prophylactic anti‑emetics if needed.  \\n   * **Diarrhoea** – Maintain fluid and electrolyte balance, use soluble fibre or loperamide as appropriate.  \\n   * **Constipation** – Increase dietary fibre, fluids, and physical activity; use stool softeners or osmotic laxatives if required.\\n\\n4. **Patient education and shared decision‑making** – Inform patients about the expected timing and nature of GI AEs, the importance of adherence, and when to seek medical help.\\n\\n5. **Multidisciplinary follow‑up** – Involve endocrinologists, primary‑care physicians, cardiologists, nephrologists, dietitians, and diabetes nurse educators to address comorbidities (cardiovascular, renal, metabolic) and adjust therapy as needed.\\n\\n6. **Safety monitoring** – Regularly assess glycaemic control, weight loss, renal function, blood pressure, lipid profile, and cardiovascular status, especially in high‑risk patients.\\n\\n7. **Use of clinical tools** – Apply the consensus‑derived infographics and scenario‑based algorithms provided by the expert panel to guide dose adjustments and AE management in everyday practice.\\n\\nThese recommendations aim to minimize the severity and duration of GI AEs, prevent treatment discontinuation, and maintain the long‑term efficacy and safety of GLP‑1\\u202fRA therapy in patients with type\\u202f2 diabetes and/or obesity.',\n",
       "   'The consensus advises patient education, a \"start low, go slow\" dose‑escalation, dietary adjustments, and close monitoring of GI symptoms; rare hepatobiliopancreatic events require caution. Multidisciplinary follow‑up and prompt AE mitigation improve long‑term safety, adherence, and quality of life.',\n",
       "   'Begin with the lowest dose and titrate slowly, following dietary guidelines. If GI adverse events arise, extend or pause dose escalation, use anti‑emetics, prokinetics, probiotics or loperamide, ensure hydration, consider dose reduction, temporary interruption, or switching GLP‑1 RAs, and rule out other causes.',\n",
       "   'The consensus advises educating patients on expected mild‑moderate GI adverse events, providing comprehensive dietary guidance, using flexible dose‑escalation, offering symptomatic treatment, adjusting to intermediate doses in frail or elderly patients (using the Clinical Frailty Scale), and encouraging nutrition and exercise to prevent sarcopenia; no routine dose changes are needed for upper GI disease.',\n",
       "   'Recommend lifestyle measures (increase water, fiber, mobility, stool softeners) and consider GLP‑1RA dose reduction for constipation; monitor for rare pancreatobiliary events, avoid in patients with prior pancreatitis/gallbladder disease, educate on symptoms, and use ursodeoxycholic acid if needed. In older adults, provide nutrition and exercise to prevent sarcopenia, and adjust dosing cautiously. Overall, weight loss is largely independent of GI AEs, but higher doses and longer treatment increase gallbladder risk, so vigilance is required.'],\n",
       "  'question': 'What are the clinical recommendations for managing adverse events and ensuring safety during long-term GLP-1 receptor agonist treatment?',\n",
       "  'toolUseId': 'tooluse_oHm9aj2GT9mOq0jzFGm6rw',\n",
       "  'pmcid': 'PMC9821052',\n",
       "  'citation': 'Gorgojo-Martínez, Juan J., et al. \"Clinical Recommendations to Manage Gastrointestinal Adverse Events in Patients Treated with Glp-1 Receptor Agonists: A Multidisciplinary Expert Consensus.\" *Journal of Clinical Medicine*, vol. 12, no. 1, Jan. 2023, p. 145, https://doi.org/10.3390/jcm12010145.',\n",
       "  'answer': 'The clinical recommendations for managing adverse events and ensuring safety during long-term GLP-1 receptor agonist treatment encompass several key strategies. Patient education forms a fundamental component of the management approach (Gorgojo2023 chunk 2). A \"start low, go slow\" dose-escalation strategy is recommended to minimize adverse events during treatment initiation (Gorgojo2023 chunk 2).\\n\\nDietary adjustments represent another critical intervention for managing treatment-related adverse events (Gorgojo2023 chunk 2). Close monitoring of gastrointestinal symptoms is essential throughout the treatment course, as these represent the most common adverse events associated with GLP-1 receptor agonists (Gorgojo2023 chunk 2).\\n\\nSpecial attention must be given to rare but serious hepatobiliopancreatic events, which require particular caution during treatment (Gorgojo2023 chunk 2). The implementation of multidisciplinary follow-up care is recommended to optimize patient outcomes (Gorgojo2023 chunk 2).\\n\\nPrompt adverse event mitigation strategies are crucial for maintaining treatment safety and effectiveness (Gorgojo2023 chunk 2). These comprehensive management approaches collectively contribute to improved long-term safety profiles, enhanced treatment adherence, and better quality of life for patients receiving GLP-1 receptor agonist therapy (Gorgojo2023 chunk 2).'},\n",
       " {'evidence': ['The review compiles safety data from phase‑2 (GPWB) and phase‑3 (SURPASS\\u202f1‑5) tirzepatide trials, analyzing adverse‑event rates with efficacy estimands and χ² tests, and re‑examining dose‑response and categorical safety outcomes, though it provides limited detail on long‑term GLP‑1RA safety.',\n",
       "   'Meta‑analysis of 7 RCTs (6609 participants) showed tirzepatide (dual GIP/GLP‑1 RA) improved glycaemia and weight without raising hypoglycaemia risk, but caused more gastrointestinal events (mainly nausea) and higher discontinuation at 15\\u202fmg; long‑term cardiovascular safety remains unproven.',\n",
       "   'Phase‑2/3 trials of tirzepatide and other GLP‑1 receptor agonists show no significant increase in major adverse cardiovascular events, unchanged pharmacokinetics in renal or hepatic impairment, and a generally tolerable safety profile, with adverse events largely limited to mild‑to‑moderate gastrointestinal symptoms.',\n",
       "   'Meta‑analysis shows GLP‑1 RAs consistently lower HbA1c and body weight with a favorable safety profile; most common long‑term adverse events are gastrointestinal (nausea, vomiting) and mild hypoglycaemia risk is low. Cardiovascular outcomes are neutral to beneficial, but long‑term data for newer agents like tirzepatide remain pending.',\n",
       "   'Meta‑analysis shows tirzepatide, a dual GIP/GLP‑1 agonist, has dose‑dependent efficacy with a safety profile similar to GLP‑1 RAs: no rise in hypoglycaemia, low serious adverse events, but increased gastrointestinal events (nausea, diarrhoea) and higher discontinuation at 15\\u202fmg.'],\n",
       "  'question': 'What are the long-term safety and adverse event profiles of GLP-1 receptor agonists from clinical trials and meta-analyses?',\n",
       "  'toolUseId': 'tooluse_7XI9CT8uTxmt_nlWOR1H7A',\n",
       "  'pmcid': 'PMC9112245',\n",
       "  'citation': 'Nauck, Michael A., and David A. D\\'Alessio. \"Tirzepatide, a dual GIP/GLP-1 receptor co-agonist for the treatment of type 2 diabetes with unmatched effectiveness regrading glycaemic control and body weight reduction.\" *Cardiovascular Diabetology*, vol. 21, no. 169, 1 Sept. 2022, doi:10.1186/s12933-022-01604-7.',\n",
       "  'answer': 'Based on meta-analysis data, GLP-1 receptor agonists (GLP-1 RAs) demonstrate a favorable long-term safety profile with consistent efficacy in lowering HbA1c and body weight (Karagiannis2022 chunk 7). \\n\\nThe most frequently reported long-term adverse events are gastrointestinal in nature, primarily consisting of nausea and vomiting (Karagiannis2022 chunk 7). These gastrointestinal effects represent the predominant safety concern for patients receiving GLP-1 RA therapy over extended periods.\\n\\nRegarding hypoglycemic risk, GLP-1 RAs exhibit a low propensity for causing mild hypoglycemia, which contributes to their favorable safety profile (Karagiannis2022 chunk 7). This low hypoglycemic risk is particularly advantageous for long-term diabetes management.\\n\\nFrom a cardiovascular safety perspective, outcomes associated with GLP-1 RAs range from neutral to beneficial, indicating no increased cardiovascular risk and potential protective effects (Karagiannis2022 chunk 7). However, comprehensive long-term safety data for newer agents in this class, specifically tirzepatide (a dual GIP/GLP-1 receptor agonist), remain incomplete and are still pending from ongoing clinical trials (Karagiannis2022 chunk 7).\\n\\nOverall, the available meta-analysis evidence supports the long-term safety of GLP-1 RAs, with manageable adverse events primarily limited to gastrointestinal symptoms and minimal hypoglycemic risk.'},\n",
       " {'evidence': ['The consensus provides step‑by‑step guidance for dose escalation, how to adjust or pause dosing when nausea, vomiting, diarrhoea or constipation occur, and practical measures (diet, hydration, anti‑emetics) to minimise these GI events, aiming to maintain long‑term GLP‑1 RA therapy. Clinical data show GI AEs in 40‑70% of patients but overall long‑term safety is favorable, with cardiovascular and renal benefits reported.',\n",
       "   'GI adverse events with GLP‑1 RAs occur in 40‑85% of patients, are usually mild, transient, and resolve after dose escalation. Management emphasizes patient education, low‑starting dose, gradual titration, dietary adjustments, and monitoring; long‑term data show most events are non‑serious with low permanent discontinuation rates, supporting overall safety.',\n",
       "   'Long‑term GLP‑1 RA therapy should start low and titrate slowly, using dietary guidance, extending or pausing dose escalation, temporary dose reduction or interruption, and symptomatic drugs (e.g., domperidone, loperamide, probiotics). Most GI AEs are mild, transient, and resolve within days, with real‑world data confirming overall good long‑term safety and tolerability across agents.',\n",
       "   'Manage GI AEs by encouraging water, fiber, and mobility, using stool softeners, and reducing GLP‑1 RA dose if symptoms worsen; avoid dose reduction only when necessary. Long‑term safety shows low rates of pancreatitis (<1%) and modestly increased gallbladder risk, especially at higher doses and longer exposure.',\n",
       "   'The consensus recommends long‑term GLP‑1 RA patients adopt specific eating habits—slow, small meals, avoid lying down, low‑fat easy‑digestible foods, adequate fluids, no straws, avoid bedtime meals—and keep a food diary. Trials (SUSTAIN, STEP, etc.) report GI adverse events in 5‑58% of users, usually mild and transient, indicating acceptable long‑term safety.'],\n",
       "  'question': 'What are the specific recommendations for managing gastrointestinal adverse events during long-term GLP-1 receptor agonist therapy? What is the clinical experience with long-term safety?',\n",
       "  'toolUseId': 'tooluse_tDdBgDc1S6CFsqyKHBjshQ',\n",
       "  'pmcid': 'PMC9821052',\n",
       "  'citation': 'Gorgojo-Martínez, Juan J., et al. \"Clinical Recommendations to Manage Gastrointestinal Adverse Events in Patients Treated with Glp-1 Receptor Agonists: A Multidisciplinary Expert Consensus.\" *Journal of Clinical Medicine*, vol. 12, no. 1, Jan. 2023, p. 145, doi:10.3390/jcm12010145.',\n",
       "  'answer': 'Based on the available context, specific recommendations for managing gastrointestinal adverse events during GLP-1 receptor agonist (GLP-1 RA) therapy include several key strategies. Management emphasizes comprehensive patient education, initiating treatment with low starting doses, and implementing gradual dose titration to minimize adverse events (Gorgojo2023 chunk 2). Dietary adjustments and ongoing monitoring are also essential components of the management approach (Gorgojo2023 chunk 2).\\n\\nRegarding clinical experience with long-term safety, GI adverse events occur in 40-85% of patients receiving GLP-1 RAs, but these events are typically mild and transient in nature (Gorgojo2023 chunk 2). The adverse events generally resolve following dose escalation, indicating that patients can adapt to therapy over time (Gorgojo2023 chunk 2). \\n\\nLong-term safety data demonstrate a favorable profile, with most events classified as non-serious and low rates of permanent treatment discontinuation (Gorgojo2023 chunk 2). This clinical experience supports the overall safety profile of GLP-1 RAs for long-term use (Gorgojo2023 chunk 2). The combination of appropriate management strategies and the generally mild, self-limiting nature of GI adverse events allows most patients to continue therapy successfully over extended periods.'},\n",
       " {'evidence': ['The excerpt highlights GLP-1RAs’ expanding therapeutic indications, multi‑target and combination strategies, and formulation improvements, but it does not provide specific long‑term safety data, adverse‑event rates, study durations, or detailed clinical outcome results.',\n",
       "   'Long‑term trials of GLP‑1R agonists (e.g., liraglutide at obesity‑approved doses) show sustained weight loss that eventually plateaus, modest increases in reward‑related orbitofrontal activation, and a safety profile consistent with earlier diabetes studies, with no new serious adverse events reported over months‑to‑years of follow‑up.',\n",
       "   'The excerpt mentions a 14‑month Phase\\u202fII trial of liraglutide in early Parkinson’s disease showing modest motor benefits, good safety, and manageable gastrointestinal side effects. Other cited studies are pre‑clinical or short‑term, offering limited long‑term safety or efficacy data.',\n",
       "   'Current GLP‑1‑RA data come mainly from 24‑ to 36‑week trials. Tirzepatide (Phase\\u202fIII) showed superior glucose control, weight loss, and improved cardiovascular risk factors, with mainly mild‑moderate GI side effects. Retatrutide (Phase\\u202fII, 24\\u202fweeks) reduced HbA1c and weight, with only mild‑moderate GI events and no severe hypoglycemia. Orforglipron (Phase\\u202fII, 26\\u202fweeks) achieved 2‑point A1C drops and 10\\u202fkg weight loss, with safety comparable to injectable GLP‑1‑RAs. Long‑term (>1\\u202fyear) safety and efficacy data are still pending.',\n",
       "   'The excerpt lists recent studies of GLP‑1R agonists showing benefits such as tirzepatide lowering 24‑hour BP (2024), liraglutide improving myocardial glucose uptake (2019), neuroprotection in Alzheimer’s/Parkinson’s (2022), growth‑hormone secretion (2023), and innate‑immunity modulation (2022). However, it does not provide explicit long‑term safety data, adverse‑event frequencies, or study durations.'],\n",
       "  'question': 'What are the long-term safety and effectiveness data for GLP-1 receptor agonists, including adverse events, duration of studies, and clinical outcomes?',\n",
       "  'toolUseId': 'tooluse_N-qN138IQnKbKXqnCpKnyA',\n",
       "  'pmcid': 'PMC11408715',\n",
       "  'citation': 'Zheng, Zhikai, et al. \"Glucagon-like peptide-1 receptor: mechanisms and advances in therapy.\" *Signal Transduction and Targeted Therapy*, vol. 9, 18 Sept. 2024, pp. 1-23, https://doi.org/10.1038/s41392-024-01931-z.',\n",
       "  'answer': 'Based on the available context, long-term safety and effectiveness data for GLP-1 receptor agonists (GLP-1-RAs) are currently limited. Current GLP-1-RA data come mainly from 24- to 36-week trials (Zheng2024 chunk 7). This represents a significant gap in our understanding of long-term clinical outcomes, as long-term (>1 year) safety and efficacy data are still pending (Zheng2024 chunk 7).\\n\\nThe available short-term data from newer agents show promising results. Tirzepatide in Phase III trials demonstrated superior glucose control, weight loss, and improved cardiovascular risk factors, with mainly mild-moderate gastrointestinal side effects (Zheng2024 chunk 7). Retatrutide in Phase II 24-week studies reduced HbA1c and weight, with only mild-moderate gastrointestinal events and no severe hypoglycemia (Zheng2024 chunk 7). Orforglipron in Phase II 26-week trials achieved 2-point A1C drops and 10 kg weight loss, with safety comparable to injectable GLP-1-RAs (Zheng2024 chunk 7).\\n\\nHowever, the predominant adverse events reported across these studies were mild-to-moderate gastrointestinal effects (Zheng2024 chunk 7). The absence of comprehensive long-term data represents a critical knowledge gap for understanding the sustained safety profile, durability of therapeutic effects, and potential long-term complications of GLP-1-RA therapy beyond the current 24-36 week study durations.'},\n",
       " {'evidence': ['Long‑term GLP‑1R agonist therapy maintains glycaemic control and promotes weight loss, but studies report a plateau in efficacy linked to increased orbitofrontal reward activation (liraglutide). Common adverse events are gastrointestinal (nausea, vomiting) and rare pancreatitis or gallbladder disease; contraindications include personal/family history of medullary thyroid carcinoma, MEN\\u202f2, and severe GI disorders.',\n",
       "   'Long‑term GLP‑1RA therapy is generally well tolerated, showing neuroprotective and cardiovascular benefits. The primary adverse events reported are manageable gastrointestinal symptoms (e.g., nausea, vomiting). Safety and tolerability were acceptable in clinical trials, though specific contraindications were not detailed in the excerpt.',\n",
       "   '**Long‑term safety profile and effectiveness**\\n\\n- **Effectiveness:**  \\n  - GLP‑1‑based agents (both single‑agonist and dual/triple agonists) consistently improve glycaemic control (↓ HbA1c) and produce substantial weight loss in people with type\\u202f2 diabetes (T2DM) and obesity.  \\n  - In phase‑II/III trials, tirzepatide and the triple agonist retatrutide achieved >2\\u202f% absolute HbA1c reductions and 10‑15\\u202f% body‑weight loss over 24‑36\\u202fweeks, with durable benefits that persist into longer‑term follow‑up.  \\n  – Small‑molecule oral GLP‑1RAs such as orforglipron have shown dose‑dependent weight loss (≈9‑15\\u202f% over 26‑36\\u202fweeks) and A1c reductions (~2\\u202f%) comparable to injectable agents.\\n\\n- **Overall safety:**  \\n  - The safety record of GLP‑1‑RAs is considered acceptable for chronic use.  Most adverse events are mild‑to‑moderate, occur early in therapy, and tend to lessen with continued treatment.  \\n  - No severe hypoglycaemia or drug‑related deaths have been reported in the large phase‑III programs for tirzepatide or retatrutide.  \\n  - Long‑term data (up to several years for approved agents) show sustained efficacy without emergence of new organ‑specific toxicities, but continued pharmacovigilance is required, especially for newer dual/triple agonists.\\n\\n**Main adverse events (AEs)**  \\n\\n| System | Typical AEs (frequency) | Comments |\\n|--------|--------------------------|----------|\\n| **Gastro‑intestinal** | Nausea, vomiting, diarrhoea, constipation, dyspepsia | Most common; usually transient, highest during dose‑escalation; dose‑dependent. |\\n| **Pancreatic** | Mild elevations of amylase/lipase; rare pancreatitis reports | Not prominent in the cited trials, but remains a class‑wide safety focus. |\\n| **Gallbladder** | Biliary colic, cholelithiasis (observed with some GLP‑1RAs) | Not highlighted in the excerpt but recognized in broader literature. |\\n| **Cardiovascular** | Generally neutral or beneficial (improved risk factors) | Tirzepatide showed positive impact on CV risk markers. |\\n| **Injection‑site reactions** (for peptide agents) | Redness, bruising | Minimal; oral small‑molecule agents avoid this. |\\n| **Severe hypoglycaemia** | Rare/absent in trials | GLP‑1RAs alone have low intrinsic hypoglycaemia risk; risk rises when combined with insulin or sulfonylureas. |\\n\\n**Contra‑indications / cautions for long‑term use**\\n\\n1. **Personal or family history of medullary thyroid carcinoma (MTC) or multiple endocrine neoplasia type\\u202f2 (MEN\\u202f2).**  \\n   - GLP‑1RAs are contraindicated because of rodent data showing C‑cell hyperplasia; the label carries this warning for all agents in the class.\\n\\n2. **History of severe gastrointestinal disease** (e.g., gastroparesis, inflammatory bowel disease flare).  \\n   - Because GLP‑1RAs delay gastric emptying, they can exacerbate these conditions.\\n\\n3. **Pancreatitis** (active or recent).  \\n   - Although not definitively proven, clinicians avoid initiating GLP‑1RAs in patients with current pancreatitis.\\n\\n4. **Pregnancy & lactation** (insufficient data).  \\n   - Most agents are not recommended unless benefits outweigh potential risks.\\n\\n5. **Severe renal impairment** (eGFR\\u202f<\\u202f30\\u202fmL/min/1.73\\u202fm²) for certain agents.  \\n   - Dose adjustments or avoidance may be required; some newer agents have more permissive labeling.\\n\\n6. **Concurrent use of drugs that strongly delay gastric emptying** (e.g., high‑dose opioids) may increase GI side‑effects.\\n\\n**Practical take‑aways for clinicians**\\n\\n- **Start low, go slow:** Gradual dose escalation mitigates nausea/vomiting and improves tolerability.  \\n- **Monitor:** Periodic assessment of GI symptoms, pancreatic enzymes (if clinically indicated), and thyroid status in at‑risk patients.  \\n- **Educate patients:** Expect transient nausea; adherence improves once the body adapts.  \\n- **Consider oral small‑molecule GLP‑1RAs** (e.g., orforglipron) for patients averse to injections, but recognize that long‑term safety data are still emerging.  \\n\\nOverall, GLP‑1 receptor agonists provide durable glycaemic and weight benefits with a safety profile dominated by manageable gastrointestinal effects; contraindications are limited to specific endocrine, gastrointestinal, and renal conditions. Ongoing post‑marketing surveillance will continue to refine the long‑term risk‑benefit picture, especially for newer dual‑ and triple‑agonist formulations.',\n",
       "   'The excerpt highlights expanding GLP‑1RA indications and ongoing research, noting that combination therapies (e.g., semaglutide\\u202f+\\u202fcagrilintide) may reduce side‑effects and that new formulations aim to improve compliance, but it does not provide detailed long‑term safety data, specific adverse events, or contraindications.',\n",
       "   'The excerpt highlights GLP-1RAs’ long‑term benefits: endothelial protection via AMPK/Akt/eNOS, anti‑inflammatory effects, blood‑pressure reduction through carotid‑body inhibition, and symptom improvement in HFpEF, but it provides no data on safety, adverse events, or contraindications.'],\n",
       "  'question': 'What is the long-term safety profile and effectiveness of GLP-1 receptor agonists? What are the main adverse events and contraindications for long-term use?',\n",
       "  'toolUseId': 'tooluse_s5y1FO6jRxurC6r3fZriqA',\n",
       "  'pmcid': 'PMC11408715',\n",
       "  'citation': 'Zheng, Zhikai, et al. \"Glucagon-like peptide-1 receptor: mechanisms and advances in therapy.\" *Signal Transduction and Targeted Therapy*, vol. 9, 18 Sept. 2024, pp. 1-23, https://doi.org/10.1038/s41392-024-01931-z.',\n",
       "  'answer': 'Long-term GLP-1 receptor agonist therapy demonstrates sustained efficacy in maintaining glycemic control and promoting weight loss (Zheng2024 chunk 55). However, therapeutic effectiveness may plateau over extended treatment periods, with studies indicating this limitation is associated with increased orbitofrontal reward activation, as observed with liraglutide (Zheng2024 chunk 55).\\n\\nThe adverse event profile is predominantly gastrointestinal, with nausea and vomiting representing the most common side effects (Zheng2024 chunk 55). Serious but rare adverse events include pancreatitis and gallbladder disease (Zheng2024 chunk 55).\\n\\nSeveral absolute contraindications exist for long-term GLP-1 receptor agonist use. Patients with a personal or family history of medullary thyroid carcinoma should not receive these agents (Zheng2024 chunk 55). Multiple endocrine neoplasia type 2 (MEN 2) also represents a contraindication (Zheng2024 chunk 55). Additionally, severe gastrointestinal disorders preclude the use of these medications (Zheng2024 chunk 55).\\n\\nThe safety and efficacy profile supports long-term use in appropriate patients, though careful patient selection is essential given the specific contraindications, particularly those related to thyroid malignancy risk and pre-existing gastrointestinal pathology.'}]"
      ]
     },
     "execution_count": 5,
     "metadata": {},
     "output_type": "execute_result"
    }
   ],
   "source": [
    "dynamodb = boto3.resource(\"dynamodb\")\n",
    "\n",
    "# Check if table exists\n",
    "table_name = \"deep-research-evidence\"\n",
    "table = dynamodb.Table(table_name)\n",
    "\n",
    "records = [record for record in table.scan().get('Items')]\n",
    "records"
   ]
  },
  {
   "cell_type": "markdown",
   "id": "3fd36be0",
   "metadata": {},
   "source": [
    "We can also query for a records from a specific PMC ID"
   ]
  },
  {
   "cell_type": "code",
   "execution_count": null,
   "id": "e972756b",
   "metadata": {},
   "outputs": [],
   "source": [
    "example_pmc_id = records[0][\"pmcid\"]\n",
    "print(example_pmc_id)"
   ]
  },
  {
   "cell_type": "code",
   "execution_count": null,
   "id": "b8ee6ccc",
   "metadata": {},
   "outputs": [],
   "source": [
    "import boto3\n",
    "from boto3.dynamodb.conditions import Key\n",
    "dynamodb = boto3.resource(\"dynamodb\")\n",
    "table_name = \"deep-research-evidence\"\n",
    "table = dynamodb.Table(table_name)\n",
    "\n",
    "\n",
    "response = table.query(\n",
    "    IndexName=\"pmcid-index\", KeyConditionExpression=Key(\"pmcid\").eq(example_pmc_id)\n",
    ")\n",
    "example_db_records = response.get('Items')\n",
    "example_db_records"
   ]
  },
  {
   "cell_type": "markdown",
   "id": "873da989",
   "metadata": {},
   "source": [
    "We'll use our `pmc_research_agent` again later in this notebook"
   ]
  },
  {
   "cell_type": "markdown",
   "id": "5f6cf0ae",
   "metadata": {},
   "source": [
    "## 3. Define Technical Writing Agent\n",
    "\n",
    "Next, we'll build our writing agent. This agent will take in a question and citations and use the Anthropic Claude citations API to add citations. Let's test how this works with the Amazon Bedrock InvokeModel API \n",
    "\n",
    "Ref: https://docs.claude.com/en/docs/build-with-claude/citations"
   ]
  },
  {
   "cell_type": "markdown",
   "id": "31141f9f",
   "metadata": {},
   "source": [
    "### 3.1. Explore Anthropic Claude Citations API"
   ]
  },
  {
   "cell_type": "markdown",
   "id": "393abd8f",
   "metadata": {},
   "source": [
    "Here is an example of how to use the Claude citations API through a Bedrock InvokeModel call"
   ]
  },
  {
   "cell_type": "code",
   "execution_count": null,
   "id": "aa47639b",
   "metadata": {},
   "outputs": [],
   "source": [
    "import boto3\n",
    "import json\n",
    "\n",
    "bedrock_client = boto3.client('bedrock-runtime')\n",
    "\n",
    "example_request = {\n",
    "    \"anthropic_version\": \"bedrock-2023-05-31\",\n",
    "    \"messages\": [\n",
    "        {\n",
    "            \"role\": \"user\",\n",
    "            \"content\": [\n",
    "                {\n",
    "                    \"type\": \"document\",\n",
    "                    \"source\": {\n",
    "                        \"type\": \"text\",\n",
    "                        \"media_type\": \"text/plain\",\n",
    "                        \"data\": \"Based on the available context, specific recommendations for managing gastrointestinal adverse events during GLP-1 receptor agonist (GLP-1 RA) therapy include several key strategies. Management emphasizes comprehensive patient education, initiating treatment with low starting doses, and implementing gradual dose titration to minimize adverse events (Gorgojo2023 chunk 2). Dietary adjustments and ongoing monitoring are also essential components of the management approach (Gorgojo2023 chunk 2).\\n\\nRegarding clinical experience with long-term safety, GI adverse events occur in 40-85% of patients receiving GLP-1 RAs, but these events are typically mild and transient in nature (Gorgojo2023 chunk 2). The adverse events generally resolve following dose escalation, indicating that patients can adapt to therapy over time (Gorgojo2023 chunk 2). \\n\\nLong-term safety data demonstrate a favorable profile, with most events classified as non-serious and low rates of permanent treatment discontinuation (Gorgojo2023 chunk 2). This clinical experience supports the overall safety profile of GLP-1 RAs for long-term use (Gorgojo2023 chunk 2). The combination of appropriate management strategies and the generally mild, self-limiting nature of GI adverse events allows most patients to continue therapy successfully over extended periods.\",\n",
    "                    },\n",
    "                    \"title\": \"PMC9821052\",\n",
    "                    \"citations\": {\"enabled\": True},\n",
    "                },\n",
    "                {\n",
    "                    \"type\": \"document\",\n",
    "                    \"source\": {\n",
    "                        \"type\": \"text\",\n",
    "                        \"media_type\": \"text/plain\",\n",
    "                        \"data\": \"Long-term GLP-1 receptor agonist therapy demonstrates sustained efficacy in maintaining glycemic control and promoting weight loss (Zheng2024 chunk 55). However, therapeutic effectiveness may plateau over extended treatment periods, with studies indicating this limitation is associated with increased orbitofrontal reward activation, as observed with liraglutide (Zheng2024 chunk 55).\\n\\nThe adverse event profile is predominantly gastrointestinal, with nausea and vomiting representing the most common side effects (Zheng2024 chunk 55). Serious but rare adverse events include pancreatitis and gallbladder disease (Zheng2024 chunk 55).\\n\\nSeveral absolute contraindications exist for long-term GLP-1 receptor agonist use. Patients with a personal or family history of medullary thyroid carcinoma should not receive these agents (Zheng2024 chunk 55). Multiple endocrine neoplasia type 2 (MEN 2) also represents a contraindication (Zheng2024 chunk 55). Additionally, severe gastrointestinal disorders preclude the use of these medications (Zheng2024 chunk 55).\\n\\nThe safety and efficacy profile supports long-term use in appropriate patients, though careful patient selection is essential given the specific contraindications, particularly those related to thyroid malignancy risk and pre-existing gastrointestinal pathology.\",\n",
    "                    },\n",
    "                    \"title\": \"PMC9821052\",\n",
    "                    \"citations\": {\"enabled\": True},\n",
    "                },                \n",
    "                {\n",
    "                    \"type\": \"text\",\n",
    "                    \"text\": \"What is the long-term safety profile and effectiveness of GLP-1 receptor agonists? What are the main adverse events and contraindications for long-term use?\",\n",
    "                },\n",
    "            ],\n",
    "        }\n",
    "    ],\n",
    "    \"max_tokens\": 1024,\n",
    "}\n",
    "\n",
    "response = bedrock_client.invoke_model(\n",
    "    modelId=\"us.anthropic.claude-sonnet-4-20250514-v1:0\",\n",
    "    contentType=\"application/json\",\n",
    "    accept=\"application/json\",\n",
    "    body=json.dumps(example_request),\n",
    ")\n",
    "\n",
    "response_body = json.loads(response[\"body\"].read())\n",
    "\n",
    "print(response_body.get('content'))"
   ]
  },
  {
   "cell_type": "markdown",
   "id": "73abb879",
   "metadata": {},
   "source": [
    "We can now format the response into a citated output"
   ]
  },
  {
   "cell_type": "code",
   "execution_count": null,
   "id": "8ef9effd",
   "metadata": {},
   "outputs": [],
   "source": [
    "def print_cited_response(response_content: dict) -> None:\n",
    "    citations = []\n",
    "    for content_item in response_content:\n",
    "        print(content_item.get(\"text\"), end=\"\")\n",
    "        for citation in content_item.get(\"citations\", []):\n",
    "            title = citation.get(\"document_title\")\n",
    "            if title not in citations:\n",
    "                citations.append(title)\n",
    "            print(f\" ({citations.index(title)+1})\", end=\"\")\n",
    "\n",
    "    print(\"\\n\")\n",
    "    print(\"## References\")\n",
    "    for i, title in enumerate(citations, start=1):\n",
    "        print(f\"{i}. https://www.ncbi.nlm.nih.gov/pmc/articles/{title}\")\n",
    "    return None\n",
    "\n",
    "print_cited_response(response_body.get('content'))"
   ]
  },
  {
   "cell_type": "markdown",
   "id": "8ace79ff",
   "metadata": {},
   "source": [
    "Let's try it with an example record from our db. In this case, we're using a custom content type to pass all of the gathered evidence as a single, citable block. We also include the generated answer as additional context (this won't be cited)"
   ]
  },
  {
   "cell_type": "code",
   "execution_count": null,
   "id": "39e3702c",
   "metadata": {},
   "outputs": [],
   "source": [
    "# Defined above\n",
    "example_db_records "
   ]
  },
  {
   "cell_type": "code",
   "execution_count": null,
   "id": "940d2c70",
   "metadata": {},
   "outputs": [],
   "source": [
    "import boto3\n",
    "import json\n",
    "\n",
    "def parse_db_records(records):\n",
    "    \"\"\" Parse records from our DynamoDB table into content blocks for the Anthropic Claude citation API\"\"\"\n",
    "\n",
    "    contents = []\n",
    "    for record in records:\n",
    "        contents.append(\n",
    "            {\n",
    "                \"type\": \"document\",\n",
    "                \"source\": {\n",
    "                    \"type\": \"content\",\n",
    "                    \"content\": [\n",
    "                        # In this case, we join all of the evidence items together.\n",
    "                        {\"type\": \"text\", \"text\": \"\".join(record.get(\"evidence\"))}\n",
    "                        # If we wanted to reference individual chunks, we could also do something like:\n",
    "                        # {\"type\": \"text\", \"text\": evidence} for evidence in record.get(\"evidence\")\n",
    "                    ],\n",
    "                },\n",
    "                \"title\": record.get(\"pmcid\"),\n",
    "                \"context\": record.get(\"answer\"),\n",
    "                \"citations\": {\"enabled\": True},\n",
    "            },\n",
    "        )\n",
    "\n",
    "    contents.append(\n",
    "        {\n",
    "            \"type\": \"text\",\n",
    "            \"text\": \"What is the long-term safety profile and effectiveness of GLP-1 receptor agonists? What are the main adverse events and contraindications for long-term use?\",\n",
    "        },\n",
    "    )\n",
    "    return(contents)\n"
   ]
  },
  {
   "cell_type": "code",
   "execution_count": null,
   "id": "6ff7d0b7",
   "metadata": {},
   "outputs": [],
   "source": [
    "contents = parse_db_records(example_db_records)\n",
    "\n",
    "print(\"Bedrock InvokeModel request contents are:\\n\")\n",
    "for i in contents:\n",
    "    print(i)\n",
    "print()\n",
    "\n",
    "bedrock_client = boto3.client(\"bedrock-runtime\")\n",
    "\n",
    "example_request = {\n",
    "    \"anthropic_version\": \"bedrock-2023-05-31\",\n",
    "    \"messages\": [{\"role\": \"user\", \"content\": contents}],\n",
    "    \"max_tokens\": 1024,\n",
    "}\n",
    "\n",
    "response = bedrock_client.invoke_model(\n",
    "    modelId=\"us.anthropic.claude-sonnet-4-20250514-v1:0\",\n",
    "    contentType=\"application/json\",\n",
    "    accept=\"application/json\",\n",
    "    body=json.dumps(example_request),\n",
    ")\n",
    "\n",
    "response_body = json.loads(response[\"body\"].read())\n",
    "\n",
    "print_cited_response(response_body.get('content'))"
   ]
  },
  {
   "cell_type": "markdown",
   "id": "0cfc2535",
   "metadata": {},
   "source": [
    "Let's try one more time, this time with a system prompt with the writing guidelines we gave to our agent in notebook 3"
   ]
  },
  {
   "cell_type": "code",
   "execution_count": null,
   "id": "3c0e07df",
   "metadata": {},
   "outputs": [],
   "source": [
    "from datetime import date\n",
    "\n",
    "SYSTEM_PROMPT = f\"\"\"\n",
    "The current date is {date.today().strftime('%B %d, %Y')}\n",
    "\n",
    "You are an expert technical writer that answers biomedical questions using scientific literature and other authoritative sources. \n",
    "You maintain user trust by being consistent (dependable or reliable), benevolent (demonstrating good intent, connectedness, and care), transparent (truthful, humble, believable, and open), and competent (capable of answering questions with knowledge and authority).\n",
    "Use a professional tone that prioritizes clarity, without being overly formal.\n",
    "Use precise language to describe technical concepts. For example, use, \"femur\" instead of \"leg bone\" and \"cytotoxic T lymphocyte\" instead of \"killer T cell\".\n",
    "\n",
    "Structure your output as a comprehensive document that clearly communicates your research findings to the reader. Follow these guidelines:\n",
    "\n",
    "Report Structure:\n",
    "\n",
    "- Begin with a concise introduction (1-2 paragraphs) that establishes the research question, explains why it's important, and provides a brief overview of your approach\n",
    "- Organize the main body into sections that correspond to the major research tasks you completed (e.g., \"Literature Review,\" \"Current State Analysis,\" \"Comparative Assessment,\" \"Technical Evaluation,\" etc.)\n",
    "- Conclude with a summary section (1-2 paragraphs) that synthesizes key findings and discusses implications\n",
    "\n",
    "Section Format:\n",
    "\n",
    "- Write each section in paragraph format using 1-3 well-developed paragraphs\n",
    "- Each paragraph should focus on a coherent theme or finding\n",
    "- Use clear topic sentences and logical flow between paragraphs\n",
    "- Integrate information from multiple sources within paragraphs rather than listing findings separately\n",
    "\n",
    "Citation Requirements:\n",
    "\n",
    "- Include proper citations for all factual claims using the format provided in your source materials\n",
    "- Place citations at the end of sentences before punctuation (e.g., \"Recent studies show significant progress in this area .\")\n",
    "- Group related information from the same source under single citations when possible\n",
    "- Ensure every major claim is supported by appropriate source attribution\n",
    "\n",
    "Writing Style:\n",
    "\n",
    "- Use clear, professional academic language appropriate for scientific communication\n",
    "- Use active voice and strong verbs\n",
    "- Synthesize information rather than simply summarizing individual sources\n",
    "- Draw connections between different pieces of information and highlight patterns or contradictions\n",
    "- Focus on analysis and interpretation, not just information presentation\n",
    "- Don't use unnecessary words. Keep sentences short and concise.\n",
    "- WRite for a global audience. Avoid jargon an colloquial language. \n",
    "\n",
    "Quality Standards:\n",
    "\n",
    "- Ensure logical flow between sections and paragraphs\n",
    "- Maintain consistency in terminology and concepts throughout\n",
    "- Provide sufficient detail to support conclusions while remaining concise\n",
    "- End with actionable insights or clear implications based on your research findings\n",
    "\"\"\"\n"
   ]
  },
  {
   "cell_type": "code",
   "execution_count": null,
   "id": "f4d6e92f",
   "metadata": {},
   "outputs": [],
   "source": [
    "bedrock_client = boto3.client(\"bedrock-runtime\")\n",
    "\n",
    "example_request = {\n",
    "    \"anthropic_version\": \"bedrock-2023-05-31\",\n",
    "    \"messages\": [{\"role\": \"user\", \"content\": parse_db_records(example_db_records)}],\n",
    "    \"max_tokens\": 2048,\n",
    "    \"system\": SYSTEM_PROMPT,\n",
    "}\n",
    "\n",
    "response = bedrock_client.invoke_model(\n",
    "    modelId=\"us.anthropic.claude-sonnet-4-20250514-v1:0\",\n",
    "    contentType=\"application/json\",\n",
    "    accept=\"application/json\",\n",
    "    body=json.dumps(example_request),\n",
    ")\n",
    "\n",
    "response_body = json.loads(response[\"body\"].read())\n",
    "\n",
    "print_cited_response(response_body.get(\"content\"))"
   ]
  },
  {
   "cell_type": "markdown",
   "id": "b90d4b1e",
   "metadata": {},
   "source": [
    "### 3.2. Create citation tool"
   ]
  },
  {
   "cell_type": "markdown",
   "id": "2e9f54aa",
   "metadata": {},
   "source": []
  }
 ],
 "metadata": {
  "kernelspec": {
   "display_name": ".venv",
   "language": "python",
   "name": "python3"
  },
  "language_info": {
   "codemirror_mode": {
    "name": "ipython",
    "version": 3
   },
   "file_extension": ".py",
   "mimetype": "text/x-python",
   "name": "python",
   "nbconvert_exporter": "python",
   "pygments_lexer": "ipython3",
   "version": "3.12.9"
  }
 },
 "nbformat": 4,
 "nbformat_minor": 5
}
